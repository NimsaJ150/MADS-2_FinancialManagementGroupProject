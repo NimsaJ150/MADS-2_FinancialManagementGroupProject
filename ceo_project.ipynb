{
 "cells": [
  {
   "cell_type": "markdown",
   "metadata": {
    "collapsed": true
   },
   "source": [
    "# Do CEO's impact firm performance?"
   ]
  },
  {
   "cell_type": "markdown",
   "metadata": {},
   "source": [
    "## 1. Imports"
   ]
  },
  {
   "cell_type": "markdown",
   "metadata": {},
   "source": [
    "### 1.1 Libraries"
   ]
  },
  {
   "cell_type": "code",
   "execution_count": 2,
   "metadata": {},
   "outputs": [],
   "source": [
    "# import libraries\n",
    "import pandas as pd\n",
    "from linearmodels import PanelOLS\n",
    "import statsmodels.api as sm\n",
    "\n",
    "#TODO: SettingWithCopyWarning"
   ]
  },
  {
   "cell_type": "markdown",
   "metadata": {},
   "source": [
    "### 1.2 Data"
   ]
  },
  {
   "cell_type": "code",
   "execution_count": 3,
   "metadata": {},
   "outputs": [],
   "source": [
    "# import data\n",
    "ceo_data_raw = pd.read_csv(\"data/Execucomp_2006_-_2021.csv\")\n",
    "company_data_raw = pd.read_csv(\"data/CCM_Fundamentals_Annual_2006_-_2021_winsorized.csv\")\n",
    "annual_return_price_data_raw = pd.read_csv(\"data/Compustat_annual_return.csv\")\n",
    "annual_stdev_price_data_raw = pd.read_csv(\"data/CRSP_annual_standard_deviation.csv\")"
   ]
  },
  {
   "cell_type": "markdown",
   "metadata": {},
   "source": [
    "## 2. Definitions"
   ]
  },
  {
   "cell_type": "code",
   "execution_count": 4,
   "metadata": {},
   "outputs": [
    {
     "name": "stdout",
     "output_type": "stream",
     "text": [
      "CEO_DATA_RAW: \n",
      " ['EXEC_FULLNAME', 'CO_PER_ROL', 'CONAME', 'CEOANN', 'AGE', 'GVKEY', 'EXECID', 'YEAR', 'BECAMECEO', 'JOINED_CO', 'REJOIN', 'LEFTOFC', 'LEFTCO', 'RELEFT', 'PCEO', 'PCFO', 'TITLE', 'REASON', 'EXEC_LNAME', 'EXEC_FNAME', 'EXEC_MNAME', 'GENDER', 'NAMEPREFIX', 'PAGE', 'CUSIP', 'EXCHANGE', 'ADDRESS', 'CITY', 'STATE', 'ZIP', 'TELE', 'SICDESC', 'NAICSDESC', 'INDDESC', 'SPCODE', 'TICKER', 'SUB_TELE', 'NAICS', 'SPINDEX', 'SIC'] \n",
      "\n",
      "COMPANY_DATA_RAW: \n",
      " ['Unnamed: 0', 'GVKEY', 'LINKPRIM', 'LIID', 'LINKTYPE', 'LPERMNO', 'LPERMCO', 'LINKDT', 'LINKENDDT', 'datadate', 'fyear', 'indfmt', 'consol', 'popsrc', 'datafmt', 'tic', 'cusip', 'conm', 'curcd', 'fyr', 'aqc', 'at', 'capx', 'ceq', 'che', 'csho', 'dlc', 'dltt', 'dp', 'dvc', 'dvp', 'ebit', 'ebitda', 'ibc', 'lt', 'ni', 'oancf', 'ppent', 'rdip', 'sale', 'txdb', 'xad', 'xsga', 'prcc_f', 'ROA', 'Tobins_Q', 'Cash_Flow', 'Leverage', 'Investment', 'Cash_Holdings', 'Div_over_Earn', 'SQ_A', 'Acquisitions', 'ROA_w01_w99', 'Tobins_Q_w95', 'CF_w01_w99', 'Lev_w05_w95', 'Inv_w01_w99', 'CashHold_w95', 'DoE_w01_w99'] \n",
      "\n",
      "ANNUAL_RETURN_PRICE_DATA_RAW: \n",
      " ['LPERMNO', 'fyear', 'prcc_f', 'ajex', 'adjust_prccf', 'prcc_pcchg'] \n",
      "\n",
      "ANNUAL_STDEV_PRICE_DATA_RAW: \n",
      " ['LPERMNO', 'year', 'stand_dev'] \n",
      "\n"
     ]
    }
   ],
   "source": [
    "# all columns in datasets shown as lists\n",
    "print('CEO_DATA_RAW: \\n', list(ceo_data_raw.columns), '\\n')\n",
    "print('COMPANY_DATA_RAW: \\n', list(company_data_raw.columns), '\\n')\n",
    "print('ANNUAL_RETURN_PRICE_DATA_RAW: \\n', list(annual_return_price_data_raw.columns), '\\n')\n",
    "print('ANNUAL_STDEV_PRICE_DATA_RAW: \\n', list(annual_stdev_price_data_raw.columns), '\\n')"
   ]
  },
  {
   "cell_type": "markdown",
   "metadata": {},
   "source": [
    "## 3. Data Overview"
   ]
  },
  {
   "cell_type": "code",
   "execution_count": 5,
   "metadata": {},
   "outputs": [
    {
     "data": {
      "text/plain": "   Unnamed: 0  GVKEY LINKPRIM  LIID LINKTYPE  LPERMNO  LPERMCO    LINKDT  \\\n0           0   1004        P     1       LU    54594    20000  19720424   \n1           1   1004        P     1       LU    54594    20000  19720424   \n2           2   1004        P     1       LU    54594    20000  19720424   \n3           3   1004        P     1       LU    54594    20000  19720424   \n4           4   1004        P     1       LU    54594    20000  19720424   \n\n  LINKENDDT  datadate  ...  Div_over_Earn      SQ_A Acquisitions ROA_w01_w99  \\\n0         E  20070531  ...       0.000000  0.099033            1    0.054944   \n1         E  20080531  ...       0.000000  0.097841            1    0.055171   \n2         E  20090531  ...       0.000000  0.103386            0    0.057096   \n3         E  20100531  ...       0.000000  0.112342            1    0.029731   \n4         E  20110531  ...       0.015195  0.096520            0    0.040984   \n\n  Tobins_Q_w95 CF_w01_w99 Lev_w05_w95 Inv_w01_w99 CashHold_w95  DoE_w01_w99  \n0     1.685582   0.085840    0.663350    0.114892     0.320244     0.000000  \n1     1.119154   0.084946    0.907146    0.097728     0.362234     0.000000  \n2     0.938077   0.087949    0.695064    0.112120     0.458108     0.000000  \n3     1.020605   0.054717    0.585112    0.086281     0.237329     0.000000  \n4     1.125593   0.077733    0.531052    0.298922     0.137477     0.015195  \n\n[5 rows x 60 columns]",
      "text/html": "<div>\n<style scoped>\n    .dataframe tbody tr th:only-of-type {\n        vertical-align: middle;\n    }\n\n    .dataframe tbody tr th {\n        vertical-align: top;\n    }\n\n    .dataframe thead th {\n        text-align: right;\n    }\n</style>\n<table border=\"1\" class=\"dataframe\">\n  <thead>\n    <tr style=\"text-align: right;\">\n      <th></th>\n      <th>Unnamed: 0</th>\n      <th>GVKEY</th>\n      <th>LINKPRIM</th>\n      <th>LIID</th>\n      <th>LINKTYPE</th>\n      <th>LPERMNO</th>\n      <th>LPERMCO</th>\n      <th>LINKDT</th>\n      <th>LINKENDDT</th>\n      <th>datadate</th>\n      <th>...</th>\n      <th>Div_over_Earn</th>\n      <th>SQ_A</th>\n      <th>Acquisitions</th>\n      <th>ROA_w01_w99</th>\n      <th>Tobins_Q_w95</th>\n      <th>CF_w01_w99</th>\n      <th>Lev_w05_w95</th>\n      <th>Inv_w01_w99</th>\n      <th>CashHold_w95</th>\n      <th>DoE_w01_w99</th>\n    </tr>\n  </thead>\n  <tbody>\n    <tr>\n      <th>0</th>\n      <td>0</td>\n      <td>1004</td>\n      <td>P</td>\n      <td>1</td>\n      <td>LU</td>\n      <td>54594</td>\n      <td>20000</td>\n      <td>19720424</td>\n      <td>E</td>\n      <td>20070531</td>\n      <td>...</td>\n      <td>0.000000</td>\n      <td>0.099033</td>\n      <td>1</td>\n      <td>0.054944</td>\n      <td>1.685582</td>\n      <td>0.085840</td>\n      <td>0.663350</td>\n      <td>0.114892</td>\n      <td>0.320244</td>\n      <td>0.000000</td>\n    </tr>\n    <tr>\n      <th>1</th>\n      <td>1</td>\n      <td>1004</td>\n      <td>P</td>\n      <td>1</td>\n      <td>LU</td>\n      <td>54594</td>\n      <td>20000</td>\n      <td>19720424</td>\n      <td>E</td>\n      <td>20080531</td>\n      <td>...</td>\n      <td>0.000000</td>\n      <td>0.097841</td>\n      <td>1</td>\n      <td>0.055171</td>\n      <td>1.119154</td>\n      <td>0.084946</td>\n      <td>0.907146</td>\n      <td>0.097728</td>\n      <td>0.362234</td>\n      <td>0.000000</td>\n    </tr>\n    <tr>\n      <th>2</th>\n      <td>2</td>\n      <td>1004</td>\n      <td>P</td>\n      <td>1</td>\n      <td>LU</td>\n      <td>54594</td>\n      <td>20000</td>\n      <td>19720424</td>\n      <td>E</td>\n      <td>20090531</td>\n      <td>...</td>\n      <td>0.000000</td>\n      <td>0.103386</td>\n      <td>0</td>\n      <td>0.057096</td>\n      <td>0.938077</td>\n      <td>0.087949</td>\n      <td>0.695064</td>\n      <td>0.112120</td>\n      <td>0.458108</td>\n      <td>0.000000</td>\n    </tr>\n    <tr>\n      <th>3</th>\n      <td>3</td>\n      <td>1004</td>\n      <td>P</td>\n      <td>1</td>\n      <td>LU</td>\n      <td>54594</td>\n      <td>20000</td>\n      <td>19720424</td>\n      <td>E</td>\n      <td>20100531</td>\n      <td>...</td>\n      <td>0.000000</td>\n      <td>0.112342</td>\n      <td>1</td>\n      <td>0.029731</td>\n      <td>1.020605</td>\n      <td>0.054717</td>\n      <td>0.585112</td>\n      <td>0.086281</td>\n      <td>0.237329</td>\n      <td>0.000000</td>\n    </tr>\n    <tr>\n      <th>4</th>\n      <td>4</td>\n      <td>1004</td>\n      <td>P</td>\n      <td>1</td>\n      <td>LU</td>\n      <td>54594</td>\n      <td>20000</td>\n      <td>19720424</td>\n      <td>E</td>\n      <td>20110531</td>\n      <td>...</td>\n      <td>0.015195</td>\n      <td>0.096520</td>\n      <td>0</td>\n      <td>0.040984</td>\n      <td>1.125593</td>\n      <td>0.077733</td>\n      <td>0.531052</td>\n      <td>0.298922</td>\n      <td>0.137477</td>\n      <td>0.015195</td>\n    </tr>\n  </tbody>\n</table>\n<p>5 rows × 60 columns</p>\n</div>"
     },
     "execution_count": 5,
     "metadata": {},
     "output_type": "execute_result"
    }
   ],
   "source": [
    "company_data_raw.head()"
   ]
  },
  {
   "cell_type": "code",
   "execution_count": 6,
   "metadata": {},
   "outputs": [
    {
     "data": {
      "text/plain": "         EXEC_FULLNAME  CO_PER_ROL               CONAME CEOANN   AGE  GVKEY  \\\n0  A. Alexander Rhodes       52774  TAILORED BRANDS INC    NaN  56.0  25167   \n1  A. Alexander Rhodes       52774  TAILORED BRANDS INC    NaN  57.0  25167   \n2  A. Alexander Rhodes       52774  TAILORED BRANDS INC    NaN  58.0  25167   \n3  A. Alexander Rhodes       52774  TAILORED BRANDS INC    NaN  59.0  25167   \n4  A. Alexander Rhodes       52774  TAILORED BRANDS INC    NaN  60.0  25167   \n\n   EXECID  YEAR  BECAMECEO  JOINED_CO  ...          TELE  \\\n0   49280  2015        NaN        NaN  ...  281 776 7000   \n1   49280  2016        NaN        NaN  ...  281 776 7000   \n2   49280  2017        NaN        NaN  ...  281 776 7000   \n3   49280  2018        NaN        NaN  ...  281 776 7000   \n4   49280  2019        NaN        NaN  ...  281 776 7000   \n\n                        SICDESC              NAICSDESC         INDDESC SPCODE  \\\n0  APPAREL AND ACCESSORY STORES  Men's Clothing Stores  Apparel Retail     EX   \n1  APPAREL AND ACCESSORY STORES  Men's Clothing Stores  Apparel Retail     EX   \n2  APPAREL AND ACCESSORY STORES  Men's Clothing Stores  Apparel Retail     EX   \n3  APPAREL AND ACCESSORY STORES  Men's Clothing Stores  Apparel Retail     EX   \n4  APPAREL AND ACCESSORY STORES  Men's Clothing Stores  Apparel Retail     EX   \n\n  TICKER SUB_TELE   NAICS SPINDEX   SIC  \n0  TLRDQ    281.0  448110  2550.0  5600  \n1  TLRDQ    281.0  448110  2550.0  5600  \n2  TLRDQ    281.0  448110  2550.0  5600  \n3  TLRDQ    281.0  448110  2550.0  5600  \n4  TLRDQ    281.0  448110  2550.0  5600  \n\n[5 rows x 40 columns]",
      "text/html": "<div>\n<style scoped>\n    .dataframe tbody tr th:only-of-type {\n        vertical-align: middle;\n    }\n\n    .dataframe tbody tr th {\n        vertical-align: top;\n    }\n\n    .dataframe thead th {\n        text-align: right;\n    }\n</style>\n<table border=\"1\" class=\"dataframe\">\n  <thead>\n    <tr style=\"text-align: right;\">\n      <th></th>\n      <th>EXEC_FULLNAME</th>\n      <th>CO_PER_ROL</th>\n      <th>CONAME</th>\n      <th>CEOANN</th>\n      <th>AGE</th>\n      <th>GVKEY</th>\n      <th>EXECID</th>\n      <th>YEAR</th>\n      <th>BECAMECEO</th>\n      <th>JOINED_CO</th>\n      <th>...</th>\n      <th>TELE</th>\n      <th>SICDESC</th>\n      <th>NAICSDESC</th>\n      <th>INDDESC</th>\n      <th>SPCODE</th>\n      <th>TICKER</th>\n      <th>SUB_TELE</th>\n      <th>NAICS</th>\n      <th>SPINDEX</th>\n      <th>SIC</th>\n    </tr>\n  </thead>\n  <tbody>\n    <tr>\n      <th>0</th>\n      <td>A. Alexander Rhodes</td>\n      <td>52774</td>\n      <td>TAILORED BRANDS INC</td>\n      <td>NaN</td>\n      <td>56.0</td>\n      <td>25167</td>\n      <td>49280</td>\n      <td>2015</td>\n      <td>NaN</td>\n      <td>NaN</td>\n      <td>...</td>\n      <td>281 776 7000</td>\n      <td>APPAREL AND ACCESSORY STORES</td>\n      <td>Men's Clothing Stores</td>\n      <td>Apparel Retail</td>\n      <td>EX</td>\n      <td>TLRDQ</td>\n      <td>281.0</td>\n      <td>448110</td>\n      <td>2550.0</td>\n      <td>5600</td>\n    </tr>\n    <tr>\n      <th>1</th>\n      <td>A. Alexander Rhodes</td>\n      <td>52774</td>\n      <td>TAILORED BRANDS INC</td>\n      <td>NaN</td>\n      <td>57.0</td>\n      <td>25167</td>\n      <td>49280</td>\n      <td>2016</td>\n      <td>NaN</td>\n      <td>NaN</td>\n      <td>...</td>\n      <td>281 776 7000</td>\n      <td>APPAREL AND ACCESSORY STORES</td>\n      <td>Men's Clothing Stores</td>\n      <td>Apparel Retail</td>\n      <td>EX</td>\n      <td>TLRDQ</td>\n      <td>281.0</td>\n      <td>448110</td>\n      <td>2550.0</td>\n      <td>5600</td>\n    </tr>\n    <tr>\n      <th>2</th>\n      <td>A. Alexander Rhodes</td>\n      <td>52774</td>\n      <td>TAILORED BRANDS INC</td>\n      <td>NaN</td>\n      <td>58.0</td>\n      <td>25167</td>\n      <td>49280</td>\n      <td>2017</td>\n      <td>NaN</td>\n      <td>NaN</td>\n      <td>...</td>\n      <td>281 776 7000</td>\n      <td>APPAREL AND ACCESSORY STORES</td>\n      <td>Men's Clothing Stores</td>\n      <td>Apparel Retail</td>\n      <td>EX</td>\n      <td>TLRDQ</td>\n      <td>281.0</td>\n      <td>448110</td>\n      <td>2550.0</td>\n      <td>5600</td>\n    </tr>\n    <tr>\n      <th>3</th>\n      <td>A. Alexander Rhodes</td>\n      <td>52774</td>\n      <td>TAILORED BRANDS INC</td>\n      <td>NaN</td>\n      <td>59.0</td>\n      <td>25167</td>\n      <td>49280</td>\n      <td>2018</td>\n      <td>NaN</td>\n      <td>NaN</td>\n      <td>...</td>\n      <td>281 776 7000</td>\n      <td>APPAREL AND ACCESSORY STORES</td>\n      <td>Men's Clothing Stores</td>\n      <td>Apparel Retail</td>\n      <td>EX</td>\n      <td>TLRDQ</td>\n      <td>281.0</td>\n      <td>448110</td>\n      <td>2550.0</td>\n      <td>5600</td>\n    </tr>\n    <tr>\n      <th>4</th>\n      <td>A. Alexander Rhodes</td>\n      <td>52774</td>\n      <td>TAILORED BRANDS INC</td>\n      <td>NaN</td>\n      <td>60.0</td>\n      <td>25167</td>\n      <td>49280</td>\n      <td>2019</td>\n      <td>NaN</td>\n      <td>NaN</td>\n      <td>...</td>\n      <td>281 776 7000</td>\n      <td>APPAREL AND ACCESSORY STORES</td>\n      <td>Men's Clothing Stores</td>\n      <td>Apparel Retail</td>\n      <td>EX</td>\n      <td>TLRDQ</td>\n      <td>281.0</td>\n      <td>448110</td>\n      <td>2550.0</td>\n      <td>5600</td>\n    </tr>\n  </tbody>\n</table>\n<p>5 rows × 40 columns</p>\n</div>"
     },
     "execution_count": 6,
     "metadata": {},
     "output_type": "execute_result"
    }
   ],
   "source": [
    "ceo_data_raw.head()"
   ]
  },
  {
   "cell_type": "code",
   "execution_count": 7,
   "metadata": {},
   "outputs": [
    {
     "data": {
      "text/plain": "   LPERMNO   fyear  prcc_f  ajex  adjust_prccf  prcc_pcchg\n0    54594  2007.0   19.28   1.0         19.28   -0.406769\n1    54594  2008.0   14.70   1.0         14.70   -0.237552\n2    54594  2009.0   19.70   1.0         19.70    0.340136\n3    54594  2010.0   26.39   1.0         26.39    0.339594\n4    54594  2011.0   12.05   1.0         12.05   -0.543388",
      "text/html": "<div>\n<style scoped>\n    .dataframe tbody tr th:only-of-type {\n        vertical-align: middle;\n    }\n\n    .dataframe tbody tr th {\n        vertical-align: top;\n    }\n\n    .dataframe thead th {\n        text-align: right;\n    }\n</style>\n<table border=\"1\" class=\"dataframe\">\n  <thead>\n    <tr style=\"text-align: right;\">\n      <th></th>\n      <th>LPERMNO</th>\n      <th>fyear</th>\n      <th>prcc_f</th>\n      <th>ajex</th>\n      <th>adjust_prccf</th>\n      <th>prcc_pcchg</th>\n    </tr>\n  </thead>\n  <tbody>\n    <tr>\n      <th>0</th>\n      <td>54594</td>\n      <td>2007.0</td>\n      <td>19.28</td>\n      <td>1.0</td>\n      <td>19.28</td>\n      <td>-0.406769</td>\n    </tr>\n    <tr>\n      <th>1</th>\n      <td>54594</td>\n      <td>2008.0</td>\n      <td>14.70</td>\n      <td>1.0</td>\n      <td>14.70</td>\n      <td>-0.237552</td>\n    </tr>\n    <tr>\n      <th>2</th>\n      <td>54594</td>\n      <td>2009.0</td>\n      <td>19.70</td>\n      <td>1.0</td>\n      <td>19.70</td>\n      <td>0.340136</td>\n    </tr>\n    <tr>\n      <th>3</th>\n      <td>54594</td>\n      <td>2010.0</td>\n      <td>26.39</td>\n      <td>1.0</td>\n      <td>26.39</td>\n      <td>0.339594</td>\n    </tr>\n    <tr>\n      <th>4</th>\n      <td>54594</td>\n      <td>2011.0</td>\n      <td>12.05</td>\n      <td>1.0</td>\n      <td>12.05</td>\n      <td>-0.543388</td>\n    </tr>\n  </tbody>\n</table>\n</div>"
     },
     "execution_count": 7,
     "metadata": {},
     "output_type": "execute_result"
    }
   ],
   "source": [
    "annual_return_price_data_raw.head()"
   ]
  },
  {
   "cell_type": "code",
   "execution_count": 8,
   "metadata": {},
   "outputs": [
    {
     "data": {
      "text/plain": "   LPERMNO  year  stand_dev\n0    10001  2006   0.024685\n1    10001  2007   0.019516\n2    10001  2008   0.045596\n3    10001  2009   0.026645\n4    10001  2010   0.016674",
      "text/html": "<div>\n<style scoped>\n    .dataframe tbody tr th:only-of-type {\n        vertical-align: middle;\n    }\n\n    .dataframe tbody tr th {\n        vertical-align: top;\n    }\n\n    .dataframe thead th {\n        text-align: right;\n    }\n</style>\n<table border=\"1\" class=\"dataframe\">\n  <thead>\n    <tr style=\"text-align: right;\">\n      <th></th>\n      <th>LPERMNO</th>\n      <th>year</th>\n      <th>stand_dev</th>\n    </tr>\n  </thead>\n  <tbody>\n    <tr>\n      <th>0</th>\n      <td>10001</td>\n      <td>2006</td>\n      <td>0.024685</td>\n    </tr>\n    <tr>\n      <th>1</th>\n      <td>10001</td>\n      <td>2007</td>\n      <td>0.019516</td>\n    </tr>\n    <tr>\n      <th>2</th>\n      <td>10001</td>\n      <td>2008</td>\n      <td>0.045596</td>\n    </tr>\n    <tr>\n      <th>3</th>\n      <td>10001</td>\n      <td>2009</td>\n      <td>0.026645</td>\n    </tr>\n    <tr>\n      <th>4</th>\n      <td>10001</td>\n      <td>2010</td>\n      <td>0.016674</td>\n    </tr>\n  </tbody>\n</table>\n</div>"
     },
     "execution_count": 8,
     "metadata": {},
     "output_type": "execute_result"
    }
   ],
   "source": [
    "annual_stdev_price_data_raw.head()"
   ]
  },
  {
   "cell_type": "markdown",
   "metadata": {},
   "source": [
    "## 4. Data Cleaning"
   ]
  },
  {
   "cell_type": "markdown",
   "metadata": {},
   "source": [
    "### 4.1 Drop Columns"
   ]
  },
  {
   "cell_type": "code",
   "execution_count": 9,
   "metadata": {},
   "outputs": [],
   "source": [
    "company_cols = ['GVKEY', 'LPERMNO', 'prcc_f', 'fyear', 'ROA_w01_w99', 'Tobins_Q_w95', 'CF_w01_w99',\n",
    "                'Lev_w05_w95', 'Inv_w01_w99', 'CashHold_w95', 'DoE_w01_w99', 'Acquisitions']\n",
    "\n",
    "ceo_cols = ['GVKEY', 'CO_PER_ROL', 'YEAR', 'AGE', 'BECAMECEO', 'TITLE', 'CEOANN', 'LEFTOFC', 'LEFTCO', 'JOINED_CO',\n",
    "            'CONAME', 'EXECID']\n",
    "\n",
    "annual_return_cols = ['LPERMNO', 'fyear', 'prcc_pcchg']\n",
    "annual_stdev_cols = ['LPERMNO', 'year', 'stand_dev']\n",
    "\n",
    "company_data = company_data_raw[company_cols]\n",
    "ceo_data = ceo_data_raw[ceo_cols]\n",
    "annual_return_price_data = annual_return_price_data_raw[annual_return_cols]\n",
    "annual_stdev_price_data = annual_stdev_price_data_raw[annual_stdev_cols]"
   ]
  },
  {
   "cell_type": "markdown",
   "metadata": {},
   "source": [
    "### 4.2 Filter Data"
   ]
  },
  {
   "cell_type": "code",
   "execution_count": 10,
   "metadata": {
    "pycharm": {
     "name": "#%%\n"
    }
   },
   "outputs": [],
   "source": [
    "# filter data\n",
    "ceo_data = ceo_data[ceo_data.CEOANN == \"CEO\"] # extracting only CEOs from manager data\n",
    "# drop age with nans - about 100 rows removed\n",
    "ceo_data = ceo_data[ceo_data['AGE'].notna()]"
   ]
  },
  {
   "cell_type": "markdown",
   "metadata": {},
   "source": [
    "### 4.3 Rename Columns"
   ]
  },
  {
   "cell_type": "code",
   "execution_count": 11,
   "metadata": {
    "pycharm": {
     "name": "#%%\n"
    }
   },
   "outputs": [
    {
     "name": "stderr",
     "output_type": "stream",
     "text": [
      "/Users/jasmincapka/IdeaProjects/MADS/venv/lib/python3.9/site-packages/pandas/core/frame.py:5034: SettingWithCopyWarning: \n",
      "A value is trying to be set on a copy of a slice from a DataFrame\n",
      "\n",
      "See the caveats in the documentation: https://pandas.pydata.org/pandas-docs/stable/user_guide/indexing.html#returning-a-view-versus-a-copy\n",
      "  return super().rename(\n"
     ]
    }
   ],
   "source": [
    "# rename y's\n",
    "annual_return_price_data.rename(columns={'prcc_pcchg': 'avg_return'}, inplace=True)\n",
    "annual_stdev_price_data.rename(columns={'stand_dev': 'sd_return'}, inplace=True)"
   ]
  },
  {
   "cell_type": "markdown",
   "metadata": {},
   "source": [
    "## 5. Feature engineering"
   ]
  },
  {
   "cell_type": "markdown",
   "metadata": {},
   "source": [
    "### 5.1 Join Data "
   ]
  },
  {
   "cell_type": "code",
   "execution_count": 12,
   "metadata": {},
   "outputs": [],
   "source": [
    "# join data\n",
    "data_joined = company_data.join(annual_return_price_data.set_index(['LPERMNO', 'fyear']), on=['LPERMNO', 'fyear'], how='inner',\n",
    "                                lsuffix='',\n",
    "                                rsuffix='', sort=False)\n",
    "\n",
    "data_joined = data_joined.join(annual_stdev_price_data.set_index(['LPERMNO', 'year']), on=['LPERMNO', 'fyear'], how='inner',\n",
    "                                lsuffix='',\n",
    "                                rsuffix='', sort=False)\n",
    "\n",
    "data_joined = data_joined.join(ceo_data.set_index(['GVKEY', 'YEAR']), on=['GVKEY', 'fyear'], how='inner', lsuffix='',\n",
    "                               rsuffix='', sort=False)"
   ]
  },
  {
   "cell_type": "code",
   "execution_count": 13,
   "metadata": {},
   "outputs": [],
   "source": [
    "# removing the data for 2021 - a lot of data is not available yet\n",
    "data_joined = data_joined[data_joined[\"fyear\"] != 2021]"
   ]
  },
  {
   "cell_type": "markdown",
   "metadata": {},
   "source": [
    "### 5.2 CEO Position Dummy Variables"
   ]
  },
  {
   "cell_type": "code",
   "execution_count": 14,
   "metadata": {},
   "outputs": [],
   "source": [
    "#founder - 1, otherwise 0\n",
    "if_founder = data_joined['TITLE'].str.contains('founder')\n",
    "data_joined['dummy_founder'] = if_founder"
   ]
  },
  {
   "cell_type": "code",
   "execution_count": 15,
   "metadata": {},
   "outputs": [],
   "source": [
    "# president - 1, otherwise 0\n",
    "if_president = data_joined['TITLE'].str.contains('president')\n",
    "data_joined['dummy_president'] = if_founder"
   ]
  },
  {
   "cell_type": "code",
   "execution_count": 16,
   "metadata": {},
   "outputs": [],
   "source": [
    "# chairman - 1, otherwise 0\n",
    "if_chairman = data_joined['TITLE'].str.contains('chairman')\n",
    "data_joined['dummy_chairman'] = if_founder"
   ]
  },
  {
   "cell_type": "code",
   "execution_count": 17,
   "metadata": {},
   "outputs": [],
   "source": [
    "# chairman + president - 1, otherwise 0\n",
    "data_joined['dummy_chairman_president'] = data_joined['TITLE'].str.contains('|'.join(['chairmam', 'president']))"
   ]
  },
  {
   "cell_type": "code",
   "execution_count": 18,
   "metadata": {},
   "outputs": [],
   "source": [
    "# drop columns only important for joining\n",
    "data_joined.drop(['TITLE'], axis=1, inplace=True)"
   ]
  },
  {
   "cell_type": "code",
   "execution_count": 19,
   "metadata": {},
   "outputs": [
    {
     "data": {
      "text/plain": "1        False\n2        False\n3        False\n4        False\n5        False\n         ...  \n78281    False\n78329    False\n78330    False\n78340    False\n78341    False\nName: dummy_chairman_president, Length: 21781, dtype: bool"
     },
     "execution_count": 19,
     "metadata": {},
     "output_type": "execute_result"
    }
   ],
   "source": [
    "# expect CEOs with nan in the title column to be only CEO and having no other position\n",
    "data_joined['dummy_founder'].fillna(False)\n",
    "data_joined['dummy_president'].fillna(False)\n",
    "data_joined['dummy_chairman'].fillna(False)\n",
    "data_joined['dummy_chairman_president'].fillna(False)"
   ]
  },
  {
   "cell_type": "markdown",
   "metadata": {},
   "source": [
    "### 5.3 Fixing the NaN Date Values"
   ]
  },
  {
   "cell_type": "code",
   "execution_count": 20,
   "metadata": {},
   "outputs": [],
   "source": [
    "# if ceo has Nan for BECAMECEO we set it to JOIN_CO if it exists\n",
    "# before doing that, we made sure that the value didn't exist in some other record from another year\n",
    "def fix_becameceo(row):\n",
    "    if pd.isnull(row['BECAMECEO']):\n",
    "        return row['JOINED_CO']\n",
    "    return row['BECAMECEO']"
   ]
  },
  {
   "cell_type": "code",
   "execution_count": 21,
   "metadata": {},
   "outputs": [],
   "source": [
    "# setting the start date as the JOINED_CO to minimize Nan values\n",
    "data_joined['BECAMECEO'] = data_joined.apply(lambda row: fix_becameceo(row), axis=1)"
   ]
  },
  {
   "cell_type": "code",
   "execution_count": 22,
   "metadata": {},
   "outputs": [],
   "source": [
    "# if ceo has Nan for LEFTOFC, we set it to 31.12.2020 - we assume the person is still the CEO of the company\n",
    "# we excluded 2021 data, that's why we used 2020\n",
    "def fix_leftofc(row):\n",
    "    if pd.isnull(row['LEFTOFC']):\n",
    "        return '20201231'\n",
    "    return row['LEFTOFC']"
   ]
  },
  {
   "cell_type": "code",
   "execution_count": 23,
   "metadata": {},
   "outputs": [],
   "source": [
    "data_joined['LEFTOFC'] = data_joined.apply(lambda row: fix_leftofc(row), axis=1)"
   ]
  },
  {
   "cell_type": "code",
   "execution_count": 24,
   "metadata": {},
   "outputs": [
    {
     "name": "stdout",
     "output_type": "stream",
     "text": [
      "0\n"
     ]
    }
   ],
   "source": [
    "# checking Nan values in LEFTOFC\n",
    "print(data_joined['LEFTOFC'].isnull().sum()) # 0 Nan"
   ]
  },
  {
   "cell_type": "markdown",
   "metadata": {},
   "source": [
    "### 5.4 Filtering\n",
    "\n",
    "Three year requirement for managers"
   ]
  },
  {
   "cell_type": "code",
   "execution_count": 25,
   "metadata": {},
   "outputs": [],
   "source": [
    "# changing the column of type string to DateTime type, to easily calculate CEO tenure\n",
    "data_joined['BECAMECEO'] = pd.to_datetime(data_joined['BECAMECEO'], format='%Y%m%d')\n",
    "data_joined['LEFTOFC'] = pd.to_datetime(data_joined['LEFTOFC'], format='%Y%m%d')"
   ]
  },
  {
   "cell_type": "code",
   "execution_count": 26,
   "metadata": {},
   "outputs": [],
   "source": [
    "data_joined['3Y_THRESH'] = data_joined['LEFTOFC'].dt.year - data_joined['BECAMECEO'].dt.year\n",
    "data_joined = data_joined[data_joined['3Y_THRESH'] >= 3]  # no change because all ceo's so far have stayed>= 3 yr\n",
    "# drop column used for 3yr requirement\n",
    "data_joined.drop(['3Y_THRESH'], axis=1, inplace=True)"
   ]
  },
  {
   "cell_type": "markdown",
   "source": [
    "Two company information for managers"
   ],
   "metadata": {
    "collapsed": false
   }
  },
  {
   "cell_type": "code",
   "execution_count": 27,
   "metadata": {},
   "outputs": [],
   "source": [
    "# for each EXEC ID - at least 2 distinct GVKEY\n",
    "tempdf = data_joined\n",
    "var = data_joined[data_joined['EXECID'] == 17580]  # manually checking"
   ]
  },
  {
   "cell_type": "code",
   "execution_count": 28,
   "outputs": [],
   "source": [
    "# set number of companies as ceo_group feature\n",
    "ceo_group = data_joined.groupby('EXECID')['GVKEY'].nunique() # not enough data\n",
    "ceo_group.name = 'ceo_group'\n",
    "\n",
    "data_joined = data_joined.join(ceo_group, on=['EXECID'], how='inner', lsuffix='',\n",
    "                               rsuffix='', sort=False)"
   ],
   "metadata": {
    "collapsed": false,
    "pycharm": {
     "name": "#%%\n"
    }
   }
  },
  {
   "cell_type": "markdown",
   "source": [
    "CEO tenure"
   ],
   "metadata": {
    "collapsed": false
   }
  },
  {
   "cell_type": "code",
   "execution_count": 29,
   "metadata": {
    "collapsed": false,
    "pycharm": {
     "name": "#%%\n"
    }
   },
   "outputs": [],
   "source": [
    "# how many days as CEO - ceo_tenure\n",
    "data_joined['ceo_tenure'] = (data_joined['LEFTOFC'] - data_joined['BECAMECEO']).dt.days"
   ]
  },
  {
   "cell_type": "markdown",
   "source": [
    "### 5.5 Final prep"
   ],
   "metadata": {
    "collapsed": false
   }
  },
  {
   "cell_type": "code",
   "execution_count": 30,
   "metadata": {},
   "outputs": [],
   "source": [
    "# drop columns only important for calculating date related attributes\n",
    "data_joined.drop(\n",
    "    ['JOINED_CO', 'BECAMECEO', 'LEFTCO', 'LEFTOFC', 'CO_PER_ROL', 'CEOANN', 'CONAME', 'LPERMNO', 'prcc_f', 'EXECID'],\n",
    "    axis=1,\n",
    "    inplace=True)"
   ]
  },
  {
   "cell_type": "code",
   "execution_count": 31,
   "metadata": {},
   "outputs": [
    {
     "data": {
      "text/plain": "(20077, 19)"
     },
     "execution_count": 31,
     "metadata": {},
     "output_type": "execute_result"
    }
   ],
   "source": [
    "data_joined.shape"
   ]
  },
  {
   "cell_type": "code",
   "execution_count": 32,
   "metadata": {},
   "outputs": [
    {
     "data": {
      "text/plain": "GVKEY                          0\nfyear                          0\nROA_w01_w99                    1\nTobins_Q_w95                   2\nCF_w01_w99                  1556\nLev_w05_w95                   48\nInv_w01_w99                 1402\nCashHold_w95                1339\nDoE_w01_w99                 1328\nAcquisitions                   0\navg_return                     0\nsd_return                      0\nAGE                            0\ndummy_founder                 40\ndummy_president               40\ndummy_chairman                40\ndummy_chairman_president      40\nceo_group                      0\nceo_tenure                     0\ndtype: int64"
     },
     "execution_count": 32,
     "metadata": {},
     "output_type": "execute_result"
    }
   ],
   "source": [
    "# checking null/nan values for each column\n",
    "data_joined.isnull().sum(axis=0)"
   ]
  },
  {
   "cell_type": "code",
   "execution_count": 33,
   "metadata": {},
   "outputs": [],
   "source": [
    "# removing nan rows in the end\n",
    "data_joined.dropna(inplace=True)"
   ]
  },
  {
   "cell_type": "code",
   "execution_count": 34,
   "metadata": {},
   "outputs": [
    {
     "data": {
      "text/plain": "(18104, 19)"
     },
     "execution_count": 34,
     "metadata": {},
     "output_type": "execute_result"
    }
   ],
   "source": [
    "# the final size of data_joined\n",
    "data_joined.shape"
   ]
  },
  {
   "cell_type": "markdown",
   "metadata": {},
   "source": [
    "## 6. Modelling"
   ]
  },
  {
   "cell_type": "markdown",
   "metadata": {},
   "source": [
    "### 6.1 Models for predicting avg_return (all vars)"
   ]
  },
  {
   "cell_type": "code",
   "execution_count": 35,
   "metadata": {},
   "outputs": [
    {
     "name": "stderr",
     "output_type": "stream",
     "text": [
      "/Users/jasmincapka/IdeaProjects/MADS/venv/lib/python3.9/site-packages/linearmodels/panel/model.py:1831: AbsorbingEffectWarning: \n",
      "Variables have been fully absorbed and have removed from the regression:\n",
      "\n",
      "dummy_president, dummy_chairman\n",
      "\n",
      "  warnings.warn(\n"
     ]
    },
    {
     "data": {
      "text/plain": "                          PanelOLS Estimation Summary                           \n================================================================================\nDep. Variable:             avg_return   R-squared:                        0.0156\nEstimator:                   PanelOLS   R-squared (Between):             -0.0283\nNo. Observations:               18104   R-squared (Within):               0.0206\nDate:                Fri, Mar 18 2022   R-squared (Overall):             -0.0043\nTime:                        15:51:36   Log-likelihood                -2.715e+04\nCov. Estimator:            Unadjusted                                           \n                                        F-statistic:                      19.770\nEntities:                        1834   P-value                           0.0000\nAvg Obs:                       9.8713   Distribution:                F(13,16244)\nMin Obs:                       1.0000                                           \nMax Obs:                       38.000   F-statistic (robust):             19.770\n                                        P-value                           0.0000\nTime periods:                      14   Distribution:                F(13,16244)\nAvg Obs:                       1293.1                                           \nMin Obs:                       810.00                                           \nMax Obs:                       1508.0                                           \n                                                                                \n                                    Parameter Estimates                                     \n============================================================================================\n                          Parameter  Std. Err.     T-stat    P-value    Lower CI    Upper CI\n--------------------------------------------------------------------------------------------\nconst                        0.0443     0.1605     0.2763     0.7823     -0.2702      0.3589\nROA_w01_w99                  0.6278     0.3533     1.7769     0.0756     -0.0647      1.3204\nTobins_Q_w95                 0.2300     0.0182     12.658     0.0000      0.1944      0.2656\nCF_w01_w99                  -0.4637     0.3806    -1.2182     0.2232     -1.2098      0.2824\nLev_w05_w95                  0.0044     0.0138     0.3171     0.7512     -0.0227      0.0315\nInv_w01_w99                 -0.7145     0.1022    -6.9919     0.0000     -0.9148     -0.5142\nCashHold_w95                 0.0130     0.0027     4.7521     0.0000      0.0076      0.0183\nDoE_w01_w99                 -0.0784     0.0576    -1.3622     0.1732     -0.1913      0.0344\nAcquisitions                -0.0776     0.0230    -3.3769     0.0007     -0.1226     -0.0326\nAGE                         -0.0048     0.0024    -1.9865     0.0470     -0.0096  -6.427e-05\ndummy_founder                0.2982     0.6391     0.4666     0.6408     -0.9546      1.5510\ndummy_chairman_president     0.2250     0.1257     1.7894     0.0736     -0.0215      0.4714\nceo_group                    0.1332     0.0915     1.4567     0.1452     -0.0460      0.3125\nceo_tenure               -4.682e-06   8.22e-06    -0.5696     0.5690   -2.08e-05   1.143e-05\n============================================================================================\n\nF-test for Poolability: 1.8601\nP-value: 0.0000\nDistribution: F(1846,16244)\n\nIncluded effects: Entity, Time\nPanelEffectsResults, id: 0x289114940",
      "text/html": "<table class=\"simpletable\">\n<caption>PanelOLS Estimation Summary</caption>\n<tr>\n  <th>Dep. Variable:</th>       <td>avg_return</td>    <th>  R-squared:         </th>     <td>0.0156</td>   \n</tr>\n<tr>\n  <th>Estimator:</th>            <td>PanelOLS</td>     <th>  R-squared (Between):</th>    <td>-0.0283</td>  \n</tr>\n<tr>\n  <th>No. Observations:</th>       <td>18104</td>      <th>  R-squared (Within):</th>     <td>0.0206</td>   \n</tr>\n<tr>\n  <th>Date:</th>             <td>Fri, Mar 18 2022</td> <th>  R-squared (Overall):</th>    <td>-0.0043</td>  \n</tr>\n<tr>\n  <th>Time:</th>                 <td>15:51:36</td>     <th>  Log-likelihood     </th>   <td>-2.715e+04</td> \n</tr>\n<tr>\n  <th>Cov. Estimator:</th>      <td>Unadjusted</td>    <th>                     </th>        <td></td>      \n</tr>\n<tr>\n  <th></th>                          <td></td>         <th>  F-statistic:       </th>     <td>19.770</td>   \n</tr>\n<tr>\n  <th>Entities:</th>               <td>1834</td>       <th>  P-value            </th>     <td>0.0000</td>   \n</tr>\n<tr>\n  <th>Avg Obs:</th>               <td>9.8713</td>      <th>  Distribution:      </th>   <td>F(13,16244)</td>\n</tr>\n<tr>\n  <th>Min Obs:</th>               <td>1.0000</td>      <th>                     </th>        <td></td>      \n</tr>\n<tr>\n  <th>Max Obs:</th>               <td>38.000</td>      <th>  F-statistic (robust):</th>   <td>19.770</td>   \n</tr>\n<tr>\n  <th></th>                          <td></td>         <th>  P-value            </th>     <td>0.0000</td>   \n</tr>\n<tr>\n  <th>Time periods:</th>            <td>14</td>        <th>  Distribution:      </th>   <td>F(13,16244)</td>\n</tr>\n<tr>\n  <th>Avg Obs:</th>               <td>1293.1</td>      <th>                     </th>        <td></td>      \n</tr>\n<tr>\n  <th>Min Obs:</th>               <td>810.00</td>      <th>                     </th>        <td></td>      \n</tr>\n<tr>\n  <th>Max Obs:</th>               <td>1508.0</td>      <th>                     </th>        <td></td>      \n</tr>\n<tr>\n  <th></th>                          <td></td>         <th>                     </th>        <td></td>      \n</tr>\n</table>\n<table class=\"simpletable\">\n<caption>Parameter Estimates</caption>\n<tr>\n              <td></td>              <th>Parameter</th> <th>Std. Err.</th> <th>T-stat</th>  <th>P-value</th> <th>Lower CI</th>   <th>Upper CI</th> \n</tr>\n<tr>\n  <th>const</th>                      <td>0.0443</td>    <td>0.1605</td>   <td>0.2763</td>  <td>0.7823</td>   <td>-0.2702</td>    <td>0.3589</td>  \n</tr>\n<tr>\n  <th>ROA_w01_w99</th>                <td>0.6278</td>    <td>0.3533</td>   <td>1.7769</td>  <td>0.0756</td>   <td>-0.0647</td>    <td>1.3204</td>  \n</tr>\n<tr>\n  <th>Tobins_Q_w95</th>               <td>0.2300</td>    <td>0.0182</td>   <td>12.658</td>  <td>0.0000</td>   <td>0.1944</td>     <td>0.2656</td>  \n</tr>\n<tr>\n  <th>CF_w01_w99</th>                 <td>-0.4637</td>   <td>0.3806</td>   <td>-1.2182</td> <td>0.2232</td>   <td>-1.2098</td>    <td>0.2824</td>  \n</tr>\n<tr>\n  <th>Lev_w05_w95</th>                <td>0.0044</td>    <td>0.0138</td>   <td>0.3171</td>  <td>0.7512</td>   <td>-0.0227</td>    <td>0.0315</td>  \n</tr>\n<tr>\n  <th>Inv_w01_w99</th>                <td>-0.7145</td>   <td>0.1022</td>   <td>-6.9919</td> <td>0.0000</td>   <td>-0.9148</td>    <td>-0.5142</td> \n</tr>\n<tr>\n  <th>CashHold_w95</th>               <td>0.0130</td>    <td>0.0027</td>   <td>4.7521</td>  <td>0.0000</td>   <td>0.0076</td>     <td>0.0183</td>  \n</tr>\n<tr>\n  <th>DoE_w01_w99</th>                <td>-0.0784</td>   <td>0.0576</td>   <td>-1.3622</td> <td>0.1732</td>   <td>-0.1913</td>    <td>0.0344</td>  \n</tr>\n<tr>\n  <th>Acquisitions</th>               <td>-0.0776</td>   <td>0.0230</td>   <td>-3.3769</td> <td>0.0007</td>   <td>-0.1226</td>    <td>-0.0326</td> \n</tr>\n<tr>\n  <th>AGE</th>                        <td>-0.0048</td>   <td>0.0024</td>   <td>-1.9865</td> <td>0.0470</td>   <td>-0.0096</td>  <td>-6.427e-05</td>\n</tr>\n<tr>\n  <th>dummy_founder</th>              <td>0.2982</td>    <td>0.6391</td>   <td>0.4666</td>  <td>0.6408</td>   <td>-0.9546</td>    <td>1.5510</td>  \n</tr>\n<tr>\n  <th>dummy_chairman_president</th>   <td>0.2250</td>    <td>0.1257</td>   <td>1.7894</td>  <td>0.0736</td>   <td>-0.0215</td>    <td>0.4714</td>  \n</tr>\n<tr>\n  <th>ceo_group</th>                  <td>0.1332</td>    <td>0.0915</td>   <td>1.4567</td>  <td>0.1452</td>   <td>-0.0460</td>    <td>0.3125</td>  \n</tr>\n<tr>\n  <th>ceo_tenure</th>               <td>-4.682e-06</td> <td>8.22e-06</td>  <td>-0.5696</td> <td>0.5690</td>  <td>-2.08e-05</td>  <td>1.143e-05</td>\n</tr>\n</table><br/><br/>F-test for Poolability: 1.8601<br/>P-value: 0.0000<br/>Distribution: F(1846,16244)<br/><br/>Included effects: Entity, Time<br/>id: 0x289114940"
     },
     "execution_count": 35,
     "metadata": {},
     "output_type": "execute_result"
    }
   ],
   "source": [
    "data_model = data_joined.set_index(['GVKEY', 'fyear', ]).copy(deep=True)\n",
    "\n",
    "data_model.drop('sd_return', axis=1, inplace=True)\n",
    "X = sm.add_constant(data_model.drop('avg_return', axis=1))\n",
    "y = data_model.avg_return\n",
    "\n",
    "# Company and Year fixed effects\n",
    "mod = PanelOLS(y, X, drop_absorbed=True, check_rank=False, entity_effects=True, time_effects=True)\n",
    "re_res = mod.fit()\n",
    "re_res"
   ]
  },
  {
   "cell_type": "code",
   "execution_count": 36,
   "metadata": {},
   "outputs": [
    {
     "data": {
      "text/plain": "                          PanelOLS Estimation Summary                           \n================================================================================\nDep. Variable:             avg_return   R-squared:                        0.0215\nEstimator:                   PanelOLS   R-squared (Between):             -0.0439\nNo. Observations:               18104   R-squared (Within):               0.0215\nDate:                Fri, Mar 18 2022   R-squared (Overall):             -0.0114\nTime:                        15:51:37   Log-likelihood                 -2.74e+04\nCov. Estimator:            Unadjusted                                           \n                                        F-statistic:                      27.447\nEntities:                        1834   P-value                           0.0000\nAvg Obs:                       9.8713   Distribution:                F(13,16257)\nMin Obs:                       1.0000                                           \nMax Obs:                       38.000   F-statistic (robust):             27.447\n                                        P-value                           0.0000\nTime periods:                      14   Distribution:                F(13,16257)\nAvg Obs:                       1293.1                                           \nMin Obs:                       810.00                                           \nMax Obs:                       1508.0                                           \n                                                                                \n                                    Parameter Estimates                                     \n============================================================================================\n                          Parameter  Std. Err.     T-stat    P-value    Lower CI    Upper CI\n--------------------------------------------------------------------------------------------\nconst                        0.0861     0.1562     0.5510     0.5816     -0.2201      0.3923\nROA_w01_w99                  0.4557     0.3570     1.2763     0.2019     -0.2441      1.1555\nTobins_Q_w95                 0.2510     0.0177     14.149     0.0000      0.2162      0.2857\nCF_w01_w99                  -0.2127     0.3847    -0.5529     0.5803     -0.9668      0.5413\nLev_w05_w95                 -0.0140     0.0139    -1.0130     0.3111     -0.0412      0.0131\nInv_w01_w99                 -0.9618     0.0998    -9.6341     0.0000     -1.1575     -0.7661\nCashHold_w95                 0.0162     0.0028     5.8754     0.0000      0.0108      0.0216\nDoE_w01_w99                 -0.0891     0.0580    -1.5349     0.1248     -0.2028      0.0247\nAcquisitions                -0.0982     0.0232    -4.2324     0.0000     -0.1437     -0.0527\nAGE                         -0.0057     0.0022    -2.5712     0.0101     -0.0101     -0.0014\ndummy_founder                0.2444     0.6473     0.3775     0.7058     -1.0244      1.5132\ndummy_chairman_president     0.0655     0.1244     0.5270     0.5982     -0.1782      0.3093\nceo_group                    0.1405     0.0927     1.5165     0.1294     -0.0411      0.3221\nceo_tenure                9.143e-08  7.208e-06     0.0127     0.9899  -1.404e-05   1.422e-05\n============================================================================================\n\nF-test for Poolability: 1.5880\nP-value: 0.0000\nDistribution: F(1833,16257)\n\nIncluded effects: Entity\nPanelEffectsResults, id: 0x289bdad90",
      "text/html": "<table class=\"simpletable\">\n<caption>PanelOLS Estimation Summary</caption>\n<tr>\n  <th>Dep. Variable:</th>       <td>avg_return</td>    <th>  R-squared:         </th>     <td>0.0215</td>   \n</tr>\n<tr>\n  <th>Estimator:</th>            <td>PanelOLS</td>     <th>  R-squared (Between):</th>    <td>-0.0439</td>  \n</tr>\n<tr>\n  <th>No. Observations:</th>       <td>18104</td>      <th>  R-squared (Within):</th>     <td>0.0215</td>   \n</tr>\n<tr>\n  <th>Date:</th>             <td>Fri, Mar 18 2022</td> <th>  R-squared (Overall):</th>    <td>-0.0114</td>  \n</tr>\n<tr>\n  <th>Time:</th>                 <td>15:51:37</td>     <th>  Log-likelihood     </th>    <td>-2.74e+04</td> \n</tr>\n<tr>\n  <th>Cov. Estimator:</th>      <td>Unadjusted</td>    <th>                     </th>        <td></td>      \n</tr>\n<tr>\n  <th></th>                          <td></td>         <th>  F-statistic:       </th>     <td>27.447</td>   \n</tr>\n<tr>\n  <th>Entities:</th>               <td>1834</td>       <th>  P-value            </th>     <td>0.0000</td>   \n</tr>\n<tr>\n  <th>Avg Obs:</th>               <td>9.8713</td>      <th>  Distribution:      </th>   <td>F(13,16257)</td>\n</tr>\n<tr>\n  <th>Min Obs:</th>               <td>1.0000</td>      <th>                     </th>        <td></td>      \n</tr>\n<tr>\n  <th>Max Obs:</th>               <td>38.000</td>      <th>  F-statistic (robust):</th>   <td>27.447</td>   \n</tr>\n<tr>\n  <th></th>                          <td></td>         <th>  P-value            </th>     <td>0.0000</td>   \n</tr>\n<tr>\n  <th>Time periods:</th>            <td>14</td>        <th>  Distribution:      </th>   <td>F(13,16257)</td>\n</tr>\n<tr>\n  <th>Avg Obs:</th>               <td>1293.1</td>      <th>                     </th>        <td></td>      \n</tr>\n<tr>\n  <th>Min Obs:</th>               <td>810.00</td>      <th>                     </th>        <td></td>      \n</tr>\n<tr>\n  <th>Max Obs:</th>               <td>1508.0</td>      <th>                     </th>        <td></td>      \n</tr>\n<tr>\n  <th></th>                          <td></td>         <th>                     </th>        <td></td>      \n</tr>\n</table>\n<table class=\"simpletable\">\n<caption>Parameter Estimates</caption>\n<tr>\n              <td></td>             <th>Parameter</th> <th>Std. Err.</th> <th>T-stat</th>  <th>P-value</th>  <th>Lower CI</th>  <th>Upper CI</th> \n</tr>\n<tr>\n  <th>const</th>                     <td>0.0861</td>    <td>0.1562</td>   <td>0.5510</td>  <td>0.5816</td>    <td>-0.2201</td>   <td>0.3923</td>  \n</tr>\n<tr>\n  <th>ROA_w01_w99</th>               <td>0.4557</td>    <td>0.3570</td>   <td>1.2763</td>  <td>0.2019</td>    <td>-0.2441</td>   <td>1.1555</td>  \n</tr>\n<tr>\n  <th>Tobins_Q_w95</th>              <td>0.2510</td>    <td>0.0177</td>   <td>14.149</td>  <td>0.0000</td>    <td>0.2162</td>    <td>0.2857</td>  \n</tr>\n<tr>\n  <th>CF_w01_w99</th>                <td>-0.2127</td>   <td>0.3847</td>   <td>-0.5529</td> <td>0.5803</td>    <td>-0.9668</td>   <td>0.5413</td>  \n</tr>\n<tr>\n  <th>Lev_w05_w95</th>               <td>-0.0140</td>   <td>0.0139</td>   <td>-1.0130</td> <td>0.3111</td>    <td>-0.0412</td>   <td>0.0131</td>  \n</tr>\n<tr>\n  <th>Inv_w01_w99</th>               <td>-0.9618</td>   <td>0.0998</td>   <td>-9.6341</td> <td>0.0000</td>    <td>-1.1575</td>   <td>-0.7661</td> \n</tr>\n<tr>\n  <th>CashHold_w95</th>              <td>0.0162</td>    <td>0.0028</td>   <td>5.8754</td>  <td>0.0000</td>    <td>0.0108</td>    <td>0.0216</td>  \n</tr>\n<tr>\n  <th>DoE_w01_w99</th>               <td>-0.0891</td>   <td>0.0580</td>   <td>-1.5349</td> <td>0.1248</td>    <td>-0.2028</td>   <td>0.0247</td>  \n</tr>\n<tr>\n  <th>Acquisitions</th>              <td>-0.0982</td>   <td>0.0232</td>   <td>-4.2324</td> <td>0.0000</td>    <td>-0.1437</td>   <td>-0.0527</td> \n</tr>\n<tr>\n  <th>AGE</th>                       <td>-0.0057</td>   <td>0.0022</td>   <td>-2.5712</td> <td>0.0101</td>    <td>-0.0101</td>   <td>-0.0014</td> \n</tr>\n<tr>\n  <th>dummy_founder</th>             <td>0.2444</td>    <td>0.6473</td>   <td>0.3775</td>  <td>0.7058</td>    <td>-1.0244</td>   <td>1.5132</td>  \n</tr>\n<tr>\n  <th>dummy_chairman_president</th>  <td>0.0655</td>    <td>0.1244</td>   <td>0.5270</td>  <td>0.5982</td>    <td>-0.1782</td>   <td>0.3093</td>  \n</tr>\n<tr>\n  <th>ceo_group</th>                 <td>0.1405</td>    <td>0.0927</td>   <td>1.5165</td>  <td>0.1294</td>    <td>-0.0411</td>   <td>0.3221</td>  \n</tr>\n<tr>\n  <th>ceo_tenure</th>               <td>9.143e-08</td> <td>7.208e-06</td> <td>0.0127</td>  <td>0.9899</td>  <td>-1.404e-05</td> <td>1.422e-05</td>\n</tr>\n</table><br/><br/>F-test for Poolability: 1.5880<br/>P-value: 0.0000<br/>Distribution: F(1833,16257)<br/><br/>Included effects: Entity<br/>id: 0x289bdad90"
     },
     "execution_count": 36,
     "metadata": {},
     "output_type": "execute_result"
    }
   ],
   "source": [
    "# Company fixed effects\n",
    "mod = PanelOLS(y, X, drop_absorbed=True, check_rank=False, entity_effects=True, time_effects=False)\n",
    "re_res = mod.fit()\n",
    "re_res"
   ]
  },
  {
   "cell_type": "code",
   "execution_count": 37,
   "metadata": {},
   "outputs": [
    {
     "data": {
      "text/plain": "                          PanelOLS Estimation Summary                           \n================================================================================\nDep. Variable:             avg_return   R-squared:                        0.0097\nEstimator:                   PanelOLS   R-squared (Between):              0.0064\nNo. Observations:               18104   R-squared (Within):               0.0101\nDate:                Fri, Mar 18 2022   R-squared (Overall):              0.0107\nTime:                        15:51:37   Log-likelihood                -2.863e+04\nCov. Estimator:            Unadjusted                                           \n                                        F-statistic:                      13.587\nEntities:                        1834   P-value                           0.0000\nAvg Obs:                       9.8713   Distribution:                F(13,18077)\nMin Obs:                       1.0000                                           \nMax Obs:                       38.000   F-statistic (robust):             13.587\n                                        P-value                           0.0000\nTime periods:                      14   Distribution:                F(13,18077)\nAvg Obs:                       1293.1                                           \nMin Obs:                       810.00                                           \nMax Obs:                       1508.0                                           \n                                                                                \n                                    Parameter Estimates                                     \n============================================================================================\n                          Parameter  Std. Err.     T-stat    P-value    Lower CI    Upper CI\n--------------------------------------------------------------------------------------------\nconst                        0.0238     0.0970     0.2451     0.8064     -0.1663      0.2138\nROA_w01_w99                  0.2079     0.2463     0.8441     0.3986     -0.2749      0.6908\nTobins_Q_w95                 0.1000     0.0101     9.8793     0.0000      0.0801      0.1198\nCF_w01_w99                  -0.5456     0.2563    -2.1287     0.0333     -1.0480     -0.0432\nLev_w05_w95                  0.0177     0.0089     1.9967     0.0459      0.0003      0.0350\nInv_w01_w99                 -0.2386     0.0703    -3.3937     0.0007     -0.3764     -0.1008\nCashHold_w95                 0.0068     0.0013     5.0535     0.0000      0.0041      0.0094\nDoE_w01_w99                 -0.1575     0.0451    -3.4957     0.0005     -0.2458     -0.0692\nAcquisitions                -0.0708     0.0177    -3.9883     0.0001     -0.1056     -0.0360\nAGE                         -0.0017     0.0014    -1.2451     0.2131     -0.0044      0.0010\ndummy_founder               -0.0743     0.2785    -0.2670     0.7895     -0.6202      0.4715\ndummy_chairman_president     0.3021     0.0912     3.3134     0.0009      0.1234      0.4808\nceo_group                    0.1169     0.0546     2.1388     0.0325      0.0098      0.2240\nceo_tenure                2.577e-06  3.253e-06     0.7919     0.4284  -3.801e-06   8.954e-06\n============================================================================================\n\nF-test for Poolability: 39.515\nP-value: 0.0000\nDistribution: F(13,18077)\n\nIncluded effects: Time\nPanelEffectsResults, id: 0x289dd1dc0",
      "text/html": "<table class=\"simpletable\">\n<caption>PanelOLS Estimation Summary</caption>\n<tr>\n  <th>Dep. Variable:</th>       <td>avg_return</td>    <th>  R-squared:         </th>     <td>0.0097</td>   \n</tr>\n<tr>\n  <th>Estimator:</th>            <td>PanelOLS</td>     <th>  R-squared (Between):</th>    <td>0.0064</td>   \n</tr>\n<tr>\n  <th>No. Observations:</th>       <td>18104</td>      <th>  R-squared (Within):</th>     <td>0.0101</td>   \n</tr>\n<tr>\n  <th>Date:</th>             <td>Fri, Mar 18 2022</td> <th>  R-squared (Overall):</th>    <td>0.0107</td>   \n</tr>\n<tr>\n  <th>Time:</th>                 <td>15:51:37</td>     <th>  Log-likelihood     </th>   <td>-2.863e+04</td> \n</tr>\n<tr>\n  <th>Cov. Estimator:</th>      <td>Unadjusted</td>    <th>                     </th>        <td></td>      \n</tr>\n<tr>\n  <th></th>                          <td></td>         <th>  F-statistic:       </th>     <td>13.587</td>   \n</tr>\n<tr>\n  <th>Entities:</th>               <td>1834</td>       <th>  P-value            </th>     <td>0.0000</td>   \n</tr>\n<tr>\n  <th>Avg Obs:</th>               <td>9.8713</td>      <th>  Distribution:      </th>   <td>F(13,18077)</td>\n</tr>\n<tr>\n  <th>Min Obs:</th>               <td>1.0000</td>      <th>                     </th>        <td></td>      \n</tr>\n<tr>\n  <th>Max Obs:</th>               <td>38.000</td>      <th>  F-statistic (robust):</th>   <td>13.587</td>   \n</tr>\n<tr>\n  <th></th>                          <td></td>         <th>  P-value            </th>     <td>0.0000</td>   \n</tr>\n<tr>\n  <th>Time periods:</th>            <td>14</td>        <th>  Distribution:      </th>   <td>F(13,18077)</td>\n</tr>\n<tr>\n  <th>Avg Obs:</th>               <td>1293.1</td>      <th>                     </th>        <td></td>      \n</tr>\n<tr>\n  <th>Min Obs:</th>               <td>810.00</td>      <th>                     </th>        <td></td>      \n</tr>\n<tr>\n  <th>Max Obs:</th>               <td>1508.0</td>      <th>                     </th>        <td></td>      \n</tr>\n<tr>\n  <th></th>                          <td></td>         <th>                     </th>        <td></td>      \n</tr>\n</table>\n<table class=\"simpletable\">\n<caption>Parameter Estimates</caption>\n<tr>\n              <td></td>             <th>Parameter</th> <th>Std. Err.</th> <th>T-stat</th>  <th>P-value</th>  <th>Lower CI</th>  <th>Upper CI</th> \n</tr>\n<tr>\n  <th>const</th>                     <td>0.0238</td>    <td>0.0970</td>   <td>0.2451</td>  <td>0.8064</td>    <td>-0.1663</td>   <td>0.2138</td>  \n</tr>\n<tr>\n  <th>ROA_w01_w99</th>               <td>0.2079</td>    <td>0.2463</td>   <td>0.8441</td>  <td>0.3986</td>    <td>-0.2749</td>   <td>0.6908</td>  \n</tr>\n<tr>\n  <th>Tobins_Q_w95</th>              <td>0.1000</td>    <td>0.0101</td>   <td>9.8793</td>  <td>0.0000</td>    <td>0.0801</td>    <td>0.1198</td>  \n</tr>\n<tr>\n  <th>CF_w01_w99</th>                <td>-0.5456</td>   <td>0.2563</td>   <td>-2.1287</td> <td>0.0333</td>    <td>-1.0480</td>   <td>-0.0432</td> \n</tr>\n<tr>\n  <th>Lev_w05_w95</th>               <td>0.0177</td>    <td>0.0089</td>   <td>1.9967</td>  <td>0.0459</td>    <td>0.0003</td>    <td>0.0350</td>  \n</tr>\n<tr>\n  <th>Inv_w01_w99</th>               <td>-0.2386</td>   <td>0.0703</td>   <td>-3.3937</td> <td>0.0007</td>    <td>-0.3764</td>   <td>-0.1008</td> \n</tr>\n<tr>\n  <th>CashHold_w95</th>              <td>0.0068</td>    <td>0.0013</td>   <td>5.0535</td>  <td>0.0000</td>    <td>0.0041</td>    <td>0.0094</td>  \n</tr>\n<tr>\n  <th>DoE_w01_w99</th>               <td>-0.1575</td>   <td>0.0451</td>   <td>-3.4957</td> <td>0.0005</td>    <td>-0.2458</td>   <td>-0.0692</td> \n</tr>\n<tr>\n  <th>Acquisitions</th>              <td>-0.0708</td>   <td>0.0177</td>   <td>-3.9883</td> <td>0.0001</td>    <td>-0.1056</td>   <td>-0.0360</td> \n</tr>\n<tr>\n  <th>AGE</th>                       <td>-0.0017</td>   <td>0.0014</td>   <td>-1.2451</td> <td>0.2131</td>    <td>-0.0044</td>   <td>0.0010</td>  \n</tr>\n<tr>\n  <th>dummy_founder</th>             <td>-0.0743</td>   <td>0.2785</td>   <td>-0.2670</td> <td>0.7895</td>    <td>-0.6202</td>   <td>0.4715</td>  \n</tr>\n<tr>\n  <th>dummy_chairman_president</th>  <td>0.3021</td>    <td>0.0912</td>   <td>3.3134</td>  <td>0.0009</td>    <td>0.1234</td>    <td>0.4808</td>  \n</tr>\n<tr>\n  <th>ceo_group</th>                 <td>0.1169</td>    <td>0.0546</td>   <td>2.1388</td>  <td>0.0325</td>    <td>0.0098</td>    <td>0.2240</td>  \n</tr>\n<tr>\n  <th>ceo_tenure</th>               <td>2.577e-06</td> <td>3.253e-06</td> <td>0.7919</td>  <td>0.4284</td>  <td>-3.801e-06</td> <td>8.954e-06</td>\n</tr>\n</table><br/><br/>F-test for Poolability: 39.515<br/>P-value: 0.0000<br/>Distribution: F(13,18077)<br/><br/>Included effects: Time<br/>id: 0x289dd1dc0"
     },
     "execution_count": 37,
     "metadata": {},
     "output_type": "execute_result"
    }
   ],
   "source": [
    "# Year fixed effects\n",
    "mod = PanelOLS(y, X, drop_absorbed=True, check_rank=False, entity_effects=False, time_effects=True)\n",
    "re_res = mod.fit()\n",
    "re_res"
   ]
  },
  {
   "cell_type": "markdown",
   "metadata": {},
   "source": [
    "### 6.2 Models for predicting sd_return (all vars)"
   ]
  },
  {
   "cell_type": "code",
   "execution_count": 38,
   "metadata": {},
   "outputs": [
    {
     "name": "stdout",
     "output_type": "stream",
     "text": [
      "                          PanelOLS Estimation Summary                           \n",
      "================================================================================\n",
      "Dep. Variable:              sd_return   R-squared:                        0.0472\n",
      "Estimator:                   PanelOLS   R-squared (Between):              0.1856\n",
      "No. Observations:               18104   R-squared (Within):               0.0622\n",
      "Date:                Fri, Mar 18 2022   R-squared (Overall):              0.0891\n",
      "Time:                        15:51:38   Log-likelihood                 5.229e+04\n",
      "Cov. Estimator:            Unadjusted                                           \n",
      "                                        F-statistic:                      61.957\n",
      "Entities:                        1834   P-value                           0.0000\n",
      "Avg Obs:                       9.8713   Distribution:                F(13,16244)\n",
      "Min Obs:                       1.0000                                           \n",
      "Max Obs:                       38.000   F-statistic (robust):             61.957\n",
      "                                        P-value                           0.0000\n",
      "Time periods:                      14   Distribution:                F(13,16244)\n",
      "Avg Obs:                       1293.1                                           \n",
      "Min Obs:                       810.00                                           \n",
      "Max Obs:                       1508.0                                           \n",
      "                                                                                \n",
      "                                    Parameter Estimates                                     \n",
      "============================================================================================\n",
      "                          Parameter  Std. Err.     T-stat    P-value    Lower CI    Upper CI\n",
      "--------------------------------------------------------------------------------------------\n",
      "const                        0.0308     0.0020     15.424     0.0000      0.0268      0.0347\n",
      "ROA_w01_w99                 -0.0216     0.0044    -4.9157     0.0000     -0.0302     -0.0130\n",
      "Tobins_Q_w95              7.924e-05     0.0002     0.3510     0.7256     -0.0004      0.0005\n",
      "CF_w01_w99                  -0.0164     0.0047    -3.4676     0.0005     -0.0257     -0.0071\n",
      "Lev_w05_w95                  0.0006     0.0002     3.5323     0.0004      0.0003      0.0009\n",
      "Inv_w01_w99                 -0.0050     0.0013    -3.9730     0.0001     -0.0075     -0.0026\n",
      "CashHold_w95                 0.0001  3.393e-05     4.0829     0.0000   7.202e-05      0.0002\n",
      "DoE_w01_w99                 -0.0018     0.0007    -2.5498     0.0108     -0.0032     -0.0004\n",
      "Acquisitions                -0.0010     0.0003    -3.6252     0.0003     -0.0016     -0.0005\n",
      "AGE                      -6.988e-05  3.024e-05    -2.3112     0.0208     -0.0001  -1.062e-05\n",
      "dummy_founder               -0.0038     0.0079    -0.4795     0.6316     -0.0194      0.0118\n",
      "dummy_chairman_president    -0.0002     0.0016    -0.1457     0.8842     -0.0033      0.0028\n",
      "ceo_group                    0.0006     0.0011     0.5327     0.5943     -0.0016      0.0028\n",
      "ceo_tenure                6.738e-08  1.021e-07     0.6596     0.5095  -1.328e-07   2.676e-07\n",
      "============================================================================================\n",
      "\n",
      "F-test for Poolability: 5.8754\n",
      "P-value: 0.0000\n",
      "Distribution: F(1846,16244)\n",
      "\n",
      "Included effects: Entity, Time\n"
     ]
    }
   ],
   "source": [
    "data_model = data_joined.set_index(['GVKEY', 'fyear']).copy(deep=True)\n",
    "\n",
    "data_model.drop('avg_return', axis=1, inplace=True)\n",
    "X = sm.add_constant(data_model.drop('sd_return', axis=1))\n",
    "y = data_model.sd_return\n",
    "\n",
    "# Company and Year fixed effects\n",
    "mod = PanelOLS(y, X, drop_absorbed=True, check_rank=False, entity_effects=True, time_effects=True)\n",
    "re_res = mod.fit()\n",
    "print(re_res)"
   ]
  },
  {
   "cell_type": "code",
   "execution_count": 39,
   "metadata": {},
   "outputs": [
    {
     "name": "stdout",
     "output_type": "stream",
     "text": [
      "                          PanelOLS Estimation Summary                           \n",
      "================================================================================\n",
      "Dep. Variable:              sd_return   R-squared:                        0.0774\n",
      "Estimator:                   PanelOLS   R-squared (Between):              0.1445\n",
      "No. Observations:               18104   R-squared (Within):               0.0774\n",
      "Date:                Fri, Mar 18 2022   R-squared (Overall):              0.0797\n",
      "Time:                        15:51:38   Log-likelihood                 4.987e+04\n",
      "Cov. Estimator:            Unadjusted                                           \n",
      "                                        F-statistic:                      104.95\n",
      "Entities:                        1834   P-value                           0.0000\n",
      "Avg Obs:                       9.8713   Distribution:                F(13,16257)\n",
      "Min Obs:                       1.0000                                           \n",
      "Max Obs:                       38.000   F-statistic (robust):             104.95\n",
      "                                        P-value                           0.0000\n",
      "Time periods:                      14   Distribution:                F(13,16257)\n",
      "Avg Obs:                       1293.1                                           \n",
      "Min Obs:                       810.00                                           \n",
      "Max Obs:                       1508.0                                           \n",
      "                                                                                \n",
      "                                    Parameter Estimates                                     \n",
      "============================================================================================\n",
      "                          Parameter  Std. Err.     T-stat    P-value    Lower CI    Upper CI\n",
      "--------------------------------------------------------------------------------------------\n",
      "const                        0.0432     0.0022     19.710     0.0000      0.0389      0.0474\n",
      "ROA_w01_w99                 -0.0249     0.0050    -4.9777     0.0000     -0.0347     -0.0151\n",
      "Tobins_Q_w95                -0.0022     0.0002    -8.8031     0.0000     -0.0027     -0.0017\n",
      "CF_w01_w99                  -0.0214     0.0054    -3.9626     0.0001     -0.0319     -0.0108\n",
      "Lev_w05_w95                  0.0008     0.0002     4.0585     0.0000      0.0004      0.0012\n",
      "Inv_w01_w99                 -0.0109     0.0014    -7.7716     0.0000     -0.0136     -0.0081\n",
      "CashHold_w95                 0.0001  3.859e-05     3.0715     0.0021   4.289e-05      0.0002\n",
      "DoE_w01_w99                 -0.0038     0.0008    -4.6938     0.0000     -0.0054     -0.0022\n",
      "Acquisitions                -0.0017     0.0003    -5.0837     0.0000     -0.0023     -0.0010\n",
      "AGE                         -0.0002  3.122e-05    -7.5656     0.0000     -0.0003     -0.0002\n",
      "dummy_founder                0.0045     0.0091     0.4955     0.6202     -0.0133      0.0223\n",
      "dummy_chairman_president     0.0009     0.0017     0.4963     0.6197     -0.0026      0.0043\n",
      "ceo_group                    0.0002     0.0013     0.1863     0.8522     -0.0023      0.0028\n",
      "ceo_tenure                8.709e-07   1.01e-07     8.6220     0.0000   6.729e-07   1.069e-06\n",
      "============================================================================================\n",
      "\n",
      "F-test for Poolability: 2.4473\n",
      "P-value: 0.0000\n",
      "Distribution: F(1833,16257)\n",
      "\n",
      "Included effects: Entity\n"
     ]
    }
   ],
   "source": [
    "# Company fixed effects\n",
    "mod = PanelOLS(y, X, drop_absorbed=True, check_rank=False, entity_effects=True, time_effects=False)\n",
    "re_res = mod.fit()\n",
    "print(re_res)"
   ]
  },
  {
   "cell_type": "code",
   "execution_count": 40,
   "metadata": {},
   "outputs": [
    {
     "name": "stdout",
     "output_type": "stream",
     "text": [
      "                          PanelOLS Estimation Summary                           \n",
      "================================================================================\n",
      "Dep. Variable:              sd_return   R-squared:                        0.1113\n",
      "Estimator:                   PanelOLS   R-squared (Between):              0.2959\n",
      "No. Observations:               18104   R-squared (Within):               0.0553\n",
      "Date:                Fri, Mar 18 2022   R-squared (Overall):              0.1161\n",
      "Time:                        15:51:38   Log-likelihood                 4.967e+04\n",
      "Cov. Estimator:            Unadjusted                                           \n",
      "                                        F-statistic:                      174.07\n",
      "Entities:                        1834   P-value                           0.0000\n",
      "Avg Obs:                       9.8713   Distribution:                F(13,18077)\n",
      "Min Obs:                       1.0000                                           \n",
      "Max Obs:                       38.000   F-statistic (robust):             174.07\n",
      "                                        P-value                           0.0000\n",
      "Time periods:                      14   Distribution:                F(13,18077)\n",
      "Avg Obs:                       1293.1                                           \n",
      "Min Obs:                       810.00                                           \n",
      "Max Obs:                       1508.0                                           \n",
      "                                                                                \n",
      "                                    Parameter Estimates                                     \n",
      "============================================================================================\n",
      "                          Parameter  Std. Err.     T-stat    P-value    Lower CI    Upper CI\n",
      "--------------------------------------------------------------------------------------------\n",
      "const                        0.0308     0.0013     24.040     0.0000      0.0283      0.0334\n",
      "ROA_w01_w99                 -0.0668     0.0033    -20.496     0.0000     -0.0732     -0.0604\n",
      "Tobins_Q_w95                 0.0002     0.0001     1.3087     0.1906  -8.721e-05      0.0004\n",
      "CF_w01_w99                   0.0220     0.0034     6.4773     0.0000      0.0153      0.0286\n",
      "Lev_w05_w95                  0.0002     0.0001     1.7565     0.0790  -2.386e-05      0.0004\n",
      "Inv_w01_w99                  0.0012     0.0009     1.2538     0.2099     -0.0007      0.0030\n",
      "CashHold_w95              7.583e-05  1.768e-05     4.2894     0.0000   4.118e-05      0.0001\n",
      "DoE_w01_w99                 -0.0076     0.0006    -12.778     0.0000     -0.0088     -0.0064\n",
      "Acquisitions                -0.0026     0.0002    -11.255     0.0000     -0.0031     -0.0022\n",
      "AGE                      -5.333e-05  1.803e-05    -2.9581     0.0031  -8.867e-05  -1.799e-05\n",
      "dummy_founder                0.0054     0.0037     1.4718     0.1411     -0.0018      0.0126\n",
      "dummy_chairman_president     0.0024     0.0012     1.9944     0.0461   4.136e-05      0.0048\n",
      "ceo_group                   -0.0010     0.0007    -1.3398     0.1803     -0.0024      0.0004\n",
      "ceo_tenure                8.978e-08  4.305e-08     2.0855     0.0370   5.398e-09   1.742e-07\n",
      "============================================================================================\n",
      "\n",
      "F-test for Poolability: 345.47\n",
      "P-value: 0.0000\n",
      "Distribution: F(13,18077)\n",
      "\n",
      "Included effects: Time\n"
     ]
    }
   ],
   "source": [
    "# Year fixed effects\n",
    "mod = PanelOLS(y, X, drop_absorbed=True, check_rank=False, entity_effects=False, time_effects=True)\n",
    "re_res = mod.fit()\n",
    "print(re_res)"
   ]
  },
  {
   "cell_type": "markdown",
   "metadata": {},
   "source": [
    "### 6.3 Models for predicting avg_return (only ceo vars)"
   ]
  },
  {
   "cell_type": "code",
   "execution_count": 41,
   "metadata": {},
   "outputs": [
    {
     "name": "stdout",
     "output_type": "stream",
     "text": [
      "                          PanelOLS Estimation Summary                           \n",
      "================================================================================\n",
      "Dep. Variable:             avg_return   R-squared:                        0.0005\n",
      "Estimator:                   PanelOLS   R-squared (Between):              0.0039\n",
      "No. Observations:               18104   R-squared (Within):               0.0001\n",
      "Date:                Fri, Mar 18 2022   R-squared (Overall):             -0.0002\n",
      "Time:                        15:51:39   Log-likelihood                -2.729e+04\n",
      "Cov. Estimator:            Unadjusted                                           \n",
      "                                        F-statistic:                      1.7511\n",
      "Entities:                        1834   P-value                           0.1193\n",
      "Avg Obs:                       9.8713   Distribution:                 F(5,16252)\n",
      "Min Obs:                       1.0000                                           \n",
      "Max Obs:                       38.000   F-statistic (robust):             1.7511\n",
      "                                        P-value                           0.1193\n",
      "Time periods:                      14   Distribution:                 F(5,16252)\n",
      "Avg Obs:                       1293.1                                           \n",
      "Min Obs:                       810.00                                           \n",
      "Max Obs:                       1508.0                                           \n",
      "                                                                                \n",
      "                                    Parameter Estimates                                     \n",
      "============================================================================================\n",
      "                          Parameter  Std. Err.     T-stat    P-value    Lower CI    Upper CI\n",
      "--------------------------------------------------------------------------------------------\n",
      "const                        0.2462     0.1556     1.5825     0.1136     -0.0587      0.5511\n",
      "AGE                         -0.0043     0.0024    -1.7493     0.0803     -0.0091      0.0005\n",
      "ceo_tenure               -1.007e-06  8.275e-06    -0.1216     0.9032  -1.723e-05   1.521e-05\n",
      "dummy_chairman_president     0.1648     0.1265     1.3029     0.1926     -0.0831      0.4127\n",
      "dummy_chairman               0.5567     0.6434     0.8653     0.3869     -0.7044      1.8178\n",
      "ceo_group                    0.1354     0.0921     1.4699     0.1416     -0.0451      0.3159\n",
      "============================================================================================\n",
      "\n",
      "F-test for Poolability: 1.8156\n",
      "P-value: 0.0000\n",
      "Distribution: F(1846,16252)\n",
      "\n",
      "Included effects: Entity, Time\n"
     ]
    },
    {
     "name": "stderr",
     "output_type": "stream",
     "text": [
      "/Users/jasmincapka/IdeaProjects/MADS/venv/lib/python3.9/site-packages/linearmodels/panel/model.py:1831: AbsorbingEffectWarning: \n",
      "Variables have been fully absorbed and have removed from the regression:\n",
      "\n",
      "dummy_president, dummy_founder\n",
      "\n",
      "  warnings.warn(\n"
     ]
    }
   ],
   "source": [
    "data_model = data_joined.set_index(['GVKEY', 'fyear']).copy(deep=True)\n",
    "data_model = data_model[\n",
    "    ['AGE', 'ceo_tenure', 'dummy_chairman_president', 'dummy_chairman', 'dummy_president', 'dummy_founder',\n",
    "     'ceo_group', 'avg_return', 'sd_return']]\n",
    "\n",
    "data_model.drop('sd_return', axis=1, inplace=True)\n",
    "X = sm.add_constant(data_model.drop('avg_return', axis=1))\n",
    "y = data_model.avg_return\n",
    "\n",
    "# Company and Year fixed effects\n",
    "mod = PanelOLS(y, X, drop_absorbed=True, check_rank=False, entity_effects=True, time_effects=True)\n",
    "re_res = mod.fit()\n",
    "print(re_res)"
   ]
  },
  {
   "cell_type": "code",
   "execution_count": 42,
   "metadata": {},
   "outputs": [
    {
     "name": "stdout",
     "output_type": "stream",
     "text": [
      "                          PanelOLS Estimation Summary                           \n",
      "================================================================================\n",
      "Dep. Variable:             avg_return   R-squared:                        0.0004\n",
      "Estimator:                   PanelOLS   R-squared (Between):             -0.0010\n",
      "No. Observations:               18104   R-squared (Within):               0.0004\n",
      "Date:                Fri, Mar 18 2022   R-squared (Overall):             -0.0005\n",
      "Time:                        15:51:39   Log-likelihood                -2.759e+04\n",
      "Cov. Estimator:            Unadjusted                                           \n",
      "                                        F-statistic:                      1.2183\n",
      "Entities:                        1834   P-value                           0.2975\n",
      "Avg Obs:                       9.8713   Distribution:                 F(5,16265)\n",
      "Min Obs:                       1.0000                                           \n",
      "Max Obs:                       38.000   F-statistic (robust):             1.2183\n",
      "                                        P-value                           0.2975\n",
      "Time periods:                      14   Distribution:                 F(5,16265)\n",
      "Avg Obs:                       1293.1                                           \n",
      "Min Obs:                       810.00                                           \n",
      "Max Obs:                       1508.0                                           \n",
      "                                                                                \n",
      "                                    Parameter Estimates                                     \n",
      "============================================================================================\n",
      "                          Parameter  Std. Err.     T-stat    P-value    Lower CI    Upper CI\n",
      "--------------------------------------------------------------------------------------------\n",
      "const                        0.1346     0.1520     0.8854     0.3760     -0.1633      0.4324\n",
      "AGE                         -0.0019     0.0022    -0.8709     0.3838     -0.0063      0.0024\n",
      "ceo_tenure                -7.34e-06  7.219e-06    -1.0168     0.3092  -2.149e-05   6.809e-06\n",
      "dummy_chairman_president    -0.0357     0.1254    -0.2848     0.7758     -0.2815      0.2101\n",
      "dummy_chairman               0.5006     0.6536     0.7659     0.4438     -0.7806      1.7818\n",
      "ceo_group                    0.1448     0.0936     1.5470     0.1219     -0.0387      0.3282\n",
      "============================================================================================\n",
      "\n",
      "F-test for Poolability: 1.4801\n",
      "P-value: 0.0000\n",
      "Distribution: F(1833,16265)\n",
      "\n",
      "Included effects: Entity\n"
     ]
    }
   ],
   "source": [
    "# Company fixed effects\n",
    "mod = PanelOLS(y, X, drop_absorbed=True, check_rank=False, entity_effects=True, time_effects=False)\n",
    "re_res = mod.fit()\n",
    "print(re_res)"
   ]
  },
  {
   "cell_type": "code",
   "execution_count": 43,
   "metadata": {},
   "outputs": [
    {
     "name": "stdout",
     "output_type": "stream",
     "text": [
      "                          PanelOLS Estimation Summary                           \n",
      "================================================================================\n",
      "Dep. Variable:             avg_return   R-squared:                        0.0011\n",
      "Estimator:                   PanelOLS   R-squared (Between):              0.0064\n",
      "No. Observations:               18104   R-squared (Within):              -0.0003\n",
      "Date:                Fri, Mar 18 2022   R-squared (Overall):              0.0002\n",
      "Time:                        15:51:39   Log-likelihood                -2.871e+04\n",
      "Cov. Estimator:            Unadjusted                                           \n",
      "                                        F-statistic:                      3.8999\n",
      "Entities:                        1834   P-value                           0.0016\n",
      "Avg Obs:                       9.8713   Distribution:                 F(5,18085)\n",
      "Min Obs:                       1.0000                                           \n",
      "Max Obs:                       38.000   F-statistic (robust):             3.8999\n",
      "                                        P-value                           0.0016\n",
      "Time periods:                      14   Distribution:                 F(5,18085)\n",
      "Avg Obs:                       1293.1                                           \n",
      "Min Obs:                       810.00                                           \n",
      "Max Obs:                       1508.0                                           \n",
      "                                                                                \n",
      "                                    Parameter Estimates                                     \n",
      "============================================================================================\n",
      "                          Parameter  Std. Err.     T-stat    P-value    Lower CI    Upper CI\n",
      "--------------------------------------------------------------------------------------------\n",
      "const                        0.1181     0.0920     1.2828     0.1996     -0.0623      0.2984\n",
      "AGE                         -0.0022     0.0014    -1.6090     0.1076     -0.0048      0.0005\n",
      "ceo_tenure                4.273e-06  3.239e-06     1.3192     0.1871  -2.076e-06   1.062e-05\n",
      "dummy_chairman_president     0.3207     0.0913     3.5107     0.0004      0.1416      0.4997\n",
      "dummy_chairman               0.0260     0.2792     0.0930     0.9259     -0.5213      0.5732\n",
      "ceo_group                    0.1193     0.0548     2.1750     0.0296      0.0118      0.2267\n",
      "============================================================================================\n",
      "\n",
      "F-test for Poolability: 42.758\n",
      "P-value: 0.0000\n",
      "Distribution: F(13,18085)\n",
      "\n",
      "Included effects: Time\n"
     ]
    }
   ],
   "source": [
    "# Year fixed effects\n",
    "mod = PanelOLS(y, X, drop_absorbed=True, check_rank=False, entity_effects=False, time_effects=True)\n",
    "re_res = mod.fit()\n",
    "print(re_res)"
   ]
  },
  {
   "cell_type": "markdown",
   "metadata": {},
   "source": [
    "### 6.4 Models for predicting sd_return (only CEO vars)"
   ]
  },
  {
   "cell_type": "code",
   "execution_count": 44,
   "metadata": {},
   "outputs": [
    {
     "name": "stdout",
     "output_type": "stream",
     "text": [
      "                          PanelOLS Estimation Summary                           \n",
      "================================================================================\n",
      "Dep. Variable:              sd_return   R-squared:                        0.0007\n",
      "Estimator:                   PanelOLS   R-squared (Between):             -0.0054\n",
      "No. Observations:               18104   R-squared (Within):               0.0019\n",
      "Date:                Fri, Mar 18 2022   R-squared (Overall):              0.0023\n",
      "Time:                        15:51:40   Log-likelihood                 5.186e+04\n",
      "Cov. Estimator:            Unadjusted                                           \n",
      "                                        F-statistic:                      2.1518\n",
      "Entities:                        1834   P-value                           0.0564\n",
      "Avg Obs:                       9.8713   Distribution:                 F(5,16252)\n",
      "Min Obs:                       1.0000                                           \n",
      "Max Obs:                       38.000   F-statistic (robust):             2.1518\n",
      "                                        P-value                           0.0564\n",
      "Time periods:                      14   Distribution:                 F(5,16252)\n",
      "Avg Obs:                       1293.1                                           \n",
      "Min Obs:                       810.00                                           \n",
      "Max Obs:                       1508.0                                           \n",
      "                                                                                \n",
      "                                    Parameter Estimates                                     \n",
      "============================================================================================\n",
      "                          Parameter  Std. Err.     T-stat    P-value    Lower CI    Upper CI\n",
      "--------------------------------------------------------------------------------------------\n",
      "const                        0.0295     0.0020     15.023     0.0000      0.0257      0.0334\n",
      "AGE                      -9.074e-05  3.093e-05    -2.9343     0.0033     -0.0002  -3.013e-05\n",
      "ceo_tenure                4.308e-08  1.045e-07     0.4123     0.6802  -1.618e-07   2.479e-07\n",
      "dummy_chairman_president     0.0013     0.0016     0.8189     0.4128     -0.0018      0.0044\n",
      "dummy_chairman              -0.0024     0.0081    -0.2982     0.7656     -0.0183      0.0135\n",
      "ceo_group                    0.0003     0.0012     0.2786     0.7806     -0.0020      0.0026\n",
      "============================================================================================\n",
      "\n",
      "F-test for Poolability: 7.0441\n",
      "P-value: 0.0000\n",
      "Distribution: F(1846,16252)\n",
      "\n",
      "Included effects: Entity, Time\n"
     ]
    }
   ],
   "source": [
    "# models for predicting sd_return (only CEO vars)\n",
    "\n",
    "data_model = data_joined.set_index(['GVKEY', 'fyear']).copy(deep=True)\n",
    "data_model = data_model[\n",
    "    ['AGE', 'ceo_tenure', 'dummy_chairman_president', 'dummy_chairman', 'dummy_president', 'dummy_founder',\n",
    "     'ceo_group', 'avg_return', 'sd_return']]\n",
    "\n",
    "data_model.drop('avg_return', axis=1, inplace=True)\n",
    "X = sm.add_constant(data_model.drop('sd_return', axis=1))\n",
    "y = data_model.sd_return\n",
    "\n",
    "# Company and Year fixed effects\n",
    "mod = PanelOLS(y, X, drop_absorbed=True, check_rank=False, entity_effects=True, time_effects=True)\n",
    "re_res = mod.fit()\n",
    "print(re_res)"
   ]
  },
  {
   "cell_type": "code",
   "execution_count": 45,
   "metadata": {},
   "outputs": [
    {
     "name": "stdout",
     "output_type": "stream",
     "text": [
      "                          PanelOLS Estimation Summary                           \n",
      "================================================================================\n",
      "Dep. Variable:              sd_return   R-squared:                        0.0057\n",
      "Estimator:                   PanelOLS   R-squared (Between):             -0.0329\n",
      "No. Observations:               18104   R-squared (Within):               0.0057\n",
      "Date:                Fri, Mar 18 2022   R-squared (Overall):             -0.0040\n",
      "Time:                        15:51:40   Log-likelihood                 4.919e+04\n",
      "Cov. Estimator:            Unadjusted                                           \n",
      "                                        F-statistic:                      18.588\n",
      "Entities:                        1834   P-value                           0.0000\n",
      "Avg Obs:                       9.8713   Distribution:                 F(5,16265)\n",
      "Min Obs:                       1.0000                                           \n",
      "Max Obs:                       38.000   F-statistic (robust):             18.588\n",
      "                                        P-value                           0.0000\n",
      "Time periods:                      14   Distribution:                 F(5,16265)\n",
      "Avg Obs:                       1293.1                                           \n",
      "Min Obs:                       810.00                                           \n",
      "Max Obs:                       1508.0                                           \n",
      "                                                                                \n",
      "                                    Parameter Estimates                                     \n",
      "============================================================================================\n",
      "                          Parameter  Std. Err.     T-stat    P-value    Lower CI    Upper CI\n",
      "--------------------------------------------------------------------------------------------\n",
      "const                        0.0361     0.0022     16.493     0.0000      0.0318      0.0404\n",
      "AGE                         -0.0003  3.209e-05    -8.0616     0.0000     -0.0003     -0.0002\n",
      "ceo_tenure                 8.02e-07  1.039e-07     7.7183     0.0000   5.983e-07   1.006e-06\n",
      "dummy_chairman_president     0.0026     0.0018     1.4333     0.1518     -0.0010      0.0061\n",
      "dummy_chairman               0.0047     0.0094     0.4988     0.6179     -0.0137      0.0231\n",
      "ceo_group                   -0.0002     0.0013    -0.1344     0.8931     -0.0028      0.0025\n",
      "============================================================================================\n",
      "\n",
      "F-test for Poolability: 3.0200\n",
      "P-value: 0.0000\n",
      "Distribution: F(1833,16265)\n",
      "\n",
      "Included effects: Entity\n"
     ]
    }
   ],
   "source": [
    "# Company fixed effects\n",
    "mod = PanelOLS(y, X, drop_absorbed=True, check_rank=False, entity_effects=True, time_effects=False)\n",
    "re_res = mod.fit()\n",
    "print(re_res)"
   ]
  },
  {
   "cell_type": "code",
   "execution_count": 46,
   "metadata": {},
   "outputs": [
    {
     "name": "stdout",
     "output_type": "stream",
     "text": [
      "                          PanelOLS Estimation Summary                           \n",
      "================================================================================\n",
      "Dep. Variable:              sd_return   R-squared:                        0.0018\n",
      "Estimator:                   PanelOLS   R-squared (Between):              0.0035\n",
      "No. Observations:               18104   R-squared (Within):               0.0010\n",
      "Date:                Fri, Mar 18 2022   R-squared (Overall):              0.0030\n",
      "Time:                        15:51:40   Log-likelihood                 4.862e+04\n",
      "Cov. Estimator:            Unadjusted                                           \n",
      "                                        F-statistic:                      6.6045\n",
      "Entities:                        1834   P-value                           0.0000\n",
      "Avg Obs:                       9.8713   Distribution:                 F(5,18085)\n",
      "Min Obs:                       1.0000                                           \n",
      "Max Obs:                       38.000   F-statistic (robust):             6.6045\n",
      "                                        P-value                           0.0000\n",
      "Time periods:                      14   Distribution:                 F(5,18085)\n",
      "Avg Obs:                       1293.1                                           \n",
      "Min Obs:                       810.00                                           \n",
      "Max Obs:                       1508.0                                           \n",
      "                                                                                \n",
      "                                    Parameter Estimates                                     \n",
      "============================================================================================\n",
      "                          Parameter  Std. Err.     T-stat    P-value    Lower CI    Upper CI\n",
      "--------------------------------------------------------------------------------------------\n",
      "const                        0.0298     0.0013     23.187     0.0000      0.0273      0.0323\n",
      "AGE                      -5.848e-05  1.891e-05    -3.0926     0.0020  -9.554e-05  -2.141e-05\n",
      "ceo_tenure               -1.167e-08  4.522e-08    -0.2581     0.7963  -1.003e-07   7.697e-08\n",
      "dummy_chairman_president     0.0052     0.0013     4.0459     0.0001      0.0027      0.0077\n",
      "dummy_chairman               0.0033     0.0039     0.8350     0.4037     -0.0044      0.0109\n",
      "ceo_group                   -0.0015     0.0008    -2.0028     0.0452     -0.0030  -3.267e-05\n",
      "============================================================================================\n",
      "\n",
      "F-test for Poolability: 359.60\n",
      "P-value: 0.0000\n",
      "Distribution: F(13,18085)\n",
      "\n",
      "Included effects: Time\n"
     ]
    }
   ],
   "source": [
    "# Year fixed effects\n",
    "mod = PanelOLS(y, X, drop_absorbed=True, check_rank=False, entity_effects=False, time_effects=True)\n",
    "re_res = mod.fit()\n",
    "print(re_res)"
   ]
  }
 ],
 "metadata": {
  "kernelspec": {
   "display_name": "Python 3",
   "language": "python",
   "name": "python3"
  },
  "language_info": {
   "codemirror_mode": {
    "name": "ipython",
    "version": 3
   },
   "file_extension": ".py",
   "mimetype": "text/x-python",
   "name": "python",
   "nbconvert_exporter": "python",
   "pygments_lexer": "ipython3",
   "version": "3.8.2"
  }
 },
 "nbformat": 4,
 "nbformat_minor": 1
}