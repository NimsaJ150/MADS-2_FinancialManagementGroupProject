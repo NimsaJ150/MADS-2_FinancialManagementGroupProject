{
 "cells": [
  {
   "cell_type": "markdown",
   "metadata": {
    "collapsed": true
   },
   "source": [
    "## Do CEO's impact firm performance?"
   ]
  },
  {
   "cell_type": "code",
   "execution_count": 1,
   "metadata": {},
   "outputs": [],
   "source": [
    "#import libraries \n",
    "import pandas as pd\n",
    "from linearmodels import PanelOLS\n",
    "import statsmodels.api as sm"
   ]
  },
  {
   "cell_type": "code",
   "execution_count": null,
   "metadata": {},
   "outputs": [],
   "source": [
    "#import data\n",
    "ceo_data_raw = pd.read_csv(\"data/Execucomp_2006_-_2021_MTL.csv\")\n",
    "company_data_raw = pd.read_csv(\"data/CCM_Fundamentals_Annual_2006_-_2021_new.csv\")\n",
    "price_data_raw = pd.read_csv(\"data/return_annual.csv\")"
   ]
  },
  {
   "cell_type": "code",
   "execution_count": null,
   "metadata": {},
   "outputs": [],
   "source": [
    "company_data_raw.head()"
   ]
  },
  {
   "cell_type": "code",
   "execution_count": null,
   "metadata": {},
   "outputs": [],
   "source": [
    "ceo_data_raw.head()"
   ]
  },
  {
   "cell_type": "code",
   "execution_count": null,
   "metadata": {},
   "outputs": [],
   "source": [
    "company_data_raw_columns = company_data_raw.columns\n",
    "\n",
    "#select required company columns\n",
    "company_cols = ['GVKEY', 'LPERMNO', 'prcc_f', 'fyear', 'ROA', 'Tobins_Q', 'Cash_Flow',\n",
    "                'Leverage', 'Investment', 'Cash_Holdings', 'Div_over_Earn', 'SG_A', 'aqc']\n",
    "\n",
    "#select required ceo columns\n",
    "ceo_data_raw_columns = ceo_data_raw.columns\n",
    "ceo_cols = ['GVKEY', 'CO_PER_ROL', 'YEAR', 'AGE', 'BECAMECEO', 'TITLE', 'CEOANN', 'LEFTOFC', 'LEFTCO', 'JOINED_CO',\n",
    "            'CONAME', 'EXECID']\n",
    "\n",
    "price_data_raw_columns = price_data_raw.columns"
   ]
  }
 ],
 "metadata": {
  "kernelspec": {
   "display_name": "Python 3",
   "language": "python",
   "name": "python3"
  },
  "language_info": {
   "codemirror_mode": {
    "name": "ipython",
    "version": 3
   },
   "file_extension": ".py",
   "mimetype": "text/x-python",
   "name": "python",
   "nbconvert_exporter": "python",
   "pygments_lexer": "ipython3",
   "version": "3.6.13"
  }
 },
 "nbformat": 4,
 "nbformat_minor": 1
}