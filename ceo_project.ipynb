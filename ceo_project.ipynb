{
 "cells": [
  {
   "cell_type": "markdown",
   "metadata": {
    "collapsed": true
   },
   "source": [
    "## Do CEO's impact firm performance?"
   ]
  },
  {
   "cell_type": "code",
   "execution_count": 1,
   "metadata": {},
   "outputs": [],
   "source": [
    "#import libraries \n",
    "import pandas as pd\n",
    "from linearmodels import PanelOLS\n",
    "import statsmodels.api as sm\n",
    "\n",
    "#TODO: Number Headings/ Add appropriate headings\n",
    "#TODO: SettingWithCopyWarning"
   ]
  },
  {
   "cell_type": "code",
   "execution_count": 2,
   "metadata": {
    "pycharm": {
     "is_executing": true
    }
   },
   "outputs": [],
   "source": [
    "#import data\n",
    "ceo_data_raw = pd.read_csv(\"data/Execucomp_2006_-_2021.csv\")\n",
    "company_data_raw = pd.read_csv(\"data/CCM_Fundamentals_Annual_2006_-_2021_NEW_winsor.csv\")\n",
    "annual_return_price_data_raw = pd.read_csv(\"data/Compustat_annual_return.csv\")\n",
    "annual_stdev_price_data_raw = pd.read_csv(\"data/CRSP_Standard_Deviation_by_Year.csv\")"
   ]
  },
  {
   "cell_type": "code",
   "execution_count": 3,
   "metadata": {
    "pycharm": {
     "is_executing": true
    }
   },
   "outputs": [
    {
     "data": {
      "text/html": [
       "<div>\n",
       "<style scoped>\n",
       "    .dataframe tbody tr th:only-of-type {\n",
       "        vertical-align: middle;\n",
       "    }\n",
       "\n",
       "    .dataframe tbody tr th {\n",
       "        vertical-align: top;\n",
       "    }\n",
       "\n",
       "    .dataframe thead th {\n",
       "        text-align: right;\n",
       "    }\n",
       "</style>\n",
       "<table border=\"1\" class=\"dataframe\">\n",
       "  <thead>\n",
       "    <tr style=\"text-align: right;\">\n",
       "      <th></th>\n",
       "      <th>Unnamed: 0</th>\n",
       "      <th>GVKEY</th>\n",
       "      <th>LINKPRIM</th>\n",
       "      <th>LIID</th>\n",
       "      <th>LINKTYPE</th>\n",
       "      <th>LPERMNO</th>\n",
       "      <th>LPERMCO</th>\n",
       "      <th>LINKDT</th>\n",
       "      <th>LINKENDDT</th>\n",
       "      <th>datadate</th>\n",
       "      <th>...</th>\n",
       "      <th>Div_over_Earn</th>\n",
       "      <th>SQ_A</th>\n",
       "      <th>Acquisitions</th>\n",
       "      <th>ROA_w01_w99</th>\n",
       "      <th>Tobins_Q_w95</th>\n",
       "      <th>CF_w01_w99</th>\n",
       "      <th>Lev_w05_w95</th>\n",
       "      <th>Inv_w01_w99</th>\n",
       "      <th>CashHold_w95</th>\n",
       "      <th>DoE_w01_w99</th>\n",
       "    </tr>\n",
       "  </thead>\n",
       "  <tbody>\n",
       "    <tr>\n",
       "      <th>0</th>\n",
       "      <td>0</td>\n",
       "      <td>1004</td>\n",
       "      <td>P</td>\n",
       "      <td>1</td>\n",
       "      <td>LU</td>\n",
       "      <td>54594</td>\n",
       "      <td>20000</td>\n",
       "      <td>19720424</td>\n",
       "      <td>E</td>\n",
       "      <td>20070531</td>\n",
       "      <td>...</td>\n",
       "      <td>0.000000</td>\n",
       "      <td>0.099033</td>\n",
       "      <td>1</td>\n",
       "      <td>0.054944</td>\n",
       "      <td>1.685582</td>\n",
       "      <td>0.085840</td>\n",
       "      <td>0.663350</td>\n",
       "      <td>0.114892</td>\n",
       "      <td>0.320244</td>\n",
       "      <td>0.000000</td>\n",
       "    </tr>\n",
       "    <tr>\n",
       "      <th>1</th>\n",
       "      <td>1</td>\n",
       "      <td>1004</td>\n",
       "      <td>P</td>\n",
       "      <td>1</td>\n",
       "      <td>LU</td>\n",
       "      <td>54594</td>\n",
       "      <td>20000</td>\n",
       "      <td>19720424</td>\n",
       "      <td>E</td>\n",
       "      <td>20080531</td>\n",
       "      <td>...</td>\n",
       "      <td>0.000000</td>\n",
       "      <td>0.097841</td>\n",
       "      <td>1</td>\n",
       "      <td>0.055171</td>\n",
       "      <td>1.119154</td>\n",
       "      <td>0.084946</td>\n",
       "      <td>0.907146</td>\n",
       "      <td>0.097728</td>\n",
       "      <td>0.362234</td>\n",
       "      <td>0.000000</td>\n",
       "    </tr>\n",
       "    <tr>\n",
       "      <th>2</th>\n",
       "      <td>2</td>\n",
       "      <td>1004</td>\n",
       "      <td>P</td>\n",
       "      <td>1</td>\n",
       "      <td>LU</td>\n",
       "      <td>54594</td>\n",
       "      <td>20000</td>\n",
       "      <td>19720424</td>\n",
       "      <td>E</td>\n",
       "      <td>20090531</td>\n",
       "      <td>...</td>\n",
       "      <td>0.000000</td>\n",
       "      <td>0.103386</td>\n",
       "      <td>0</td>\n",
       "      <td>0.057096</td>\n",
       "      <td>0.938077</td>\n",
       "      <td>0.087949</td>\n",
       "      <td>0.695064</td>\n",
       "      <td>0.112120</td>\n",
       "      <td>0.458108</td>\n",
       "      <td>0.000000</td>\n",
       "    </tr>\n",
       "    <tr>\n",
       "      <th>3</th>\n",
       "      <td>3</td>\n",
       "      <td>1004</td>\n",
       "      <td>P</td>\n",
       "      <td>1</td>\n",
       "      <td>LU</td>\n",
       "      <td>54594</td>\n",
       "      <td>20000</td>\n",
       "      <td>19720424</td>\n",
       "      <td>E</td>\n",
       "      <td>20100531</td>\n",
       "      <td>...</td>\n",
       "      <td>0.000000</td>\n",
       "      <td>0.112342</td>\n",
       "      <td>1</td>\n",
       "      <td>0.029731</td>\n",
       "      <td>1.020605</td>\n",
       "      <td>0.054717</td>\n",
       "      <td>0.585112</td>\n",
       "      <td>0.086281</td>\n",
       "      <td>0.237329</td>\n",
       "      <td>0.000000</td>\n",
       "    </tr>\n",
       "    <tr>\n",
       "      <th>4</th>\n",
       "      <td>4</td>\n",
       "      <td>1004</td>\n",
       "      <td>P</td>\n",
       "      <td>1</td>\n",
       "      <td>LU</td>\n",
       "      <td>54594</td>\n",
       "      <td>20000</td>\n",
       "      <td>19720424</td>\n",
       "      <td>E</td>\n",
       "      <td>20110531</td>\n",
       "      <td>...</td>\n",
       "      <td>0.015195</td>\n",
       "      <td>0.096520</td>\n",
       "      <td>0</td>\n",
       "      <td>0.040984</td>\n",
       "      <td>1.125593</td>\n",
       "      <td>0.077733</td>\n",
       "      <td>0.531052</td>\n",
       "      <td>0.298922</td>\n",
       "      <td>0.137477</td>\n",
       "      <td>0.015195</td>\n",
       "    </tr>\n",
       "  </tbody>\n",
       "</table>\n",
       "<p>5 rows × 60 columns</p>\n",
       "</div>"
      ],
      "text/plain": [
       "   Unnamed: 0  GVKEY LINKPRIM  LIID LINKTYPE  LPERMNO  LPERMCO    LINKDT  \\\n",
       "0           0   1004        P     1       LU    54594    20000  19720424   \n",
       "1           1   1004        P     1       LU    54594    20000  19720424   \n",
       "2           2   1004        P     1       LU    54594    20000  19720424   \n",
       "3           3   1004        P     1       LU    54594    20000  19720424   \n",
       "4           4   1004        P     1       LU    54594    20000  19720424   \n",
       "\n",
       "  LINKENDDT  datadate  ...  Div_over_Earn      SQ_A Acquisitions ROA_w01_w99  \\\n",
       "0         E  20070531  ...       0.000000  0.099033            1    0.054944   \n",
       "1         E  20080531  ...       0.000000  0.097841            1    0.055171   \n",
       "2         E  20090531  ...       0.000000  0.103386            0    0.057096   \n",
       "3         E  20100531  ...       0.000000  0.112342            1    0.029731   \n",
       "4         E  20110531  ...       0.015195  0.096520            0    0.040984   \n",
       "\n",
       "  Tobins_Q_w95 CF_w01_w99 Lev_w05_w95 Inv_w01_w99 CashHold_w95  DoE_w01_w99  \n",
       "0     1.685582   0.085840    0.663350    0.114892     0.320244     0.000000  \n",
       "1     1.119154   0.084946    0.907146    0.097728     0.362234     0.000000  \n",
       "2     0.938077   0.087949    0.695064    0.112120     0.458108     0.000000  \n",
       "3     1.020605   0.054717    0.585112    0.086281     0.237329     0.000000  \n",
       "4     1.125593   0.077733    0.531052    0.298922     0.137477     0.015195  \n",
       "\n",
       "[5 rows x 60 columns]"
      ]
     },
     "execution_count": 3,
     "metadata": {},
     "output_type": "execute_result"
    }
   ],
   "source": [
    "company_data_raw.head()"
   ]
  },
  {
   "cell_type": "code",
   "execution_count": 4,
   "metadata": {
    "pycharm": {
     "is_executing": true
    }
   },
   "outputs": [
    {
     "data": {
      "text/html": [
       "<div>\n",
       "<style scoped>\n",
       "    .dataframe tbody tr th:only-of-type {\n",
       "        vertical-align: middle;\n",
       "    }\n",
       "\n",
       "    .dataframe tbody tr th {\n",
       "        vertical-align: top;\n",
       "    }\n",
       "\n",
       "    .dataframe thead th {\n",
       "        text-align: right;\n",
       "    }\n",
       "</style>\n",
       "<table border=\"1\" class=\"dataframe\">\n",
       "  <thead>\n",
       "    <tr style=\"text-align: right;\">\n",
       "      <th></th>\n",
       "      <th>EXEC_FULLNAME</th>\n",
       "      <th>CO_PER_ROL</th>\n",
       "      <th>CONAME</th>\n",
       "      <th>CEOANN</th>\n",
       "      <th>AGE</th>\n",
       "      <th>GVKEY</th>\n",
       "      <th>EXECID</th>\n",
       "      <th>YEAR</th>\n",
       "      <th>BECAMECEO</th>\n",
       "      <th>JOINED_CO</th>\n",
       "      <th>...</th>\n",
       "      <th>TELE</th>\n",
       "      <th>SICDESC</th>\n",
       "      <th>NAICSDESC</th>\n",
       "      <th>INDDESC</th>\n",
       "      <th>SPCODE</th>\n",
       "      <th>TICKER</th>\n",
       "      <th>SUB_TELE</th>\n",
       "      <th>NAICS</th>\n",
       "      <th>SPINDEX</th>\n",
       "      <th>SIC</th>\n",
       "    </tr>\n",
       "  </thead>\n",
       "  <tbody>\n",
       "    <tr>\n",
       "      <th>0</th>\n",
       "      <td>A. Alexander Rhodes</td>\n",
       "      <td>52774</td>\n",
       "      <td>TAILORED BRANDS INC</td>\n",
       "      <td>NaN</td>\n",
       "      <td>56.0</td>\n",
       "      <td>25167</td>\n",
       "      <td>49280</td>\n",
       "      <td>2015</td>\n",
       "      <td>NaN</td>\n",
       "      <td>NaN</td>\n",
       "      <td>...</td>\n",
       "      <td>281 776 7000</td>\n",
       "      <td>APPAREL AND ACCESSORY STORES</td>\n",
       "      <td>Men's Clothing Stores</td>\n",
       "      <td>Apparel Retail</td>\n",
       "      <td>EX</td>\n",
       "      <td>TLRDQ</td>\n",
       "      <td>281.0</td>\n",
       "      <td>448110</td>\n",
       "      <td>2550.0</td>\n",
       "      <td>5600</td>\n",
       "    </tr>\n",
       "    <tr>\n",
       "      <th>1</th>\n",
       "      <td>A. Alexander Rhodes</td>\n",
       "      <td>52774</td>\n",
       "      <td>TAILORED BRANDS INC</td>\n",
       "      <td>NaN</td>\n",
       "      <td>57.0</td>\n",
       "      <td>25167</td>\n",
       "      <td>49280</td>\n",
       "      <td>2016</td>\n",
       "      <td>NaN</td>\n",
       "      <td>NaN</td>\n",
       "      <td>...</td>\n",
       "      <td>281 776 7000</td>\n",
       "      <td>APPAREL AND ACCESSORY STORES</td>\n",
       "      <td>Men's Clothing Stores</td>\n",
       "      <td>Apparel Retail</td>\n",
       "      <td>EX</td>\n",
       "      <td>TLRDQ</td>\n",
       "      <td>281.0</td>\n",
       "      <td>448110</td>\n",
       "      <td>2550.0</td>\n",
       "      <td>5600</td>\n",
       "    </tr>\n",
       "    <tr>\n",
       "      <th>2</th>\n",
       "      <td>A. Alexander Rhodes</td>\n",
       "      <td>52774</td>\n",
       "      <td>TAILORED BRANDS INC</td>\n",
       "      <td>NaN</td>\n",
       "      <td>58.0</td>\n",
       "      <td>25167</td>\n",
       "      <td>49280</td>\n",
       "      <td>2017</td>\n",
       "      <td>NaN</td>\n",
       "      <td>NaN</td>\n",
       "      <td>...</td>\n",
       "      <td>281 776 7000</td>\n",
       "      <td>APPAREL AND ACCESSORY STORES</td>\n",
       "      <td>Men's Clothing Stores</td>\n",
       "      <td>Apparel Retail</td>\n",
       "      <td>EX</td>\n",
       "      <td>TLRDQ</td>\n",
       "      <td>281.0</td>\n",
       "      <td>448110</td>\n",
       "      <td>2550.0</td>\n",
       "      <td>5600</td>\n",
       "    </tr>\n",
       "    <tr>\n",
       "      <th>3</th>\n",
       "      <td>A. Alexander Rhodes</td>\n",
       "      <td>52774</td>\n",
       "      <td>TAILORED BRANDS INC</td>\n",
       "      <td>NaN</td>\n",
       "      <td>59.0</td>\n",
       "      <td>25167</td>\n",
       "      <td>49280</td>\n",
       "      <td>2018</td>\n",
       "      <td>NaN</td>\n",
       "      <td>NaN</td>\n",
       "      <td>...</td>\n",
       "      <td>281 776 7000</td>\n",
       "      <td>APPAREL AND ACCESSORY STORES</td>\n",
       "      <td>Men's Clothing Stores</td>\n",
       "      <td>Apparel Retail</td>\n",
       "      <td>EX</td>\n",
       "      <td>TLRDQ</td>\n",
       "      <td>281.0</td>\n",
       "      <td>448110</td>\n",
       "      <td>2550.0</td>\n",
       "      <td>5600</td>\n",
       "    </tr>\n",
       "    <tr>\n",
       "      <th>4</th>\n",
       "      <td>A. Alexander Rhodes</td>\n",
       "      <td>52774</td>\n",
       "      <td>TAILORED BRANDS INC</td>\n",
       "      <td>NaN</td>\n",
       "      <td>60.0</td>\n",
       "      <td>25167</td>\n",
       "      <td>49280</td>\n",
       "      <td>2019</td>\n",
       "      <td>NaN</td>\n",
       "      <td>NaN</td>\n",
       "      <td>...</td>\n",
       "      <td>281 776 7000</td>\n",
       "      <td>APPAREL AND ACCESSORY STORES</td>\n",
       "      <td>Men's Clothing Stores</td>\n",
       "      <td>Apparel Retail</td>\n",
       "      <td>EX</td>\n",
       "      <td>TLRDQ</td>\n",
       "      <td>281.0</td>\n",
       "      <td>448110</td>\n",
       "      <td>2550.0</td>\n",
       "      <td>5600</td>\n",
       "    </tr>\n",
       "  </tbody>\n",
       "</table>\n",
       "<p>5 rows × 40 columns</p>\n",
       "</div>"
      ],
      "text/plain": [
       "         EXEC_FULLNAME  CO_PER_ROL               CONAME CEOANN   AGE  GVKEY  \\\n",
       "0  A. Alexander Rhodes       52774  TAILORED BRANDS INC    NaN  56.0  25167   \n",
       "1  A. Alexander Rhodes       52774  TAILORED BRANDS INC    NaN  57.0  25167   \n",
       "2  A. Alexander Rhodes       52774  TAILORED BRANDS INC    NaN  58.0  25167   \n",
       "3  A. Alexander Rhodes       52774  TAILORED BRANDS INC    NaN  59.0  25167   \n",
       "4  A. Alexander Rhodes       52774  TAILORED BRANDS INC    NaN  60.0  25167   \n",
       "\n",
       "   EXECID  YEAR  BECAMECEO  JOINED_CO  ...          TELE  \\\n",
       "0   49280  2015        NaN        NaN  ...  281 776 7000   \n",
       "1   49280  2016        NaN        NaN  ...  281 776 7000   \n",
       "2   49280  2017        NaN        NaN  ...  281 776 7000   \n",
       "3   49280  2018        NaN        NaN  ...  281 776 7000   \n",
       "4   49280  2019        NaN        NaN  ...  281 776 7000   \n",
       "\n",
       "                        SICDESC              NAICSDESC         INDDESC SPCODE  \\\n",
       "0  APPAREL AND ACCESSORY STORES  Men's Clothing Stores  Apparel Retail     EX   \n",
       "1  APPAREL AND ACCESSORY STORES  Men's Clothing Stores  Apparel Retail     EX   \n",
       "2  APPAREL AND ACCESSORY STORES  Men's Clothing Stores  Apparel Retail     EX   \n",
       "3  APPAREL AND ACCESSORY STORES  Men's Clothing Stores  Apparel Retail     EX   \n",
       "4  APPAREL AND ACCESSORY STORES  Men's Clothing Stores  Apparel Retail     EX   \n",
       "\n",
       "  TICKER SUB_TELE   NAICS SPINDEX   SIC  \n",
       "0  TLRDQ    281.0  448110  2550.0  5600  \n",
       "1  TLRDQ    281.0  448110  2550.0  5600  \n",
       "2  TLRDQ    281.0  448110  2550.0  5600  \n",
       "3  TLRDQ    281.0  448110  2550.0  5600  \n",
       "4  TLRDQ    281.0  448110  2550.0  5600  \n",
       "\n",
       "[5 rows x 40 columns]"
      ]
     },
     "execution_count": 4,
     "metadata": {},
     "output_type": "execute_result"
    }
   ],
   "source": [
    "ceo_data_raw.head()"
   ]
  },
  {
   "cell_type": "code",
   "execution_count": 5,
   "metadata": {
    "pycharm": {
     "is_executing": true
    }
   },
   "outputs": [],
   "source": [
    "company_data_raw_columns = company_data_raw.columns\n",
    "\n",
    "company_cols = ['GVKEY', 'LPERMNO', 'prcc_f', 'fyear', 'ROA_w01_w99', 'Tobins_Q_w95', 'CF_w01_w99',\n",
    "                'Lev_w05_w95', 'Inv_w01_w99', 'CashHold_w95', 'DoE_w01_w99', 'Acquisitions']\n",
    "\n",
    "ceo_data_raw_columns = ceo_data_raw.columns\n",
    "\n",
    "ceo_cols = ['GVKEY', 'CO_PER_ROL', 'YEAR', 'AGE', 'BECAMECEO', 'TITLE', 'CEOANN', 'LEFTOFC', 'LEFTCO', 'JOINED_CO',\n",
    "            'CONAME', 'EXECID']\n",
    "\n",
    "annual_return_cols = ['LPERMNO', 'fyear', 'prcc_pcchg']\n",
    "\n",
    "annual_stdev_cols = ['LPERMNO', 'year', 'stand_dev']"
   ]
  },
  {
   "cell_type": "code",
   "execution_count": 6,
   "metadata": {
    "pycharm": {
     "is_executing": true,
     "name": "#%%\n"
    }
   },
   "outputs": [],
   "source": [
    "#filter data\n",
    "company_data = company_data_raw[company_cols]\n",
    "ceo_data = ceo_data_raw[ceo_cols]\n",
    "\n",
    "ceo_data = ceo_data[ceo_data.CEOANN == \"CEO\"] #extracting only CEOs from manager data"
   ]
  },
  {
   "cell_type": "code",
   "execution_count": 7,
   "metadata": {
    "pycharm": {
     "is_executing": true,
     "name": "#%%\n"
    }
   },
   "outputs": [
    {
     "name": "stderr",
     "output_type": "stream",
     "text": [
      "/Users/irene/opt/anaconda3/envs/intro_to_danalytics_env/lib/python3.6/site-packages/pandas/core/frame.py:4308: SettingWithCopyWarning: \n",
      "A value is trying to be set on a copy of a slice from a DataFrame\n",
      "\n",
      "See the caveats in the documentation: https://pandas.pydata.org/pandas-docs/stable/user_guide/indexing.html#returning-a-view-versus-a-copy\n",
      "  errors=errors,\n"
     ]
    }
   ],
   "source": [
    "#rename y's\n",
    "annual_return_price_data = annual_return_price_data_raw[annual_return_cols]\n",
    "annual_return_price_data.rename(columns={'prcc_pcchg': 'avg_return'}, inplace=True)\n",
    "\n",
    "annual_stdev_price_data = annual_stdev_price_data_raw[annual_stdev_cols]\n",
    "annual_stdev_price_data.rename(columns={'stand_dev': 'sd_return'}, inplace=True)"
   ]
  },
  {
   "cell_type": "code",
   "execution_count": 8,
   "metadata": {
    "pycharm": {
     "is_executing": true,
     "name": "#%%\n"
    }
   },
   "outputs": [],
   "source": [
    "# drop age with nans - about 100 rows removed\n",
    "ceo_data = ceo_data[ceo_data['AGE'].notna()]"
   ]
  },
  {
   "cell_type": "code",
   "execution_count": 9,
   "metadata": {
    "pycharm": {
     "is_executing": true,
     "name": "#%%\n"
    }
   },
   "outputs": [],
   "source": [
    "# join data\n",
    "data_joined = company_data.join(annual_return_price_data.set_index(['LPERMNO', 'fyear']), on=['LPERMNO', 'fyear'], how='inner',\n",
    "                                lsuffix='',\n",
    "                                rsuffix='', sort=False)\n",
    "\n",
    "data_joined = data_joined.join(annual_stdev_price_data.set_index(['LPERMNO', 'year']), on=['LPERMNO', 'fyear'], how='inner',\n",
    "                                lsuffix='',\n",
    "                                rsuffix='', sort=False)\n",
    "\n",
    "data_joined = data_joined.join(ceo_data.set_index(['GVKEY', 'YEAR']), on=['GVKEY', 'fyear'], how='inner', lsuffix='',\n",
    "                               rsuffix='', sort=False)"
   ]
  },
  {
   "cell_type": "code",
   "execution_count": 10,
   "metadata": {
    "pycharm": {
     "is_executing": true,
     "name": "#%%\n"
    }
   },
   "outputs": [],
   "source": [
    "data_joined = data_joined[data_joined[\"fyear\"] != 2021]"
   ]
  },
  {
   "cell_type": "markdown",
   "metadata": {},
   "source": [
    "### 1. Data preprocessing "
   ]
  },
  {
   "cell_type": "markdown",
   "metadata": {},
   "source": [
    "#### 1.1 Dummy Variables"
   ]
  },
  {
   "cell_type": "code",
   "execution_count": 11,
   "metadata": {},
   "outputs": [],
   "source": [
    "#founder - 1, otherwise 0\n",
    "if_founder = data_joined['TITLE'].str.contains('founder')\n",
    "data_joined['dummy_founder'] = if_founder"
   ]
  },
  {
   "cell_type": "code",
   "execution_count": 12,
   "metadata": {},
   "outputs": [],
   "source": [
    "# president - 1, otherwise 0\n",
    "if_president = data_joined['TITLE'].str.contains('president')\n",
    "data_joined['dummy_president'] = if_founder"
   ]
  },
  {
   "cell_type": "code",
   "execution_count": 13,
   "metadata": {},
   "outputs": [],
   "source": [
    "# chairman - 1, otherwise 0\n",
    "if_chairman = data_joined['TITLE'].str.contains('chairman')\n",
    "data_joined['dummy_chairman'] = if_founder"
   ]
  },
  {
   "cell_type": "code",
   "execution_count": 14,
   "metadata": {},
   "outputs": [],
   "source": [
    "# chairman + president - 1, otherwise 0\n",
    "data_joined['dummy_chairman_president'] = data_joined['TITLE'].str.contains('|'.join(['chairmam', 'president']))"
   ]
  },
  {
   "cell_type": "code",
   "execution_count": 15,
   "metadata": {},
   "outputs": [],
   "source": [
    "# drop columns only important for joining\n",
    "data_joined.drop(['TITLE'], axis=1, inplace=True)"
   ]
  },
  {
   "cell_type": "code",
   "execution_count": 16,
   "metadata": {},
   "outputs": [
    {
     "data": {
      "text/plain": [
       "1        False\n",
       "2        False\n",
       "3        False\n",
       "4        False\n",
       "5        False\n",
       "         ...  \n",
       "78281    False\n",
       "78329    False\n",
       "78330    False\n",
       "78340    False\n",
       "78341    False\n",
       "Name: dummy_chairman_president, Length: 21781, dtype: bool"
      ]
     },
     "execution_count": 16,
     "metadata": {},
     "output_type": "execute_result"
    }
   ],
   "source": [
    "# expect CEOs with nan in the title column to be only CEO and having no other position\n",
    "data_joined['dummy_founder'].fillna(False)\n",
    "data_joined['dummy_president'].fillna(False)\n",
    "data_joined['dummy_chairman'].fillna(False)\n",
    "data_joined['dummy_chairman_president'].fillna(False)"
   ]
  },
  {
   "cell_type": "markdown",
   "metadata": {},
   "source": [
    "#### 1.2 Additional Features"
   ]
  },
  {
   "cell_type": "code",
   "execution_count": 17,
   "metadata": {},
   "outputs": [],
   "source": [
    "# if ceo has Nan for BECAMECEO, we check if it exists when grouping by CO_PER_ROL or set it to JOIN_CO if it exists\n",
    "def fix_becameceo(row):\n",
    "    if pd.isnull(row['BECAMECEO']):\n",
    "        return row['JOINED_CO']\n",
    "    return row['BECAMECEO']"
   ]
  },
  {
   "cell_type": "code",
   "execution_count": 18,
   "metadata": {},
   "outputs": [],
   "source": [
    "# setting the start date as the JOINED_CO date --> from 282 Nan values to 265 (should we drop others??)\n",
    "data_joined['BECAMECEO'] = data_joined.apply(lambda row: fix_becameceo(row), axis=1)"
   ]
  },
  {
   "cell_type": "code",
   "execution_count": 19,
   "metadata": {},
   "outputs": [],
   "source": [
    "# if ceo has Nan for LEFTOFC, we set it to 31.12.2020 - we assume the person is still the CEO of the company\n",
    "# we excluded 2021 data, that's why we used 2020\n",
    "def fix_leftofc(row):\n",
    "    if pd.isnull(row['LEFTOFC']):\n",
    "        return '20201231'\n",
    "    return row['LEFTOFC']"
   ]
  },
  {
   "cell_type": "code",
   "execution_count": 20,
   "metadata": {},
   "outputs": [],
   "source": [
    "data_joined['LEFTOFC'] = data_joined.apply(lambda row: fix_leftofc(row), axis=1)"
   ]
  },
  {
   "cell_type": "code",
   "execution_count": 21,
   "metadata": {},
   "outputs": [
    {
     "name": "stdout",
     "output_type": "stream",
     "text": [
      "0\n"
     ]
    }
   ],
   "source": [
    "print(data_joined['LEFTOFC'].isnull().sum()) # 0 Nan"
   ]
  },
  {
   "cell_type": "code",
   "execution_count": 22,
   "metadata": {},
   "outputs": [],
   "source": [
    "# 3 year requirement for managers\n",
    "data_joined['BECAMECEO'] = pd.to_datetime(data_joined['BECAMECEO'], format='%Y%m%d')\n",
    "data_joined['LEFTOFC'] = pd.to_datetime(data_joined['LEFTOFC'], format='%Y%m%d')"
   ]
  },
  {
   "cell_type": "code",
   "execution_count": 23,
   "metadata": {},
   "outputs": [],
   "source": [
    "data_joined['3Y_THRESH'] = data_joined['LEFTOFC'].dt.year - data_joined['BECAMECEO'].dt.year\n",
    "data_joined = data_joined[data_joined['3Y_THRESH'] >= 3]  # no change because all ceo's so far have stayed>= 3 yr\n",
    "# drop column used for 3yr requirement\n",
    "data_joined.drop(['3Y_THRESH'], axis=1, inplace=True)"
   ]
  },
  {
   "cell_type": "code",
   "execution_count": 24,
   "metadata": {},
   "outputs": [],
   "source": [
    "## at least 2 company requiremnt for managers \n",
    "# for each EXEC ID - at least 2 distinct GVKEY\n",
    "tempdf = data_joined\n",
    "var = data_joined[data_joined['EXECID'] == 17580]  # manually checking\n",
    "\n",
    "ceo_group = data_joined.groupby('EXECID')['GVKEY'].nunique() #not enough data\n",
    "ceo_group.name = 'ceo_group'\n",
    "\n",
    "data_joined = data_joined.join(ceo_group, on=['EXECID'], how='inner', lsuffix='',\n",
    "                               rsuffix='', sort=False)"
   ]
  },
  {
   "cell_type": "code",
   "execution_count": 25,
   "metadata": {},
   "outputs": [],
   "source": [
    "# how many years as CEO - ceo_tenure ----------------------------------\n",
    "data_joined['ceo_tenure'] = (data_joined['LEFTOFC'] - data_joined['BECAMECEO']).dt.days"
   ]
  },
  {
   "cell_type": "code",
   "execution_count": 26,
   "metadata": {},
   "outputs": [],
   "source": [
    "# how many years working there - not relevant anymore -----------------\n",
    "# PROBLEM - NULL VALUES\n",
    "# data_joined['working_days'] = (data_joined['LEFTCO'] - data_joined['JOINED_CO']).dt.days\n",
    "# print(data_joined['working_days'])\n",
    "\n",
    "# percentage change in stock prices\n",
    "\n",
    "# -> group for single CEOs - avg_change_in_sp"
   ]
  },
  {
   "cell_type": "code",
   "execution_count": 27,
   "metadata": {},
   "outputs": [],
   "source": [
    "# drop columns only important for calculating date related attributes\n",
    "data_joined.drop(\n",
    "    ['JOINED_CO', 'BECAMECEO', 'LEFTCO', 'LEFTOFC', 'CO_PER_ROL', 'CEOANN', 'CONAME', 'LPERMNO', 'prcc_f', 'EXECID'],\n",
    "    axis=1,\n",
    "    inplace=True)"
   ]
  },
  {
   "cell_type": "code",
   "execution_count": 28,
   "metadata": {},
   "outputs": [
    {
     "data": {
      "text/plain": [
       "(20077, 19)"
      ]
     },
     "execution_count": 28,
     "metadata": {},
     "output_type": "execute_result"
    }
   ],
   "source": [
    "data_joined.shape"
   ]
  },
  {
   "cell_type": "code",
   "execution_count": 29,
   "metadata": {},
   "outputs": [
    {
     "data": {
      "text/plain": [
       "GVKEY                          0\n",
       "fyear                          0\n",
       "ROA_w01_w99                    1\n",
       "Tobins_Q_w95                   2\n",
       "CF_w01_w99                  1556\n",
       "Lev_w05_w95                   48\n",
       "Inv_w01_w99                 1402\n",
       "CashHold_w95                1339\n",
       "DoE_w01_w99                 1328\n",
       "Acquisitions                   0\n",
       "avg_return                     0\n",
       "sd_return                      0\n",
       "AGE                            0\n",
       "dummy_founder                 40\n",
       "dummy_president               40\n",
       "dummy_chairman                40\n",
       "dummy_chairman_president      40\n",
       "ceo_group                      0\n",
       "ceo_tenure                     0\n",
       "dtype: int64"
      ]
     },
     "execution_count": 29,
     "metadata": {},
     "output_type": "execute_result"
    }
   ],
   "source": [
    "data_joined.isnull().sum(axis=0)"
   ]
  },
  {
   "cell_type": "code",
   "execution_count": 30,
   "metadata": {},
   "outputs": [],
   "source": [
    "# removing nan rows in the end\n",
    "data_joined.dropna(inplace=True)"
   ]
  },
  {
   "cell_type": "markdown",
   "metadata": {},
   "source": [
    "### Modelling"
   ]
  },
  {
   "cell_type": "markdown",
   "metadata": {},
   "source": [
    "Modelling for predicting avg_return (all vars)"
   ]
  },
  {
   "cell_type": "code",
   "execution_count": 31,
   "metadata": {},
   "outputs": [
    {
     "name": "stderr",
     "output_type": "stream",
     "text": [
      "/Users/irene/opt/anaconda3/envs/intro_to_danalytics_env/lib/python3.6/site-packages/linearmodels/panel/model.py:1798: AbsorbingEffectWarning: \n",
      "Variables have been fully absorbed and have removed from the regression:\n",
      "\n",
      "dummy_president, dummy_chairman\n",
      "\n",
      "  AbsorbingEffectWarning,\n"
     ]
    },
    {
     "data": {
      "text/html": [
       "<table class=\"simpletable\">\n",
       "<caption>PanelOLS Estimation Summary</caption>\n",
       "<tr>\n",
       "  <th>Dep. Variable:</th>       <td>avg_return</td>    <th>  R-squared:         </th>     <td>0.0156</td>   \n",
       "</tr>\n",
       "<tr>\n",
       "  <th>Estimator:</th>            <td>PanelOLS</td>     <th>  R-squared (Between):</th>    <td>-0.0283</td>  \n",
       "</tr>\n",
       "<tr>\n",
       "  <th>No. Observations:</th>       <td>18104</td>      <th>  R-squared (Within):</th>     <td>0.0206</td>   \n",
       "</tr>\n",
       "<tr>\n",
       "  <th>Date:</th>             <td>Thu, Mar 17 2022</td> <th>  R-squared (Overall):</th>    <td>-0.0043</td>  \n",
       "</tr>\n",
       "<tr>\n",
       "  <th>Time:</th>                 <td>08:05:26</td>     <th>  Log-likelihood     </th>   <td>-2.715e+04</td> \n",
       "</tr>\n",
       "<tr>\n",
       "  <th>Cov. Estimator:</th>      <td>Unadjusted</td>    <th>                     </th>        <td></td>      \n",
       "</tr>\n",
       "<tr>\n",
       "  <th></th>                          <td></td>         <th>  F-statistic:       </th>     <td>19.770</td>   \n",
       "</tr>\n",
       "<tr>\n",
       "  <th>Entities:</th>               <td>1834</td>       <th>  P-value            </th>     <td>0.0000</td>   \n",
       "</tr>\n",
       "<tr>\n",
       "  <th>Avg Obs:</th>               <td>9.8713</td>      <th>  Distribution:      </th>   <td>F(13,16244)</td>\n",
       "</tr>\n",
       "<tr>\n",
       "  <th>Min Obs:</th>               <td>1.0000</td>      <th>                     </th>        <td></td>      \n",
       "</tr>\n",
       "<tr>\n",
       "  <th>Max Obs:</th>               <td>38.000</td>      <th>  F-statistic (robust):</th>   <td>19.770</td>   \n",
       "</tr>\n",
       "<tr>\n",
       "  <th></th>                          <td></td>         <th>  P-value            </th>     <td>0.0000</td>   \n",
       "</tr>\n",
       "<tr>\n",
       "  <th>Time periods:</th>            <td>14</td>        <th>  Distribution:      </th>   <td>F(13,16244)</td>\n",
       "</tr>\n",
       "<tr>\n",
       "  <th>Avg Obs:</th>               <td>1293.1</td>      <th>                     </th>        <td></td>      \n",
       "</tr>\n",
       "<tr>\n",
       "  <th>Min Obs:</th>               <td>810.00</td>      <th>                     </th>        <td></td>      \n",
       "</tr>\n",
       "<tr>\n",
       "  <th>Max Obs:</th>               <td>1508.0</td>      <th>                     </th>        <td></td>      \n",
       "</tr>\n",
       "<tr>\n",
       "  <th></th>                          <td></td>         <th>                     </th>        <td></td>      \n",
       "</tr>\n",
       "</table>\n",
       "<table class=\"simpletable\">\n",
       "<caption>Parameter Estimates</caption>\n",
       "<tr>\n",
       "              <td></td>              <th>Parameter</th> <th>Std. Err.</th> <th>T-stat</th>  <th>P-value</th> <th>Lower CI</th>   <th>Upper CI</th> \n",
       "</tr>\n",
       "<tr>\n",
       "  <th>const</th>                      <td>0.0443</td>    <td>0.1605</td>   <td>0.2763</td>  <td>0.7823</td>   <td>-0.2702</td>    <td>0.3589</td>  \n",
       "</tr>\n",
       "<tr>\n",
       "  <th>ROA_w01_w99</th>                <td>0.6278</td>    <td>0.3533</td>   <td>1.7769</td>  <td>0.0756</td>   <td>-0.0647</td>    <td>1.3204</td>  \n",
       "</tr>\n",
       "<tr>\n",
       "  <th>Tobins_Q_w95</th>               <td>0.2300</td>    <td>0.0182</td>   <td>12.658</td>  <td>0.0000</td>   <td>0.1944</td>     <td>0.2656</td>  \n",
       "</tr>\n",
       "<tr>\n",
       "  <th>CF_w01_w99</th>                 <td>-0.4637</td>   <td>0.3806</td>   <td>-1.2182</td> <td>0.2232</td>   <td>-1.2098</td>    <td>0.2824</td>  \n",
       "</tr>\n",
       "<tr>\n",
       "  <th>Lev_w05_w95</th>                <td>0.0044</td>    <td>0.0138</td>   <td>0.3171</td>  <td>0.7512</td>   <td>-0.0227</td>    <td>0.0315</td>  \n",
       "</tr>\n",
       "<tr>\n",
       "  <th>Inv_w01_w99</th>                <td>-0.7145</td>   <td>0.1022</td>   <td>-6.9919</td> <td>0.0000</td>   <td>-0.9148</td>    <td>-0.5142</td> \n",
       "</tr>\n",
       "<tr>\n",
       "  <th>CashHold_w95</th>               <td>0.0130</td>    <td>0.0027</td>   <td>4.7521</td>  <td>0.0000</td>   <td>0.0076</td>     <td>0.0183</td>  \n",
       "</tr>\n",
       "<tr>\n",
       "  <th>DoE_w01_w99</th>                <td>-0.0784</td>   <td>0.0576</td>   <td>-1.3622</td> <td>0.1732</td>   <td>-0.1913</td>    <td>0.0344</td>  \n",
       "</tr>\n",
       "<tr>\n",
       "  <th>Acquisitions</th>               <td>-0.0776</td>   <td>0.0230</td>   <td>-3.3769</td> <td>0.0007</td>   <td>-0.1226</td>    <td>-0.0326</td> \n",
       "</tr>\n",
       "<tr>\n",
       "  <th>AGE</th>                        <td>-0.0048</td>   <td>0.0024</td>   <td>-1.9865</td> <td>0.0470</td>   <td>-0.0096</td>  <td>-6.427e-05</td>\n",
       "</tr>\n",
       "<tr>\n",
       "  <th>dummy_founder</th>              <td>0.2982</td>    <td>0.6391</td>   <td>0.4666</td>  <td>0.6408</td>   <td>-0.9546</td>    <td>1.5510</td>  \n",
       "</tr>\n",
       "<tr>\n",
       "  <th>dummy_chairman_president</th>   <td>0.2250</td>    <td>0.1257</td>   <td>1.7894</td>  <td>0.0736</td>   <td>-0.0215</td>    <td>0.4714</td>  \n",
       "</tr>\n",
       "<tr>\n",
       "  <th>ceo_group</th>                  <td>0.1332</td>    <td>0.0915</td>   <td>1.4567</td>  <td>0.1452</td>   <td>-0.0460</td>    <td>0.3125</td>  \n",
       "</tr>\n",
       "<tr>\n",
       "  <th>ceo_tenure</th>               <td>-4.682e-06</td> <td>8.22e-06</td>  <td>-0.5696</td> <td>0.5690</td>  <td>-2.08e-05</td>  <td>1.143e-05</td>\n",
       "</tr>\n",
       "</table><br/><br/>F-test for Poolability: 1.8601<br/>P-value: 0.0000<br/>Distribution: F(1846,16244)<br/><br/>Included effects: Entity, Time<br/>id: 0x7fdfddeb6240"
      ],
      "text/plain": [
       "                          PanelOLS Estimation Summary                           \n",
       "================================================================================\n",
       "Dep. Variable:             avg_return   R-squared:                        0.0156\n",
       "Estimator:                   PanelOLS   R-squared (Between):             -0.0283\n",
       "No. Observations:               18104   R-squared (Within):               0.0206\n",
       "Date:                Thu, Mar 17 2022   R-squared (Overall):             -0.0043\n",
       "Time:                        08:05:26   Log-likelihood                -2.715e+04\n",
       "Cov. Estimator:            Unadjusted                                           \n",
       "                                        F-statistic:                      19.770\n",
       "Entities:                        1834   P-value                           0.0000\n",
       "Avg Obs:                       9.8713   Distribution:                F(13,16244)\n",
       "Min Obs:                       1.0000                                           \n",
       "Max Obs:                       38.000   F-statistic (robust):             19.770\n",
       "                                        P-value                           0.0000\n",
       "Time periods:                      14   Distribution:                F(13,16244)\n",
       "Avg Obs:                       1293.1                                           \n",
       "Min Obs:                       810.00                                           \n",
       "Max Obs:                       1508.0                                           \n",
       "                                                                                \n",
       "                                    Parameter Estimates                                     \n",
       "============================================================================================\n",
       "                          Parameter  Std. Err.     T-stat    P-value    Lower CI    Upper CI\n",
       "--------------------------------------------------------------------------------------------\n",
       "const                        0.0443     0.1605     0.2763     0.7823     -0.2702      0.3589\n",
       "ROA_w01_w99                  0.6278     0.3533     1.7769     0.0756     -0.0647      1.3204\n",
       "Tobins_Q_w95                 0.2300     0.0182     12.658     0.0000      0.1944      0.2656\n",
       "CF_w01_w99                  -0.4637     0.3806    -1.2182     0.2232     -1.2098      0.2824\n",
       "Lev_w05_w95                  0.0044     0.0138     0.3171     0.7512     -0.0227      0.0315\n",
       "Inv_w01_w99                 -0.7145     0.1022    -6.9919     0.0000     -0.9148     -0.5142\n",
       "CashHold_w95                 0.0130     0.0027     4.7521     0.0000      0.0076      0.0183\n",
       "DoE_w01_w99                 -0.0784     0.0576    -1.3622     0.1732     -0.1913      0.0344\n",
       "Acquisitions                -0.0776     0.0230    -3.3769     0.0007     -0.1226     -0.0326\n",
       "AGE                         -0.0048     0.0024    -1.9865     0.0470     -0.0096  -6.427e-05\n",
       "dummy_founder                0.2982     0.6391     0.4666     0.6408     -0.9546      1.5510\n",
       "dummy_chairman_president     0.2250     0.1257     1.7894     0.0736     -0.0215      0.4714\n",
       "ceo_group                    0.1332     0.0915     1.4567     0.1452     -0.0460      0.3125\n",
       "ceo_tenure               -4.682e-06   8.22e-06    -0.5696     0.5690   -2.08e-05   1.143e-05\n",
       "============================================================================================\n",
       "\n",
       "F-test for Poolability: 1.8601\n",
       "P-value: 0.0000\n",
       "Distribution: F(1846,16244)\n",
       "\n",
       "Included effects: Entity, Time\n",
       "PanelEffectsResults, id: 0x7fdfddeb6240"
      ]
     },
     "execution_count": 31,
     "metadata": {},
     "output_type": "execute_result"
    }
   ],
   "source": [
    "data_model = data_joined.set_index(['GVKEY', 'fyear', ]).copy(deep=True)\n",
    "\n",
    "data_model.drop('sd_return', axis=1, inplace=True)\n",
    "X = sm.add_constant(data_model.drop('avg_return', axis=1))\n",
    "y = data_model.avg_return\n",
    "\n",
    "mod = PanelOLS(y, X, drop_absorbed=True, check_rank=False, entity_effects=True, time_effects=True)\n",
    "re_res = mod.fit()\n",
    "re_res"
   ]
  },
  {
   "cell_type": "code",
   "execution_count": 32,
   "metadata": {},
   "outputs": [
    {
     "data": {
      "text/html": [
       "<table class=\"simpletable\">\n",
       "<caption>PanelOLS Estimation Summary</caption>\n",
       "<tr>\n",
       "  <th>Dep. Variable:</th>       <td>avg_return</td>    <th>  R-squared:         </th>     <td>0.0215</td>   \n",
       "</tr>\n",
       "<tr>\n",
       "  <th>Estimator:</th>            <td>PanelOLS</td>     <th>  R-squared (Between):</th>    <td>-0.0439</td>  \n",
       "</tr>\n",
       "<tr>\n",
       "  <th>No. Observations:</th>       <td>18104</td>      <th>  R-squared (Within):</th>     <td>0.0215</td>   \n",
       "</tr>\n",
       "<tr>\n",
       "  <th>Date:</th>             <td>Thu, Mar 17 2022</td> <th>  R-squared (Overall):</th>    <td>-0.0114</td>  \n",
       "</tr>\n",
       "<tr>\n",
       "  <th>Time:</th>                 <td>08:05:26</td>     <th>  Log-likelihood     </th>    <td>-2.74e+04</td> \n",
       "</tr>\n",
       "<tr>\n",
       "  <th>Cov. Estimator:</th>      <td>Unadjusted</td>    <th>                     </th>        <td></td>      \n",
       "</tr>\n",
       "<tr>\n",
       "  <th></th>                          <td></td>         <th>  F-statistic:       </th>     <td>27.447</td>   \n",
       "</tr>\n",
       "<tr>\n",
       "  <th>Entities:</th>               <td>1834</td>       <th>  P-value            </th>     <td>0.0000</td>   \n",
       "</tr>\n",
       "<tr>\n",
       "  <th>Avg Obs:</th>               <td>9.8713</td>      <th>  Distribution:      </th>   <td>F(13,16257)</td>\n",
       "</tr>\n",
       "<tr>\n",
       "  <th>Min Obs:</th>               <td>1.0000</td>      <th>                     </th>        <td></td>      \n",
       "</tr>\n",
       "<tr>\n",
       "  <th>Max Obs:</th>               <td>38.000</td>      <th>  F-statistic (robust):</th>   <td>27.447</td>   \n",
       "</tr>\n",
       "<tr>\n",
       "  <th></th>                          <td></td>         <th>  P-value            </th>     <td>0.0000</td>   \n",
       "</tr>\n",
       "<tr>\n",
       "  <th>Time periods:</th>            <td>14</td>        <th>  Distribution:      </th>   <td>F(13,16257)</td>\n",
       "</tr>\n",
       "<tr>\n",
       "  <th>Avg Obs:</th>               <td>1293.1</td>      <th>                     </th>        <td></td>      \n",
       "</tr>\n",
       "<tr>\n",
       "  <th>Min Obs:</th>               <td>810.00</td>      <th>                     </th>        <td></td>      \n",
       "</tr>\n",
       "<tr>\n",
       "  <th>Max Obs:</th>               <td>1508.0</td>      <th>                     </th>        <td></td>      \n",
       "</tr>\n",
       "<tr>\n",
       "  <th></th>                          <td></td>         <th>                     </th>        <td></td>      \n",
       "</tr>\n",
       "</table>\n",
       "<table class=\"simpletable\">\n",
       "<caption>Parameter Estimates</caption>\n",
       "<tr>\n",
       "              <td></td>             <th>Parameter</th> <th>Std. Err.</th> <th>T-stat</th>  <th>P-value</th>  <th>Lower CI</th>  <th>Upper CI</th> \n",
       "</tr>\n",
       "<tr>\n",
       "  <th>const</th>                     <td>0.0861</td>    <td>0.1562</td>   <td>0.5510</td>  <td>0.5816</td>    <td>-0.2201</td>   <td>0.3923</td>  \n",
       "</tr>\n",
       "<tr>\n",
       "  <th>ROA_w01_w99</th>               <td>0.4557</td>    <td>0.3570</td>   <td>1.2763</td>  <td>0.2019</td>    <td>-0.2441</td>   <td>1.1555</td>  \n",
       "</tr>\n",
       "<tr>\n",
       "  <th>Tobins_Q_w95</th>              <td>0.2510</td>    <td>0.0177</td>   <td>14.149</td>  <td>0.0000</td>    <td>0.2162</td>    <td>0.2857</td>  \n",
       "</tr>\n",
       "<tr>\n",
       "  <th>CF_w01_w99</th>                <td>-0.2127</td>   <td>0.3847</td>   <td>-0.5529</td> <td>0.5803</td>    <td>-0.9668</td>   <td>0.5413</td>  \n",
       "</tr>\n",
       "<tr>\n",
       "  <th>Lev_w05_w95</th>               <td>-0.0140</td>   <td>0.0139</td>   <td>-1.0130</td> <td>0.3111</td>    <td>-0.0412</td>   <td>0.0131</td>  \n",
       "</tr>\n",
       "<tr>\n",
       "  <th>Inv_w01_w99</th>               <td>-0.9618</td>   <td>0.0998</td>   <td>-9.6341</td> <td>0.0000</td>    <td>-1.1575</td>   <td>-0.7661</td> \n",
       "</tr>\n",
       "<tr>\n",
       "  <th>CashHold_w95</th>              <td>0.0162</td>    <td>0.0028</td>   <td>5.8754</td>  <td>0.0000</td>    <td>0.0108</td>    <td>0.0216</td>  \n",
       "</tr>\n",
       "<tr>\n",
       "  <th>DoE_w01_w99</th>               <td>-0.0891</td>   <td>0.0580</td>   <td>-1.5349</td> <td>0.1248</td>    <td>-0.2028</td>   <td>0.0247</td>  \n",
       "</tr>\n",
       "<tr>\n",
       "  <th>Acquisitions</th>              <td>-0.0982</td>   <td>0.0232</td>   <td>-4.2324</td> <td>0.0000</td>    <td>-0.1437</td>   <td>-0.0527</td> \n",
       "</tr>\n",
       "<tr>\n",
       "  <th>AGE</th>                       <td>-0.0057</td>   <td>0.0022</td>   <td>-2.5712</td> <td>0.0101</td>    <td>-0.0101</td>   <td>-0.0014</td> \n",
       "</tr>\n",
       "<tr>\n",
       "  <th>dummy_founder</th>             <td>0.2444</td>    <td>0.6473</td>   <td>0.3775</td>  <td>0.7058</td>    <td>-1.0244</td>   <td>1.5132</td>  \n",
       "</tr>\n",
       "<tr>\n",
       "  <th>dummy_chairman_president</th>  <td>0.0655</td>    <td>0.1244</td>   <td>0.5270</td>  <td>0.5982</td>    <td>-0.1782</td>   <td>0.3093</td>  \n",
       "</tr>\n",
       "<tr>\n",
       "  <th>ceo_group</th>                 <td>0.1405</td>    <td>0.0927</td>   <td>1.5165</td>  <td>0.1294</td>    <td>-0.0411</td>   <td>0.3221</td>  \n",
       "</tr>\n",
       "<tr>\n",
       "  <th>ceo_tenure</th>               <td>9.143e-08</td> <td>7.208e-06</td> <td>0.0127</td>  <td>0.9899</td>  <td>-1.404e-05</td> <td>1.422e-05</td>\n",
       "</tr>\n",
       "</table><br/><br/>F-test for Poolability: 1.5880<br/>P-value: 0.0000<br/>Distribution: F(1833,16257)<br/><br/>Included effects: Entity<br/>id: 0x7fdfdde320f0"
      ],
      "text/plain": [
       "                          PanelOLS Estimation Summary                           \n",
       "================================================================================\n",
       "Dep. Variable:             avg_return   R-squared:                        0.0215\n",
       "Estimator:                   PanelOLS   R-squared (Between):             -0.0439\n",
       "No. Observations:               18104   R-squared (Within):               0.0215\n",
       "Date:                Thu, Mar 17 2022   R-squared (Overall):             -0.0114\n",
       "Time:                        08:05:26   Log-likelihood                 -2.74e+04\n",
       "Cov. Estimator:            Unadjusted                                           \n",
       "                                        F-statistic:                      27.447\n",
       "Entities:                        1834   P-value                           0.0000\n",
       "Avg Obs:                       9.8713   Distribution:                F(13,16257)\n",
       "Min Obs:                       1.0000                                           \n",
       "Max Obs:                       38.000   F-statistic (robust):             27.447\n",
       "                                        P-value                           0.0000\n",
       "Time periods:                      14   Distribution:                F(13,16257)\n",
       "Avg Obs:                       1293.1                                           \n",
       "Min Obs:                       810.00                                           \n",
       "Max Obs:                       1508.0                                           \n",
       "                                                                                \n",
       "                                    Parameter Estimates                                     \n",
       "============================================================================================\n",
       "                          Parameter  Std. Err.     T-stat    P-value    Lower CI    Upper CI\n",
       "--------------------------------------------------------------------------------------------\n",
       "const                        0.0861     0.1562     0.5510     0.5816     -0.2201      0.3923\n",
       "ROA_w01_w99                  0.4557     0.3570     1.2763     0.2019     -0.2441      1.1555\n",
       "Tobins_Q_w95                 0.2510     0.0177     14.149     0.0000      0.2162      0.2857\n",
       "CF_w01_w99                  -0.2127     0.3847    -0.5529     0.5803     -0.9668      0.5413\n",
       "Lev_w05_w95                 -0.0140     0.0139    -1.0130     0.3111     -0.0412      0.0131\n",
       "Inv_w01_w99                 -0.9618     0.0998    -9.6341     0.0000     -1.1575     -0.7661\n",
       "CashHold_w95                 0.0162     0.0028     5.8754     0.0000      0.0108      0.0216\n",
       "DoE_w01_w99                 -0.0891     0.0580    -1.5349     0.1248     -0.2028      0.0247\n",
       "Acquisitions                -0.0982     0.0232    -4.2324     0.0000     -0.1437     -0.0527\n",
       "AGE                         -0.0057     0.0022    -2.5712     0.0101     -0.0101     -0.0014\n",
       "dummy_founder                0.2444     0.6473     0.3775     0.7058     -1.0244      1.5132\n",
       "dummy_chairman_president     0.0655     0.1244     0.5270     0.5982     -0.1782      0.3093\n",
       "ceo_group                    0.1405     0.0927     1.5165     0.1294     -0.0411      0.3221\n",
       "ceo_tenure                9.143e-08  7.208e-06     0.0127     0.9899  -1.404e-05   1.422e-05\n",
       "============================================================================================\n",
       "\n",
       "F-test for Poolability: 1.5880\n",
       "P-value: 0.0000\n",
       "Distribution: F(1833,16257)\n",
       "\n",
       "Included effects: Entity\n",
       "PanelEffectsResults, id: 0x7fdfdde320f0"
      ]
     },
     "execution_count": 32,
     "metadata": {},
     "output_type": "execute_result"
    }
   ],
   "source": [
    "mod = PanelOLS(y, X, drop_absorbed=True, check_rank=False, entity_effects=True, time_effects=False)\n",
    "re_res = mod.fit()\n",
    "re_res"
   ]
  },
  {
   "cell_type": "code",
   "execution_count": 33,
   "metadata": {},
   "outputs": [
    {
     "data": {
      "text/html": [
       "<table class=\"simpletable\">\n",
       "<caption>PanelOLS Estimation Summary</caption>\n",
       "<tr>\n",
       "  <th>Dep. Variable:</th>       <td>avg_return</td>    <th>  R-squared:         </th>     <td>0.0097</td>   \n",
       "</tr>\n",
       "<tr>\n",
       "  <th>Estimator:</th>            <td>PanelOLS</td>     <th>  R-squared (Between):</th>    <td>0.0064</td>   \n",
       "</tr>\n",
       "<tr>\n",
       "  <th>No. Observations:</th>       <td>18104</td>      <th>  R-squared (Within):</th>     <td>0.0101</td>   \n",
       "</tr>\n",
       "<tr>\n",
       "  <th>Date:</th>             <td>Thu, Mar 17 2022</td> <th>  R-squared (Overall):</th>    <td>0.0107</td>   \n",
       "</tr>\n",
       "<tr>\n",
       "  <th>Time:</th>                 <td>08:05:26</td>     <th>  Log-likelihood     </th>   <td>-2.863e+04</td> \n",
       "</tr>\n",
       "<tr>\n",
       "  <th>Cov. Estimator:</th>      <td>Unadjusted</td>    <th>                     </th>        <td></td>      \n",
       "</tr>\n",
       "<tr>\n",
       "  <th></th>                          <td></td>         <th>  F-statistic:       </th>     <td>13.587</td>   \n",
       "</tr>\n",
       "<tr>\n",
       "  <th>Entities:</th>               <td>1834</td>       <th>  P-value            </th>     <td>0.0000</td>   \n",
       "</tr>\n",
       "<tr>\n",
       "  <th>Avg Obs:</th>               <td>9.8713</td>      <th>  Distribution:      </th>   <td>F(13,18077)</td>\n",
       "</tr>\n",
       "<tr>\n",
       "  <th>Min Obs:</th>               <td>1.0000</td>      <th>                     </th>        <td></td>      \n",
       "</tr>\n",
       "<tr>\n",
       "  <th>Max Obs:</th>               <td>38.000</td>      <th>  F-statistic (robust):</th>   <td>13.587</td>   \n",
       "</tr>\n",
       "<tr>\n",
       "  <th></th>                          <td></td>         <th>  P-value            </th>     <td>0.0000</td>   \n",
       "</tr>\n",
       "<tr>\n",
       "  <th>Time periods:</th>            <td>14</td>        <th>  Distribution:      </th>   <td>F(13,18077)</td>\n",
       "</tr>\n",
       "<tr>\n",
       "  <th>Avg Obs:</th>               <td>1293.1</td>      <th>                     </th>        <td></td>      \n",
       "</tr>\n",
       "<tr>\n",
       "  <th>Min Obs:</th>               <td>810.00</td>      <th>                     </th>        <td></td>      \n",
       "</tr>\n",
       "<tr>\n",
       "  <th>Max Obs:</th>               <td>1508.0</td>      <th>                     </th>        <td></td>      \n",
       "</tr>\n",
       "<tr>\n",
       "  <th></th>                          <td></td>         <th>                     </th>        <td></td>      \n",
       "</tr>\n",
       "</table>\n",
       "<table class=\"simpletable\">\n",
       "<caption>Parameter Estimates</caption>\n",
       "<tr>\n",
       "              <td></td>             <th>Parameter</th> <th>Std. Err.</th> <th>T-stat</th>  <th>P-value</th>  <th>Lower CI</th>  <th>Upper CI</th> \n",
       "</tr>\n",
       "<tr>\n",
       "  <th>const</th>                     <td>0.0238</td>    <td>0.0970</td>   <td>0.2451</td>  <td>0.8064</td>    <td>-0.1663</td>   <td>0.2138</td>  \n",
       "</tr>\n",
       "<tr>\n",
       "  <th>ROA_w01_w99</th>               <td>0.2079</td>    <td>0.2463</td>   <td>0.8441</td>  <td>0.3986</td>    <td>-0.2749</td>   <td>0.6908</td>  \n",
       "</tr>\n",
       "<tr>\n",
       "  <th>Tobins_Q_w95</th>              <td>0.1000</td>    <td>0.0101</td>   <td>9.8793</td>  <td>0.0000</td>    <td>0.0801</td>    <td>0.1198</td>  \n",
       "</tr>\n",
       "<tr>\n",
       "  <th>CF_w01_w99</th>                <td>-0.5456</td>   <td>0.2563</td>   <td>-2.1287</td> <td>0.0333</td>    <td>-1.0480</td>   <td>-0.0432</td> \n",
       "</tr>\n",
       "<tr>\n",
       "  <th>Lev_w05_w95</th>               <td>0.0177</td>    <td>0.0089</td>   <td>1.9967</td>  <td>0.0459</td>    <td>0.0003</td>    <td>0.0350</td>  \n",
       "</tr>\n",
       "<tr>\n",
       "  <th>Inv_w01_w99</th>               <td>-0.2386</td>   <td>0.0703</td>   <td>-3.3937</td> <td>0.0007</td>    <td>-0.3764</td>   <td>-0.1008</td> \n",
       "</tr>\n",
       "<tr>\n",
       "  <th>CashHold_w95</th>              <td>0.0068</td>    <td>0.0013</td>   <td>5.0535</td>  <td>0.0000</td>    <td>0.0041</td>    <td>0.0094</td>  \n",
       "</tr>\n",
       "<tr>\n",
       "  <th>DoE_w01_w99</th>               <td>-0.1575</td>   <td>0.0451</td>   <td>-3.4957</td> <td>0.0005</td>    <td>-0.2458</td>   <td>-0.0692</td> \n",
       "</tr>\n",
       "<tr>\n",
       "  <th>Acquisitions</th>              <td>-0.0708</td>   <td>0.0177</td>   <td>-3.9883</td> <td>0.0001</td>    <td>-0.1056</td>   <td>-0.0360</td> \n",
       "</tr>\n",
       "<tr>\n",
       "  <th>AGE</th>                       <td>-0.0017</td>   <td>0.0014</td>   <td>-1.2451</td> <td>0.2131</td>    <td>-0.0044</td>   <td>0.0010</td>  \n",
       "</tr>\n",
       "<tr>\n",
       "  <th>dummy_founder</th>             <td>-0.0743</td>   <td>0.2785</td>   <td>-0.2670</td> <td>0.7895</td>    <td>-0.6202</td>   <td>0.4715</td>  \n",
       "</tr>\n",
       "<tr>\n",
       "  <th>dummy_chairman_president</th>  <td>0.3021</td>    <td>0.0912</td>   <td>3.3134</td>  <td>0.0009</td>    <td>0.1234</td>    <td>0.4808</td>  \n",
       "</tr>\n",
       "<tr>\n",
       "  <th>ceo_group</th>                 <td>0.1169</td>    <td>0.0546</td>   <td>2.1388</td>  <td>0.0325</td>    <td>0.0098</td>    <td>0.2240</td>  \n",
       "</tr>\n",
       "<tr>\n",
       "  <th>ceo_tenure</th>               <td>2.577e-06</td> <td>3.253e-06</td> <td>0.7919</td>  <td>0.4284</td>  <td>-3.801e-06</td> <td>8.954e-06</td>\n",
       "</tr>\n",
       "</table><br/><br/>F-test for Poolability: 39.515<br/>P-value: 0.0000<br/>Distribution: F(13,18077)<br/><br/>Included effects: Time<br/>id: 0x7fdfdde39be0"
      ],
      "text/plain": [
       "                          PanelOLS Estimation Summary                           \n",
       "================================================================================\n",
       "Dep. Variable:             avg_return   R-squared:                        0.0097\n",
       "Estimator:                   PanelOLS   R-squared (Between):              0.0064\n",
       "No. Observations:               18104   R-squared (Within):               0.0101\n",
       "Date:                Thu, Mar 17 2022   R-squared (Overall):              0.0107\n",
       "Time:                        08:05:26   Log-likelihood                -2.863e+04\n",
       "Cov. Estimator:            Unadjusted                                           \n",
       "                                        F-statistic:                      13.587\n",
       "Entities:                        1834   P-value                           0.0000\n",
       "Avg Obs:                       9.8713   Distribution:                F(13,18077)\n",
       "Min Obs:                       1.0000                                           \n",
       "Max Obs:                       38.000   F-statistic (robust):             13.587\n",
       "                                        P-value                           0.0000\n",
       "Time periods:                      14   Distribution:                F(13,18077)\n",
       "Avg Obs:                       1293.1                                           \n",
       "Min Obs:                       810.00                                           \n",
       "Max Obs:                       1508.0                                           \n",
       "                                                                                \n",
       "                                    Parameter Estimates                                     \n",
       "============================================================================================\n",
       "                          Parameter  Std. Err.     T-stat    P-value    Lower CI    Upper CI\n",
       "--------------------------------------------------------------------------------------------\n",
       "const                        0.0238     0.0970     0.2451     0.8064     -0.1663      0.2138\n",
       "ROA_w01_w99                  0.2079     0.2463     0.8441     0.3986     -0.2749      0.6908\n",
       "Tobins_Q_w95                 0.1000     0.0101     9.8793     0.0000      0.0801      0.1198\n",
       "CF_w01_w99                  -0.5456     0.2563    -2.1287     0.0333     -1.0480     -0.0432\n",
       "Lev_w05_w95                  0.0177     0.0089     1.9967     0.0459      0.0003      0.0350\n",
       "Inv_w01_w99                 -0.2386     0.0703    -3.3937     0.0007     -0.3764     -0.1008\n",
       "CashHold_w95                 0.0068     0.0013     5.0535     0.0000      0.0041      0.0094\n",
       "DoE_w01_w99                 -0.1575     0.0451    -3.4957     0.0005     -0.2458     -0.0692\n",
       "Acquisitions                -0.0708     0.0177    -3.9883     0.0001     -0.1056     -0.0360\n",
       "AGE                         -0.0017     0.0014    -1.2451     0.2131     -0.0044      0.0010\n",
       "dummy_founder               -0.0743     0.2785    -0.2670     0.7895     -0.6202      0.4715\n",
       "dummy_chairman_president     0.3021     0.0912     3.3134     0.0009      0.1234      0.4808\n",
       "ceo_group                    0.1169     0.0546     2.1388     0.0325      0.0098      0.2240\n",
       "ceo_tenure                2.577e-06  3.253e-06     0.7919     0.4284  -3.801e-06   8.954e-06\n",
       "============================================================================================\n",
       "\n",
       "F-test for Poolability: 39.515\n",
       "P-value: 0.0000\n",
       "Distribution: F(13,18077)\n",
       "\n",
       "Included effects: Time\n",
       "PanelEffectsResults, id: 0x7fdfdde39be0"
      ]
     },
     "execution_count": 33,
     "metadata": {},
     "output_type": "execute_result"
    }
   ],
   "source": [
    "mod = PanelOLS(y, X, drop_absorbed=True, check_rank=False, entity_effects=False, time_effects=True)\n",
    "re_res = mod.fit()\n",
    "re_res"
   ]
  },
  {
   "cell_type": "markdown",
   "metadata": {},
   "source": [
    "Modelling for predicting sd_return (all vars)"
   ]
  },
  {
   "cell_type": "code",
   "execution_count": null,
   "metadata": {},
   "outputs": [],
   "source": [
    "data_model = data_joined.set_index(['GVKEY', 'fyear']).copy(deep=True)\n",
    "\n",
    "data_model.drop('avg_return', axis=1, inplace=True)\n",
    "X = sm.add_constant(data_model.drop('sd_return', axis=1))\n",
    "y = data_model.sd_return\n",
    "\n",
    "mod = PanelOLS(y, X, drop_absorbed=True, check_rank=False, entity_effects=True, time_effects=True)\n",
    "re_res = mod.fit()\n",
    "print(re_res)"
   ]
  },
  {
   "cell_type": "code",
   "execution_count": null,
   "metadata": {},
   "outputs": [],
   "source": [
    "mod = PanelOLS(y, X, drop_absorbed=True, check_rank=False, entity_effects=True, time_effects=False)\n",
    "re_res = mod.fit()\n",
    "print(re_res)"
   ]
  },
  {
   "cell_type": "code",
   "execution_count": null,
   "metadata": {},
   "outputs": [],
   "source": [
    "mod = PanelOLS(y, X, drop_absorbed=True, check_rank=False, entity_effects=False, time_effects=True)\n",
    "re_res = mod.fit()\n",
    "print(re_res)"
   ]
  },
  {
   "cell_type": "markdown",
   "metadata": {},
   "source": [
    "Model for predicting avg_return (only ceo vars)"
   ]
  },
  {
   "cell_type": "code",
   "execution_count": null,
   "metadata": {},
   "outputs": [],
   "source": [
    "data_model = data_joined.set_index(['GVKEY', 'fyear']).copy(deep=True)\n",
    "data_model = data_model[\n",
    "    ['AGE', 'ceo_tenure', 'dummy_chairman_president', 'dummy_chairman', 'dummy_president', 'dummy_founder',\n",
    "     'ceo_group', 'avg_return', 'sd_return']]\n",
    "\n",
    "data_model.drop('sd_return', axis=1, inplace=True)\n",
    "X = sm.add_constant(data_model.drop('avg_return', axis=1))\n",
    "y = data_model.avg_return\n",
    "\n",
    "mod = PanelOLS(y, X, drop_absorbed=True, check_rank=False, entity_effects=True, time_effects=True)\n",
    "re_res = mod.fit()\n",
    "print(re_res)"
   ]
  },
  {
   "cell_type": "code",
   "execution_count": null,
   "metadata": {},
   "outputs": [],
   "source": [
    "mod = PanelOLS(y, X, drop_absorbed=True, check_rank=False, entity_effects=True, time_effects=False)\n",
    "re_res = mod.fit()\n",
    "print(re_res)"
   ]
  },
  {
   "cell_type": "code",
   "execution_count": 34,
   "metadata": {},
   "outputs": [
    {
     "name": "stdout",
     "output_type": "stream",
     "text": [
      "                          PanelOLS Estimation Summary                           \n",
      "================================================================================\n",
      "Dep. Variable:             avg_return   R-squared:                        0.0097\n",
      "Estimator:                   PanelOLS   R-squared (Between):              0.0064\n",
      "No. Observations:               18104   R-squared (Within):               0.0101\n",
      "Date:                Thu, Mar 17 2022   R-squared (Overall):              0.0107\n",
      "Time:                        08:08:47   Log-likelihood                -2.863e+04\n",
      "Cov. Estimator:            Unadjusted                                           \n",
      "                                        F-statistic:                      13.587\n",
      "Entities:                        1834   P-value                           0.0000\n",
      "Avg Obs:                       9.8713   Distribution:                F(13,18077)\n",
      "Min Obs:                       1.0000                                           \n",
      "Max Obs:                       38.000   F-statistic (robust):             13.587\n",
      "                                        P-value                           0.0000\n",
      "Time periods:                      14   Distribution:                F(13,18077)\n",
      "Avg Obs:                       1293.1                                           \n",
      "Min Obs:                       810.00                                           \n",
      "Max Obs:                       1508.0                                           \n",
      "                                                                                \n",
      "                                    Parameter Estimates                                     \n",
      "============================================================================================\n",
      "                          Parameter  Std. Err.     T-stat    P-value    Lower CI    Upper CI\n",
      "--------------------------------------------------------------------------------------------\n",
      "const                        0.0238     0.0970     0.2451     0.8064     -0.1663      0.2138\n",
      "ROA_w01_w99                  0.2079     0.2463     0.8441     0.3986     -0.2749      0.6908\n",
      "Tobins_Q_w95                 0.1000     0.0101     9.8793     0.0000      0.0801      0.1198\n",
      "CF_w01_w99                  -0.5456     0.2563    -2.1287     0.0333     -1.0480     -0.0432\n",
      "Lev_w05_w95                  0.0177     0.0089     1.9967     0.0459      0.0003      0.0350\n",
      "Inv_w01_w99                 -0.2386     0.0703    -3.3937     0.0007     -0.3764     -0.1008\n",
      "CashHold_w95                 0.0068     0.0013     5.0535     0.0000      0.0041      0.0094\n",
      "DoE_w01_w99                 -0.1575     0.0451    -3.4957     0.0005     -0.2458     -0.0692\n",
      "Acquisitions                -0.0708     0.0177    -3.9883     0.0001     -0.1056     -0.0360\n",
      "AGE                         -0.0017     0.0014    -1.2451     0.2131     -0.0044      0.0010\n",
      "dummy_founder               -0.0743     0.2785    -0.2670     0.7895     -0.6202      0.4715\n",
      "dummy_chairman_president     0.3021     0.0912     3.3134     0.0009      0.1234      0.4808\n",
      "ceo_group                    0.1169     0.0546     2.1388     0.0325      0.0098      0.2240\n",
      "ceo_tenure                2.577e-06  3.253e-06     0.7919     0.4284  -3.801e-06   8.954e-06\n",
      "============================================================================================\n",
      "\n",
      "F-test for Poolability: 39.515\n",
      "P-value: 0.0000\n",
      "Distribution: F(13,18077)\n",
      "\n",
      "Included effects: Time\n"
     ]
    }
   ],
   "source": [
    "mod = PanelOLS(y, X, drop_absorbed=True, check_rank=False, entity_effects=False, time_effects=True)\n",
    "re_res = mod.fit()\n",
    "print(re_res)"
   ]
  },
  {
   "cell_type": "markdown",
   "metadata": {},
   "source": [
    "Models fro predicting sd_return (only CEO vars)"
   ]
  },
  {
   "cell_type": "code",
   "execution_count": null,
   "metadata": {},
   "outputs": [],
   "source": [
    "# models for predicting sd_return (only CEO vars)\n",
    "\n",
    "data_model = data_joined.set_index(['GVKEY', 'fyear']).copy(deep=True)\n",
    "data_model = data_model[\n",
    "    ['AGE', 'ceo_tenure', 'dummy_chairman_president', 'dummy_chairman', 'dummy_president', 'dummy_founder',\n",
    "     'ceo_group', 'avg_return', 'sd_return']]\n",
    "\n",
    "data_model.drop('avg_return', axis=1, inplace=True)\n",
    "X = sm.add_constant(data_model.drop('sd_return', axis=1))\n",
    "y = data_model.sd_return\n",
    "\n",
    "mod = PanelOLS(y, X, drop_absorbed=True, check_rank=False, entity_effects=True, time_effects=True)\n",
    "re_res = mod.fit()\n",
    "print(re_res)"
   ]
  },
  {
   "cell_type": "code",
   "execution_count": null,
   "metadata": {},
   "outputs": [],
   "source": [
    "mod = PanelOLS(y, X, drop_absorbed=True, check_rank=False, entity_effects=True, time_effects=False)\n",
    "re_res = mod.fit()\n",
    "print(re_res)"
   ]
  },
  {
   "cell_type": "code",
   "execution_count": null,
   "metadata": {},
   "outputs": [],
   "source": [
    "mod = PanelOLS(y, X, drop_absorbed=True, check_rank=False, entity_effects=False, time_effects=True)\n",
    "re_res = mod.fit()\n",
    "print(re_res)"
   ]
  }
 ],
 "metadata": {
  "kernelspec": {
   "display_name": "Python 3",
   "language": "python",
   "name": "python3"
  },
  "language_info": {
   "codemirror_mode": {
    "name": "ipython",
    "version": 3
   },
   "file_extension": ".py",
   "mimetype": "text/x-python",
   "name": "python",
   "nbconvert_exporter": "python",
   "pygments_lexer": "ipython3",
   "version": "3.6.13"
  }
 },
 "nbformat": 4,
 "nbformat_minor": 1
}