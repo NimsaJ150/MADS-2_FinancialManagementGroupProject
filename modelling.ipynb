{
 "cells": [
  {
   "cell_type": "code",
   "execution_count": 1,
   "metadata": {
    "collapsed": true
   },
   "outputs": [],
   "source": [
    "import numpy as np\n",
    "import pandas as pd\n",
    "from sklearn.preprocessing import OneHotEncoder\n",
    "import openpyxl\n",
    "from sklearn.linear_model import LinearRegression"
   ]
  },
  {
   "cell_type": "markdown",
   "source": [
    "# Load data"
   ],
   "metadata": {
    "collapsed": false,
    "pycharm": {
     "name": "#%% md\n"
    }
   }
  },
  {
   "cell_type": "code",
   "execution_count": 11,
   "outputs": [
    {
     "name": "stderr",
     "output_type": "stream",
     "text": [
      "/Users/jasmincapka/IdeaProjects/MADS/venv/lib/python3.9/site-packages/IPython/core/interactiveshell.py:3441: DtypeWarning: Columns (87,88,93) have mixed types.Specify dtype option on import or set low_memory=False.\n",
      "  exec(code_obj, self.user_global_ns, self.user_ns)\n"
     ]
    }
   ],
   "source": [
    "# import data\n",
    "company_data_raw = pd.read_csv(\"data/GSFM_CRSP_Compustat_2006_-_2021.csv\")\n",
    "ceo_data_raw = pd.read_csv(\"data/py3mgn6xhyhchn42.csv\")  # \"data/Data_by_CEO.xlsx\", )"
   ],
   "metadata": {
    "collapsed": false,
    "pycharm": {
     "name": "#%%\n"
    }
   }
  },
  {
   "cell_type": "code",
   "execution_count": 12,
   "outputs": [
    {
     "data": {
      "text/plain": "   GVKEY LINKPRIM  LIID LINKTYPE  LPERMNO  LPERMCO    LINKDT LINKENDDT  \\\n0   1004        P     1       LU    54594    20000  19720424         E   \n1   1004        P     1       LU    54594    20000  19720424         E   \n2   1004        P     1       LU    54594    20000  19720424         E   \n3   1004        P     1       LU    54594    20000  19720424         E   \n4   1004        P     1       LU    54594    20000  19720424         E   \n\n   datadate   fyear  ... priusa     sic spcindcd spcseccd spcsrc state stko  \\\n0  20070531  2006.0  ...      1  5080.0    110.0    925.0      B    IL  0.0   \n1  20080531  2007.0  ...      1  5080.0    110.0    925.0      B    IL  0.0   \n2  20090531  2008.0  ...      1  5080.0    110.0    925.0      B    IL  0.0   \n3  20100531  2009.0  ...      1  5080.0    110.0    925.0      B    IL  0.0   \n4  20110531  2010.0  ...      1  5080.0    110.0    925.0      B    IL  0.0   \n\n            weburl dldte     ipodate  \n0  www.aarcorp.com   NaN  19880101.0  \n1  www.aarcorp.com   NaN  19880101.0  \n2  www.aarcorp.com   NaN  19880101.0  \n3  www.aarcorp.com   NaN  19880101.0  \n4  www.aarcorp.com   NaN  19880101.0  \n\n[5 rows x 119 columns]",
      "text/html": "<div>\n<style scoped>\n    .dataframe tbody tr th:only-of-type {\n        vertical-align: middle;\n    }\n\n    .dataframe tbody tr th {\n        vertical-align: top;\n    }\n\n    .dataframe thead th {\n        text-align: right;\n    }\n</style>\n<table border=\"1\" class=\"dataframe\">\n  <thead>\n    <tr style=\"text-align: right;\">\n      <th></th>\n      <th>GVKEY</th>\n      <th>LINKPRIM</th>\n      <th>LIID</th>\n      <th>LINKTYPE</th>\n      <th>LPERMNO</th>\n      <th>LPERMCO</th>\n      <th>LINKDT</th>\n      <th>LINKENDDT</th>\n      <th>datadate</th>\n      <th>fyear</th>\n      <th>...</th>\n      <th>priusa</th>\n      <th>sic</th>\n      <th>spcindcd</th>\n      <th>spcseccd</th>\n      <th>spcsrc</th>\n      <th>state</th>\n      <th>stko</th>\n      <th>weburl</th>\n      <th>dldte</th>\n      <th>ipodate</th>\n    </tr>\n  </thead>\n  <tbody>\n    <tr>\n      <th>0</th>\n      <td>1004</td>\n      <td>P</td>\n      <td>1</td>\n      <td>LU</td>\n      <td>54594</td>\n      <td>20000</td>\n      <td>19720424</td>\n      <td>E</td>\n      <td>20070531</td>\n      <td>2006.0</td>\n      <td>...</td>\n      <td>1</td>\n      <td>5080.0</td>\n      <td>110.0</td>\n      <td>925.0</td>\n      <td>B</td>\n      <td>IL</td>\n      <td>0.0</td>\n      <td>www.aarcorp.com</td>\n      <td>NaN</td>\n      <td>19880101.0</td>\n    </tr>\n    <tr>\n      <th>1</th>\n      <td>1004</td>\n      <td>P</td>\n      <td>1</td>\n      <td>LU</td>\n      <td>54594</td>\n      <td>20000</td>\n      <td>19720424</td>\n      <td>E</td>\n      <td>20080531</td>\n      <td>2007.0</td>\n      <td>...</td>\n      <td>1</td>\n      <td>5080.0</td>\n      <td>110.0</td>\n      <td>925.0</td>\n      <td>B</td>\n      <td>IL</td>\n      <td>0.0</td>\n      <td>www.aarcorp.com</td>\n      <td>NaN</td>\n      <td>19880101.0</td>\n    </tr>\n    <tr>\n      <th>2</th>\n      <td>1004</td>\n      <td>P</td>\n      <td>1</td>\n      <td>LU</td>\n      <td>54594</td>\n      <td>20000</td>\n      <td>19720424</td>\n      <td>E</td>\n      <td>20090531</td>\n      <td>2008.0</td>\n      <td>...</td>\n      <td>1</td>\n      <td>5080.0</td>\n      <td>110.0</td>\n      <td>925.0</td>\n      <td>B</td>\n      <td>IL</td>\n      <td>0.0</td>\n      <td>www.aarcorp.com</td>\n      <td>NaN</td>\n      <td>19880101.0</td>\n    </tr>\n    <tr>\n      <th>3</th>\n      <td>1004</td>\n      <td>P</td>\n      <td>1</td>\n      <td>LU</td>\n      <td>54594</td>\n      <td>20000</td>\n      <td>19720424</td>\n      <td>E</td>\n      <td>20100531</td>\n      <td>2009.0</td>\n      <td>...</td>\n      <td>1</td>\n      <td>5080.0</td>\n      <td>110.0</td>\n      <td>925.0</td>\n      <td>B</td>\n      <td>IL</td>\n      <td>0.0</td>\n      <td>www.aarcorp.com</td>\n      <td>NaN</td>\n      <td>19880101.0</td>\n    </tr>\n    <tr>\n      <th>4</th>\n      <td>1004</td>\n      <td>P</td>\n      <td>1</td>\n      <td>LU</td>\n      <td>54594</td>\n      <td>20000</td>\n      <td>19720424</td>\n      <td>E</td>\n      <td>20110531</td>\n      <td>2010.0</td>\n      <td>...</td>\n      <td>1</td>\n      <td>5080.0</td>\n      <td>110.0</td>\n      <td>925.0</td>\n      <td>B</td>\n      <td>IL</td>\n      <td>0.0</td>\n      <td>www.aarcorp.com</td>\n      <td>NaN</td>\n      <td>19880101.0</td>\n    </tr>\n  </tbody>\n</table>\n<p>5 rows × 119 columns</p>\n</div>"
     },
     "execution_count": 12,
     "metadata": {},
     "output_type": "execute_result"
    }
   ],
   "source": [
    "company_data_raw.head()"
   ],
   "metadata": {
    "collapsed": false,
    "pycharm": {
     "name": "#%%\n"
    }
   }
  },
  {
   "cell_type": "code",
   "execution_count": 13,
   "outputs": [
    {
     "data": {
      "text/plain": "   GVKEY LINKPRIM  LIID LINKTYPE  LPERMNO  LPERMCO    LINKDT LINKENDDT  \\\n0   1004        P     1       LU    54594    20000  19720424         E   \n1   1004        P     1       LU    54594    20000  19720424         E   \n2   1004        P     1       LU    54594    20000  19720424         E   \n3   1004        P     1       LU    54594    20000  19720424         E   \n4   1004        P     1       LU    54594    20000  19720424         E   \n\n   datadate   fyear  ... priusa     sic spcindcd spcseccd spcsrc state stko  \\\n0  20070531  2006.0  ...      1  5080.0    110.0    925.0      B    IL  0.0   \n1  20080531  2007.0  ...      1  5080.0    110.0    925.0      B    IL  0.0   \n2  20090531  2008.0  ...      1  5080.0    110.0    925.0      B    IL  0.0   \n3  20100531  2009.0  ...      1  5080.0    110.0    925.0      B    IL  0.0   \n4  20110531  2010.0  ...      1  5080.0    110.0    925.0      B    IL  0.0   \n\n            weburl dldte     ipodate  \n0  www.aarcorp.com   NaN  19880101.0  \n1  www.aarcorp.com   NaN  19880101.0  \n2  www.aarcorp.com   NaN  19880101.0  \n3  www.aarcorp.com   NaN  19880101.0  \n4  www.aarcorp.com   NaN  19880101.0  \n\n[5 rows x 119 columns]",
      "text/html": "<div>\n<style scoped>\n    .dataframe tbody tr th:only-of-type {\n        vertical-align: middle;\n    }\n\n    .dataframe tbody tr th {\n        vertical-align: top;\n    }\n\n    .dataframe thead th {\n        text-align: right;\n    }\n</style>\n<table border=\"1\" class=\"dataframe\">\n  <thead>\n    <tr style=\"text-align: right;\">\n      <th></th>\n      <th>GVKEY</th>\n      <th>LINKPRIM</th>\n      <th>LIID</th>\n      <th>LINKTYPE</th>\n      <th>LPERMNO</th>\n      <th>LPERMCO</th>\n      <th>LINKDT</th>\n      <th>LINKENDDT</th>\n      <th>datadate</th>\n      <th>fyear</th>\n      <th>...</th>\n      <th>priusa</th>\n      <th>sic</th>\n      <th>spcindcd</th>\n      <th>spcseccd</th>\n      <th>spcsrc</th>\n      <th>state</th>\n      <th>stko</th>\n      <th>weburl</th>\n      <th>dldte</th>\n      <th>ipodate</th>\n    </tr>\n  </thead>\n  <tbody>\n    <tr>\n      <th>0</th>\n      <td>1004</td>\n      <td>P</td>\n      <td>1</td>\n      <td>LU</td>\n      <td>54594</td>\n      <td>20000</td>\n      <td>19720424</td>\n      <td>E</td>\n      <td>20070531</td>\n      <td>2006.0</td>\n      <td>...</td>\n      <td>1</td>\n      <td>5080.0</td>\n      <td>110.0</td>\n      <td>925.0</td>\n      <td>B</td>\n      <td>IL</td>\n      <td>0.0</td>\n      <td>www.aarcorp.com</td>\n      <td>NaN</td>\n      <td>19880101.0</td>\n    </tr>\n    <tr>\n      <th>1</th>\n      <td>1004</td>\n      <td>P</td>\n      <td>1</td>\n      <td>LU</td>\n      <td>54594</td>\n      <td>20000</td>\n      <td>19720424</td>\n      <td>E</td>\n      <td>20080531</td>\n      <td>2007.0</td>\n      <td>...</td>\n      <td>1</td>\n      <td>5080.0</td>\n      <td>110.0</td>\n      <td>925.0</td>\n      <td>B</td>\n      <td>IL</td>\n      <td>0.0</td>\n      <td>www.aarcorp.com</td>\n      <td>NaN</td>\n      <td>19880101.0</td>\n    </tr>\n    <tr>\n      <th>2</th>\n      <td>1004</td>\n      <td>P</td>\n      <td>1</td>\n      <td>LU</td>\n      <td>54594</td>\n      <td>20000</td>\n      <td>19720424</td>\n      <td>E</td>\n      <td>20090531</td>\n      <td>2008.0</td>\n      <td>...</td>\n      <td>1</td>\n      <td>5080.0</td>\n      <td>110.0</td>\n      <td>925.0</td>\n      <td>B</td>\n      <td>IL</td>\n      <td>0.0</td>\n      <td>www.aarcorp.com</td>\n      <td>NaN</td>\n      <td>19880101.0</td>\n    </tr>\n    <tr>\n      <th>3</th>\n      <td>1004</td>\n      <td>P</td>\n      <td>1</td>\n      <td>LU</td>\n      <td>54594</td>\n      <td>20000</td>\n      <td>19720424</td>\n      <td>E</td>\n      <td>20100531</td>\n      <td>2009.0</td>\n      <td>...</td>\n      <td>1</td>\n      <td>5080.0</td>\n      <td>110.0</td>\n      <td>925.0</td>\n      <td>B</td>\n      <td>IL</td>\n      <td>0.0</td>\n      <td>www.aarcorp.com</td>\n      <td>NaN</td>\n      <td>19880101.0</td>\n    </tr>\n    <tr>\n      <th>4</th>\n      <td>1004</td>\n      <td>P</td>\n      <td>1</td>\n      <td>LU</td>\n      <td>54594</td>\n      <td>20000</td>\n      <td>19720424</td>\n      <td>E</td>\n      <td>20110531</td>\n      <td>2010.0</td>\n      <td>...</td>\n      <td>1</td>\n      <td>5080.0</td>\n      <td>110.0</td>\n      <td>925.0</td>\n      <td>B</td>\n      <td>IL</td>\n      <td>0.0</td>\n      <td>www.aarcorp.com</td>\n      <td>NaN</td>\n      <td>19880101.0</td>\n    </tr>\n  </tbody>\n</table>\n<p>5 rows × 119 columns</p>\n</div>"
     },
     "execution_count": 13,
     "metadata": {},
     "output_type": "execute_result"
    }
   ],
   "source": [
    "company_data_raw.head()"
   ],
   "metadata": {
    "collapsed": false,
    "pycharm": {
     "name": "#%%\n"
    }
   }
  },
  {
   "cell_type": "code",
   "execution_count": 14,
   "outputs": [],
   "source": [
    "company_data_raw_columns = company_data_raw.columns\n",
    "company_cols = ['GVKEY', 'prcc_f', 'ajex', 'ajp', 'fyear']"
   ],
   "metadata": {
    "collapsed": false,
    "pycharm": {
     "name": "#%%\n"
    }
   }
  },
  {
   "cell_type": "code",
   "execution_count": 15,
   "outputs": [],
   "source": [
    "ceo_data_raw_columns = ceo_data_raw.columns\n",
    "ceo_cols = ['GVKEY', 'CO_PER_ROL', 'YEAR', 'AGE', 'BECAMECEO', 'TITLE', 'PCEO']"
   ],
   "metadata": {
    "collapsed": false,
    "pycharm": {
     "name": "#%%\n"
    }
   }
  },
  {
   "cell_type": "code",
   "execution_count": 16,
   "outputs": [],
   "source": [
    "# filter data\n",
    "company_data = company_data_raw[company_cols]\n",
    "\n",
    "ceo_data = ceo_data_raw[ceo_cols]\n",
    "a = ceo_data[ceo_data.PCEO == \"CEO\"]"
   ],
   "metadata": {
    "collapsed": false,
    "pycharm": {
     "name": "#%%\n"
    }
   }
  },
  {
   "cell_type": "code",
   "execution_count": 17,
   "outputs": [],
   "source": [
    "# join data\n",
    "data_joined = ceo_data.join(company_data.set_index(['GVKEY', 'fyear']), on=['GVKEY', 'YEAR'], how='left', lsuffix='',\n",
    "                            rsuffix='', sort=False)"
   ],
   "metadata": {
    "collapsed": false,
    "pycharm": {
     "name": "#%%\n"
    }
   }
  },
  {
   "cell_type": "markdown",
   "source": [
    "# Preprocess data"
   ],
   "metadata": {
    "collapsed": false
   }
  },
  {
   "cell_type": "code",
   "execution_count": 18,
   "outputs": [
    {
     "data": {
      "text/plain": "         GVKEY CO_PER_ROL  YEAR   AGE   BECAMECEO                      TITLE  \\\n45        1004      51547  2014  38.0  20180601.0  ceo, president & director   \n51        1004      51547  2015  39.0  20180601.0  ceo, president & director   \n57        1004      51547  2016  40.0  20180601.0  ceo, president & director   \n62        1004      51547  2017  41.0  20180601.0  ceo, president & director   \n66        1004      51547  2018  42.0  20180601.0  ceo, president & director   \n...        ...        ...   ...   ...         ...                        ...   \n167905  326688      62002  2019  54.0  20180430.0             ceo & director   \n167912  326688      62002  2020  55.0  20180430.0             ceo & director   \n167921  328795      61546  2018  52.0  20181101.0  president, ceo & director   \n167926  328795      61546  2019  53.0  20181101.0  president, ceo & director   \n167932  328795      61546  2020  54.0  20181101.0  president, ceo & director   \n\n       PCEO prcc_f ajex  ajp  \n45      ceo  29.54  1.0  1.0  \n51      ceo  24.41  1.0  1.0  \n57      ceo  34.94  1.0  1.0  \n62      ceo  44.69  1.0  1.0  \n66      ceo  30.09  1.0  1.0  \n...     ...    ...  ...  ...  \n167905  ceo  25.58  1.0  1.0  \n167912  ceo  23.29  1.0  1.0  \n167921  ceo  27.69  1.0  1.0  \n167926  ceo  44.55  1.0  1.0  \n167932  ceo  54.93  1.0  1.0  \n\n[20728 rows x 10 columns]",
      "text/html": "<div>\n<style scoped>\n    .dataframe tbody tr th:only-of-type {\n        vertical-align: middle;\n    }\n\n    .dataframe tbody tr th {\n        vertical-align: top;\n    }\n\n    .dataframe thead th {\n        text-align: right;\n    }\n</style>\n<table border=\"1\" class=\"dataframe\">\n  <thead>\n    <tr style=\"text-align: right;\">\n      <th></th>\n      <th>GVKEY</th>\n      <th>CO_PER_ROL</th>\n      <th>YEAR</th>\n      <th>AGE</th>\n      <th>BECAMECEO</th>\n      <th>TITLE</th>\n      <th>PCEO</th>\n      <th>prcc_f</th>\n      <th>ajex</th>\n      <th>ajp</th>\n    </tr>\n  </thead>\n  <tbody>\n    <tr>\n      <th>45</th>\n      <td>1004</td>\n      <td>51547</td>\n      <td>2014</td>\n      <td>38.0</td>\n      <td>20180601.0</td>\n      <td>ceo, president &amp; director</td>\n      <td>ceo</td>\n      <td>29.54</td>\n      <td>1.0</td>\n      <td>1.0</td>\n    </tr>\n    <tr>\n      <th>51</th>\n      <td>1004</td>\n      <td>51547</td>\n      <td>2015</td>\n      <td>39.0</td>\n      <td>20180601.0</td>\n      <td>ceo, president &amp; director</td>\n      <td>ceo</td>\n      <td>24.41</td>\n      <td>1.0</td>\n      <td>1.0</td>\n    </tr>\n    <tr>\n      <th>57</th>\n      <td>1004</td>\n      <td>51547</td>\n      <td>2016</td>\n      <td>40.0</td>\n      <td>20180601.0</td>\n      <td>ceo, president &amp; director</td>\n      <td>ceo</td>\n      <td>34.94</td>\n      <td>1.0</td>\n      <td>1.0</td>\n    </tr>\n    <tr>\n      <th>62</th>\n      <td>1004</td>\n      <td>51547</td>\n      <td>2017</td>\n      <td>41.0</td>\n      <td>20180601.0</td>\n      <td>ceo, president &amp; director</td>\n      <td>ceo</td>\n      <td>44.69</td>\n      <td>1.0</td>\n      <td>1.0</td>\n    </tr>\n    <tr>\n      <th>66</th>\n      <td>1004</td>\n      <td>51547</td>\n      <td>2018</td>\n      <td>42.0</td>\n      <td>20180601.0</td>\n      <td>ceo, president &amp; director</td>\n      <td>ceo</td>\n      <td>30.09</td>\n      <td>1.0</td>\n      <td>1.0</td>\n    </tr>\n    <tr>\n      <th>...</th>\n      <td>...</td>\n      <td>...</td>\n      <td>...</td>\n      <td>...</td>\n      <td>...</td>\n      <td>...</td>\n      <td>...</td>\n      <td>...</td>\n      <td>...</td>\n      <td>...</td>\n    </tr>\n    <tr>\n      <th>167905</th>\n      <td>326688</td>\n      <td>62002</td>\n      <td>2019</td>\n      <td>54.0</td>\n      <td>20180430.0</td>\n      <td>ceo &amp; director</td>\n      <td>ceo</td>\n      <td>25.58</td>\n      <td>1.0</td>\n      <td>1.0</td>\n    </tr>\n    <tr>\n      <th>167912</th>\n      <td>326688</td>\n      <td>62002</td>\n      <td>2020</td>\n      <td>55.0</td>\n      <td>20180430.0</td>\n      <td>ceo &amp; director</td>\n      <td>ceo</td>\n      <td>23.29</td>\n      <td>1.0</td>\n      <td>1.0</td>\n    </tr>\n    <tr>\n      <th>167921</th>\n      <td>328795</td>\n      <td>61546</td>\n      <td>2018</td>\n      <td>52.0</td>\n      <td>20181101.0</td>\n      <td>president, ceo &amp; director</td>\n      <td>ceo</td>\n      <td>27.69</td>\n      <td>1.0</td>\n      <td>1.0</td>\n    </tr>\n    <tr>\n      <th>167926</th>\n      <td>328795</td>\n      <td>61546</td>\n      <td>2019</td>\n      <td>53.0</td>\n      <td>20181101.0</td>\n      <td>president, ceo &amp; director</td>\n      <td>ceo</td>\n      <td>44.55</td>\n      <td>1.0</td>\n      <td>1.0</td>\n    </tr>\n    <tr>\n      <th>167932</th>\n      <td>328795</td>\n      <td>61546</td>\n      <td>2020</td>\n      <td>54.0</td>\n      <td>20181101.0</td>\n      <td>president, ceo &amp; director</td>\n      <td>ceo</td>\n      <td>54.93</td>\n      <td>1.0</td>\n      <td>1.0</td>\n    </tr>\n  </tbody>\n</table>\n<p>20728 rows × 10 columns</p>\n</div>"
     },
     "execution_count": 18,
     "metadata": {},
     "output_type": "execute_result"
    }
   ],
   "source": [
    "# drop nan in prcc_f or ajex/ajp columns\n",
    "data_joined.dropna(inplace=True)\n",
    "\n",
    "data_joined.apply(lambda x: x.astype(str).str.lower())"
   ],
   "metadata": {
    "collapsed": false,
    "pycharm": {
     "name": "#%%\n"
    }
   }
  },
  {
   "cell_type": "code",
   "execution_count": 19,
   "outputs": [],
   "source": [
    "# Chairman, President, Founder\n",
    "\n",
    "# founder - 1, otherwise 0\n",
    "if_founder = data_joined['TITLE'].str.contains('founder')\n",
    "data_joined['dummy_founder'] = if_founder\n",
    "\n",
    "# president - 1, otherwise 0\n",
    "if_president = data_joined['TITLE'].str.contains('president')\n",
    "data_joined['dummy_president'] = if_founder\n",
    "\n",
    "# chairman - 1, otherwise 0\n",
    "if_chairman = data_joined['TITLE'].str.contains('chairman')\n",
    "data_joined['dummy_chairman'] = if_founder\n",
    "\n",
    "# chairman + president - 1, otherwise 0\n",
    "data_joined['dummy_chairman_president'] = data_joined['TITLE'].str.contains('|'.join(['chairmam', 'president']))"
   ],
   "metadata": {
    "collapsed": false,
    "pycharm": {
     "name": "#%%\n"
    }
   }
  },
  {
   "cell_type": "code",
   "execution_count": 20,
   "outputs": [],
   "source": [
    "# drop columns only important for joining\n",
    "data_joined.drop(['GVKEY', 'CO_PER_ROL', 'PCEO', 'ajex', 'ajp', 'TITLE'], axis=1, inplace=True)"
   ],
   "metadata": {
    "collapsed": false,
    "pycharm": {
     "name": "#%%\n"
    }
   }
  },
  {
   "cell_type": "markdown",
   "source": [
    "# Additional Features"
   ],
   "metadata": {
    "collapsed": false
   }
  },
  {
   "cell_type": "code",
   "execution_count": 21,
   "outputs": [],
   "source": [
    "# how many years as CEO - ceo_tenure\n",
    "# how many years working there -\n",
    "# percentage change in stock prices\n",
    "\n",
    "# -> group for single CEOs - avg_change_in_sp"
   ],
   "metadata": {
    "collapsed": false,
    "pycharm": {
     "name": "#%%\n"
    }
   }
  },
  {
   "cell_type": "markdown",
   "source": [
    "# Linear regression"
   ],
   "metadata": {
    "collapsed": false
   }
  },
  {
   "cell_type": "code",
   "execution_count": 22,
   "outputs": [],
   "source": [
    "X = data_joined.drop('prcc_f', axis=1)\n",
    "y = data_joined['prcc_f']\n",
    "lr = LinearRegression()"
   ],
   "metadata": {
    "collapsed": false,
    "pycharm": {
     "name": "#%%\n"
    }
   }
  },
  {
   "cell_type": "code",
   "execution_count": 23,
   "outputs": [
    {
     "data": {
      "text/plain": "array([-8.57930153e+00,  1.24747785e+01, -1.61859352e-03, -7.34272025e+01,\n       -7.34272025e+01, -7.34272025e+01, -2.64186270e+02])"
     },
     "execution_count": 23,
     "metadata": {},
     "output_type": "execute_result"
    }
   ],
   "source": [
    "lr.fit(X, y)\n",
    "lr.coef_"
   ],
   "metadata": {
    "collapsed": false,
    "pycharm": {
     "name": "#%%\n"
    }
   }
  },
  {
   "cell_type": "code",
   "execution_count": 24,
   "outputs": [
    {
     "data": {
      "text/plain": "                          0           0\n0                      YEAR   -8.579302\n1                       AGE   12.474778\n2                 BECAMECEO   -0.001619\n3             dummy_founder  -73.427203\n4           dummy_president  -73.427203\n5            dummy_chairman  -73.427203\n6  dummy_chairman_president -264.186270",
      "text/html": "<div>\n<style scoped>\n    .dataframe tbody tr th:only-of-type {\n        vertical-align: middle;\n    }\n\n    .dataframe tbody tr th {\n        vertical-align: top;\n    }\n\n    .dataframe thead th {\n        text-align: right;\n    }\n</style>\n<table border=\"1\" class=\"dataframe\">\n  <thead>\n    <tr style=\"text-align: right;\">\n      <th></th>\n      <th>0</th>\n      <th>0</th>\n    </tr>\n  </thead>\n  <tbody>\n    <tr>\n      <th>0</th>\n      <td>YEAR</td>\n      <td>-8.579302</td>\n    </tr>\n    <tr>\n      <th>1</th>\n      <td>AGE</td>\n      <td>12.474778</td>\n    </tr>\n    <tr>\n      <th>2</th>\n      <td>BECAMECEO</td>\n      <td>-0.001619</td>\n    </tr>\n    <tr>\n      <th>3</th>\n      <td>dummy_founder</td>\n      <td>-73.427203</td>\n    </tr>\n    <tr>\n      <th>4</th>\n      <td>dummy_president</td>\n      <td>-73.427203</td>\n    </tr>\n    <tr>\n      <th>5</th>\n      <td>dummy_chairman</td>\n      <td>-73.427203</td>\n    </tr>\n    <tr>\n      <th>6</th>\n      <td>dummy_chairman_president</td>\n      <td>-264.186270</td>\n    </tr>\n  </tbody>\n</table>\n</div>"
     },
     "execution_count": 24,
     "metadata": {},
     "output_type": "execute_result"
    }
   ],
   "source": [
    "coefficients = pd.concat([pd.DataFrame(X.columns), pd.DataFrame(np.transpose(lr.coef_))], axis=1)\n",
    "coefficients"
   ],
   "metadata": {
    "collapsed": false,
    "pycharm": {
     "name": "#%%\n"
    }
   }
  },
  {
   "cell_type": "code",
   "execution_count": null,
   "outputs": [],
   "source": [],
   "metadata": {
    "collapsed": false,
    "pycharm": {
     "name": "#%%\n"
    }
   }
  }
 ],
 "metadata": {
  "kernelspec": {
   "display_name": "Python 3",
   "language": "python",
   "name": "python3"
  },
  "language_info": {
   "codemirror_mode": {
    "name": "ipython",
    "version": 2
   },
   "file_extension": ".py",
   "mimetype": "text/x-python",
   "name": "python",
   "nbconvert_exporter": "python",
   "pygments_lexer": "ipython2",
   "version": "2.7.6"
  }
 },
 "nbformat": 4,
 "nbformat_minor": 0
}